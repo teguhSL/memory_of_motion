{
 "cells": [
  {
   "cell_type": "code",
   "execution_count": 1,
   "metadata": {},
   "outputs": [],
   "source": [
    "import numpy as np\n",
    "import pickle\n",
    "import os\n",
    "from pinocchio.libpinocchio_pywrap import SE3\n",
    "from database import *\n",
    "from croc_lib import *\n",
    "import crocoddyl\n",
    "import matplotlib.pyplot as plt\n",
    "from crocoddyl import loadTalos\n",
    "%load_ext autoreload\n",
    "%autoreload 2"
   ]
  },
  {
   "cell_type": "code",
   "execution_count": 2,
   "metadata": {},
   "outputs": [],
   "source": [
    "from memmo_utils import Visual\n",
    "viz = Visual(rate=25)"
   ]
  },
  {
   "cell_type": "markdown",
   "metadata": {},
   "source": [
    "### Previous Version"
   ]
  },
  {
   "cell_type": "raw",
   "metadata": {},
   "source": [
    "from database_prev import *\n",
    "\n",
    "croc_timestep = 0.0375\n",
    "loco_timestep = 0.005\n",
    "sub_fac = croc_timestep/loco_timestep #difference in time scale between locobox and crocoddyl\n",
    "time_offset = 100\n",
    "\n",
    "FILENAME = 'data/sample_data_teguh'\n",
    "\n",
    "rfs, lfs, timesteps = extract_contact_sequence(FILENAME)\n",
    "trajs = extract_traj(FILENAME + '/talos_flatGround_config.csv', timesteps, sub_fac, time_offset)\n",
    "vel_trajs = extract_traj(FILENAME + '/talos_flatGround_vel.csv', timesteps, sub_fac, time_offset)\n",
    "#subsample to crocoddyl timescale\n",
    "timesteps = np.round(np.array(timesteps)/sub_fac).astype(int)\n",
    "\n",
    "### Store into the format of crocoddyl\n",
    "\n",
    "data_phases1 = store_for_crocoddyl(timesteps, lfs, rfs, trajs, vel_trajs, croc_timestep)\n",
    "pickle.dump(phases,open('data_teguh_3.txt','wb'))"
   ]
  },
  {
   "cell_type": "markdown",
   "metadata": {},
   "source": [
    "### Current Version "
   ]
  },
  {
   "cell_type": "markdown",
   "metadata": {},
   "source": [
    "#### Read from the dataset"
   ]
  },
  {
   "cell_type": "code",
   "execution_count": 3,
   "metadata": {},
   "outputs": [],
   "source": [
    "#FILE_CAT = 'talos_moveEffector_flat'\n",
    "FILE_CAT = 'talos_circle'\n",
    "#FILE_CAT = 'talos_circle_oriented'\n",
    "ROOT = '/media/teguh/Data/MEMMO Dataset/' + FILE_CAT + '/'\n",
    "ROOT_PROCESSED = '/media/teguh/Data/MEMMO Dataset/processed_data/' + FILE_CAT + '/'\n",
    "\n",
    "file_names = os.listdir(ROOT)"
   ]
  },
  {
   "cell_type": "code",
   "execution_count": 4,
   "metadata": {},
   "outputs": [],
   "source": [
    "np.set_printoptions(precision=4,suppress=True)"
   ]
  },
  {
   "cell_type": "raw",
   "metadata": {},
   "source": [
    "a = np.load(ROOT+filename + '/res/' + FILE_CAT + '.npz',allow_pickle = True)"
   ]
  },
  {
   "cell_type": "code",
   "execution_count": 8,
   "metadata": {},
   "outputs": [],
   "source": [
    "viz.set_rate(1000)"
   ]
  },
  {
   "cell_type": "code",
   "execution_count": 9,
   "metadata": {},
   "outputs": [
    {
     "name": "stdout",
     "output_type": "stream",
     "text": [
      "Result constructor called without contactSequence object, phase_interval member not initialized\n",
      "Obtain a valid trajectory file!\n",
      "(7051, 39)\n"
     ]
    }
   ],
   "source": [
    "for j in range(10):\n",
    "    i = np.random.randint(len(file_names))\n",
    "    filename = file_names[i]\n",
    "    try:\n",
    "        traj, vel_traj, u_traj, T_lefts, T_rights, data_phases, delta_t, stat, \\\n",
    "        res = extract_from_dataset(ROOT+filename, FILE_CAT, False, 1, version='v1.0')\n",
    "        break\n",
    "    except:\n",
    "        print 'Fail'\n",
    "        continue\n",
    "\n",
    "\n",
    "viz.vis_traj(traj)"
   ]
  },
  {
   "cell_type": "markdown",
   "metadata": {},
   "source": [
    "#### Plot the root or COM trajectories"
   ]
  },
  {
   "cell_type": "raw",
   "metadata": {},
   "source": [
    "c_traj = np.array(res.c_t).T\n",
    "traj = np.array(res.q_t).T\n",
    "plt.subplot(2,2,1)\n",
    "plt.plot(c_traj[:,0], c_traj[:,1])\n",
    "plt.subplot(2,2,2)\n",
    "plt.plot(traj[:,0], traj[:,1])\n",
    "plt.subplot(2,2,3)\n",
    "plt.plot(c_traj[:,2])\n",
    "plt.subplot(2,2,4)\n",
    "plt.plot(traj[:,2])\n",
    "\n",
    "for i in range(3):\n",
    "    cur_traj = traj[data_phases_sub[i]]\n",
    "    plt.plot(cur_traj[:,0], cur_traj[:,1])"
   ]
  },
  {
   "cell_type": "markdown",
   "metadata": {},
   "source": [
    "#### Store into the format of crocoddyl"
   ]
  },
  {
   "cell_type": "code",
   "execution_count": null,
   "metadata": {},
   "outputs": [],
   "source": [
    "phases = store_for_crocoddyl(timesteps, lfs, rfs, trajs, vel_trajs, croc_timestep)\n",
    "pickle.dump(phases,open('data/croc_prob_files/' + file_name ,'wb'))"
   ]
  },
  {
   "cell_type": "code",
   "execution_count": 10,
   "metadata": {},
   "outputs": [
    {
     "ename": "NameError",
     "evalue": "name 'contact_act_left' is not defined",
     "output_type": "error",
     "traceback": [
      "\u001b[0;31m---------------------------------------------------------------------------\u001b[0m",
      "\u001b[0;31mNameError\u001b[0m                                 Traceback (most recent call last)",
      "\u001b[0;32m<ipython-input-10-34d31ddbbb7e>\u001b[0m in \u001b[0;36m<module>\u001b[0;34m()\u001b[0m\n\u001b[0;32m----> 1\u001b[0;31m \u001b[0mphases\u001b[0m \u001b[0;34m=\u001b[0m \u001b[0mstore_for_crocoddyl\u001b[0m\u001b[0;34m(\u001b[0m\u001b[0mtraj\u001b[0m\u001b[0;34m,\u001b[0m \u001b[0mvel_traj\u001b[0m\u001b[0;34m,\u001b[0m \u001b[0mu_traj\u001b[0m\u001b[0;34m,\u001b[0m \u001b[0mT_lefts\u001b[0m\u001b[0;34m,\u001b[0m \u001b[0mT_rights\u001b[0m\u001b[0;34m,\u001b[0m \u001b[0mcontact_act_left\u001b[0m\u001b[0;34m,\u001b[0m \u001b[0mcontact_act_right\u001b[0m\u001b[0;34m,\u001b[0m \u001b[0mdata_phases\u001b[0m\u001b[0;34m,\u001b[0m \u001b[0mdelta_t\u001b[0m\u001b[0;34m)\u001b[0m\u001b[0;34m\u001b[0m\u001b[0m\n\u001b[0m\u001b[1;32m      2\u001b[0m \u001b[0mpickle\u001b[0m\u001b[0;34m.\u001b[0m\u001b[0mdump\u001b[0m\u001b[0;34m(\u001b[0m\u001b[0mphases\u001b[0m\u001b[0;34m,\u001b[0m\u001b[0mopen\u001b[0m\u001b[0;34m(\u001b[0m\u001b[0;34m'data_teguh_3.txt'\u001b[0m\u001b[0;34m,\u001b[0m\u001b[0;34m'wb'\u001b[0m\u001b[0;34m)\u001b[0m\u001b[0;34m)\u001b[0m\u001b[0;34m\u001b[0m\u001b[0m\n",
      "\u001b[0;31mNameError\u001b[0m: name 'contact_act_left' is not defined"
     ]
    }
   ],
   "source": [
    "phases = store_for_crocoddyl(traj, vel_traj, u_traj, T_lefts, T_rights, contact_act_left, contact_act_right, data_phases, delta_t)\n",
    "pickle.dump(phases,open('data_teguh_3.txt','wb'))"
   ]
  },
  {
   "cell_type": "markdown",
   "metadata": {},
   "source": [
    "### Run Crocoddyl "
   ]
  },
  {
   "cell_type": "code",
   "execution_count": 16,
   "metadata": {},
   "outputs": [
    {
     "name": "stdout",
     "output_type": "stream",
     "text": [
      "Building the set of action models and warmstart from Memmo\n",
      "phase 0:\n",
      "  nodes: 39\n",
      "  contacts:\n",
      "    suppport: ['right_sole_link', 'left_sole_link']\n",
      "    swing: []\n",
      "phase 1:\n",
      "  nodes: 35\n",
      "  contacts:\n",
      "    suppport: ['left_sole_link']\n",
      "    swing: ['right_sole_link']\n",
      "phase 2:\n",
      "  nodes: 37\n",
      "  contacts:\n",
      "    suppport: ['right_sole_link', 'left_sole_link']\n",
      "    swing: []\n",
      "\n",
      "*** SOLVE ***\n",
      "iter \t cost \t      stop \t    grad \t  xreg \t      ureg \t step \t feas\n",
      "   0  3.60707e+03  4.58755e+00  1.31552e+03  1.00000e-09  1.00000e-09   1.0000     1\n",
      "   1  2.01116e+03  2.33381e+01  3.76573e+03  1.00000e-09  1.00000e-09   1.0000     1\n",
      "   2  9.66521e+02  1.20531e+02  2.21085e+03  1.00000e-09  1.00000e-09   1.0000     1\n",
      "   3  7.70344e+02  3.65451e+01  9.55600e+02  1.00000e-09  1.00000e-09   1.0000     1\n",
      "   4  4.99688e+02  1.21254e+00  7.52229e+02  1.00000e-09  1.00000e-09   1.0000     1\n",
      "   5  3.19511e+02  7.71690e+00  3.78298e+02  1.00000e-09  1.00000e-09   1.0000     1\n",
      "   6  2.42841e+02  4.28191e+00  1.96047e+02  1.00000e-09  1.00000e-09   0.5000     1\n",
      "   7  2.00962e+02  1.13844e+00  1.52204e+02  1.00000e-09  1.00000e-09   1.0000     1\n",
      "   8  1.56455e+02  1.07430e+00  3.08032e+02  1.00000e-09  1.00000e-09   1.0000     1\n",
      "   9  4.47952e+01  4.30023e+00  2.29333e+02  1.00000e-09  1.00000e-09   1.0000     1\n",
      "iter \t cost \t      stop \t    grad \t  xreg \t      ureg \t step \t feas\n",
      "  10  3.45251e+01  2.43053e+00  2.05587e+01  1.00000e-09  1.00000e-09   1.0000     1\n",
      "  11  3.44756e+01  5.09497e-03  1.04755e-01  1.00000e-09  1.00000e-09   1.0000     1\n",
      "  12  3.44741e+01  4.29706e-06  4.15153e-03  1.00000e-09  1.00000e-09   1.0000     1\n"
     ]
    }
   ],
   "source": [
    "ROBOT = loadTalos('/opt/openrobots/share/example-robot-data')\n",
    "problem, xs, us, ts = define_croc_problem(ROBOT,'data_teguh_3.txt', num_phases=3, is_warmstart=True)\n",
    "\n",
    "solver = solve_problem(ROBOT,problem,xs, us,maxiter = 50, STOP_THRESHOLD=1e-03, recalc_u=True)\n",
    "traj = np.array(solver.xs)[:,0:39]\n",
    "viz.vis_traj(traj)"
   ]
  },
  {
   "cell_type": "raw",
   "metadata": {},
   "source": [
    "print problem.runningDatas[0].differential.costs.costs\n",
    "\n",
    "a = []\n",
    "for i in range(len(problem.runningDatas)):\n",
    "    if isinstance(problem.runningDatas[i], crocoddyl.impact.ActionDataImpact):\n",
    "        print problem.runningDatas[i].costs.costs\n",
    "        a.append(solver.problem.runningDatas[i].costs.costs)\n",
    "        print\n",
    "\n",
    "b =  a[0]['contactPlacement16']\n",
    "print b.cost\n",
    "\n",
    "a[1]['contactPlacement30'].cost"
   ]
  }
 ],
 "metadata": {
  "kernelspec": {
   "display_name": "Python 2",
   "language": "python",
   "name": "python2"
  },
  "language_info": {
   "codemirror_mode": {
    "name": "ipython",
    "version": 2
   },
   "file_extension": ".py",
   "mimetype": "text/x-python",
   "name": "python",
   "nbconvert_exporter": "python",
   "pygments_lexer": "ipython2",
   "version": "2.7.12"
  }
 },
 "nbformat": 4,
 "nbformat_minor": 2
}
