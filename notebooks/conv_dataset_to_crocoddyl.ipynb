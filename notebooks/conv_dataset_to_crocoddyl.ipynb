{
 "cells": [
  {
   "cell_type": "markdown",
   "metadata": {},
   "source": [
    "# Optimize the dataset using crocoddyl"
   ]
  },
  {
   "cell_type": "code",
   "execution_count": 6,
   "metadata": {},
   "outputs": [
    {
     "ename": "ImportError",
     "evalue": "cannot import name loadTalos",
     "output_type": "error",
     "traceback": [
      "\u001b[0;31m---------------------------------------------------------------------------\u001b[0m",
      "\u001b[0;31mImportError\u001b[0m                               Traceback (most recent call last)",
      "\u001b[0;32m<ipython-input-6-18a742c19923>\u001b[0m in \u001b[0;36m<module>\u001b[0;34m()\u001b[0m\n\u001b[1;32m      7\u001b[0m \u001b[0;32mfrom\u001b[0m \u001b[0mmemmo_utils\u001b[0m \u001b[0;32mimport\u001b[0m \u001b[0;34m*\u001b[0m\u001b[0;34m\u001b[0m\u001b[0m\n\u001b[1;32m      8\u001b[0m \u001b[0;32mfrom\u001b[0m \u001b[0mdatabase\u001b[0m \u001b[0;32mimport\u001b[0m \u001b[0;34m*\u001b[0m\u001b[0;34m\u001b[0m\u001b[0m\n\u001b[0;32m----> 9\u001b[0;31m \u001b[0;32mfrom\u001b[0m \u001b[0mcroc_lib\u001b[0m \u001b[0;32mimport\u001b[0m \u001b[0;34m*\u001b[0m\u001b[0;34m\u001b[0m\u001b[0m\n\u001b[0m\u001b[1;32m     10\u001b[0m \u001b[0;32mimport\u001b[0m \u001b[0mos\u001b[0m\u001b[0;34m\u001b[0m\u001b[0m\n\u001b[1;32m     11\u001b[0m \u001b[0;32mfrom\u001b[0m \u001b[0mgeometry_msgs\u001b[0m\u001b[0;34m.\u001b[0m\u001b[0mmsg\u001b[0m \u001b[0;32mimport\u001b[0m \u001b[0mQuaternion\u001b[0m\u001b[0;34m,\u001b[0m \u001b[0mPose\u001b[0m\u001b[0;34m,\u001b[0m \u001b[0mPoint\u001b[0m\u001b[0;34m,\u001b[0m \u001b[0mVector3\u001b[0m\u001b[0;34m\u001b[0m\u001b[0m\n",
      "\u001b[0;32m/home/teguh/git/memmo/memmo_talos/notebooks/croc_lib.py\u001b[0m in \u001b[0;36m<module>\u001b[0;34m()\u001b[0m\n\u001b[1;32m      3\u001b[0m \u001b[0;32mfrom\u001b[0m \u001b[0mcrocoddyl\u001b[0m \u001b[0;32mimport\u001b[0m \u001b[0mSolverFDDP\u001b[0m\u001b[0;34m\u001b[0m\u001b[0m\n\u001b[1;32m      4\u001b[0m \u001b[0;32mfrom\u001b[0m \u001b[0mcrocoddyl\u001b[0m \u001b[0;32mimport\u001b[0m \u001b[0mCallbackLogger\u001b[0m\u001b[0;34m,\u001b[0m \u001b[0mCallbackVerbose\u001b[0m\u001b[0;34m,\u001b[0m \u001b[0mCallbackDisplay\u001b[0m\u001b[0;34m\u001b[0m\u001b[0m\n\u001b[0;32m----> 5\u001b[0;31m \u001b[0;32mfrom\u001b[0m \u001b[0mcrocoddyl\u001b[0m \u001b[0;32mimport\u001b[0m \u001b[0mloadTalos\u001b[0m\u001b[0;34m,\u001b[0m \u001b[0mloadTalosLegs\u001b[0m\u001b[0;34m,\u001b[0m \u001b[0mloadHyQ\u001b[0m\u001b[0;34m,\u001b[0m \u001b[0mm2a\u001b[0m\u001b[0;34m\u001b[0m\u001b[0m\n\u001b[0m\u001b[1;32m      6\u001b[0m \u001b[0;32mfrom\u001b[0m \u001b[0mutils\u001b[0m \u001b[0;32mimport\u001b[0m \u001b[0mprintPhaseInfo\u001b[0m\u001b[0;34m,\u001b[0m \u001b[0msetWhiteBackground\u001b[0m\u001b[0;34m,\u001b[0m \u001b[0mdisplayPhaseMotion\u001b[0m\u001b[0;34m,\u001b[0m \u001b[0mdisplayContactPlacements\u001b[0m\u001b[0;34m\u001b[0m\u001b[0m\n\u001b[1;32m      7\u001b[0m \u001b[0;32mfrom\u001b[0m \u001b[0mutils\u001b[0m \u001b[0;32mimport\u001b[0m \u001b[0mrunningModel\u001b[0m\u001b[0;34m,\u001b[0m \u001b[0mimpactModel\u001b[0m\u001b[0;34m\u001b[0m\u001b[0m\n",
      "\u001b[0;31mImportError\u001b[0m: cannot import name loadTalos"
     ]
    }
   ],
   "source": [
    "import warnings\n",
    "warnings.filterwarnings('ignore')\n",
    "\n",
    "import numpy as np\n",
    "import roslib\n",
    "import tf\n",
    "from memmo_utils import *\n",
    "from database import *\n",
    "from croc_lib import *\n",
    "import os\n",
    "from geometry_msgs.msg import Quaternion, Pose, Point, Vector3\n",
    "from std_msgs.msg import Header, ColorRGBA\n",
    "import rospy\n",
    "import os\n",
    "from mlp.utils.status import Status\n",
    "import mlp.utils.wholebody_result as wb_res\n",
    "import matplotlib.pyplot as plt\n",
    "import pickle\n",
    "from IPython.display import clear_output\n",
    "\n",
    "from transforms3d import axangles\n",
    "from transforms3d import affines, quaternions\n",
    "\n",
    "from pykdl_utils.kdl_parser import kdl_tree_from_urdf_model\n",
    "from pykdl_utils.kdl_kinematics import KDLKinematics\n",
    "\n",
    "\n",
    "from regression import *\n",
    "\n",
    "np.set_printoptions(precision=4, suppress=True)\n",
    "\n",
    "%load_ext autoreload\n",
    "%autoreload 2\n",
    "\n",
    "\n",
    "FILE_NAME = 'learn_onestep'\n",
    "%matplotlib inline\n"
   ]
  },
  {
   "cell_type": "code",
   "execution_count": 8,
   "metadata": {},
   "outputs": [],
   "source": [
    "import crocoddyl.utils as utils"
   ]
  },
  {
   "cell_type": "markdown",
   "metadata": {},
   "source": [
    "### Start Instruction"
   ]
  },
  {
   "cell_type": "raw",
   "metadata": {},
   "source": [
    "os.system('roslaunch talos_description upload.launch &') # upload talos urdf to ros_param server\n",
    "os.system('rosrun robot_state_publisher robot_state_publisher &')\n",
    "os.system('rosrun rviz rviz  &') #change to rviz config locations\n",
    "#os.system('rosrun rviz rviz -d ./rviz_config.rviz &') #change to rviz config locations"
   ]
  },
  {
   "cell_type": "markdown",
   "metadata": {},
   "source": [
    "### Load Robot using URDF "
   ]
  },
  {
   "cell_type": "code",
   "execution_count": 2,
   "metadata": {},
   "outputs": [],
   "source": [
    "import roslib; roslib.load_manifest('urdfdom_py')\n",
    "from urdf_parser_py.urdf import URDF\n",
    "robot = URDF.from_parameter_server()\n",
    "clear_output()\n",
    "\n",
    "tree = kdl_tree_from_urdf_model(robot)\n",
    "\n",
    "left_foot = KDLKinematics(robot, 'base_link', 'left_sole_link')\n",
    "right_foot = KDLKinematics(robot, 'base_link', 'right_sole_link')\n",
    "\n",
    "q = left_foot.random_joint_angles()\n",
    "pose = left_foot.forward(q) # forward kinematics (returns homogeneous 4x4 numpy.mat)\n",
    "q_ik = left_foot.inverse(pose, q+0.3) # inverse kinematics"
   ]
  },
  {
   "cell_type": "markdown",
   "metadata": {},
   "source": [
    "### Create Visualization"
   ]
  },
  {
   "cell_type": "code",
   "execution_count": 3,
   "metadata": {},
   "outputs": [
    {
     "name": "stderr",
     "output_type": "stream",
     "text": [
      "[WARN] [1581519618.707180]: Could not process inbound connection: topic types do not match: [visualization_msgs/Marker] vs. [visualization_msgs/MarkerArray]{'topic': '/foot_marker', 'tcp_nodelay': '0', 'md5sum': '4048c9de2a16f4ae8e0538085ebf1b97', 'type': 'visualization_msgs/Marker', 'callerid': '/rviz_1581518360782581051'}\n"
     ]
    }
   ],
   "source": [
    "viz = Visual()\n",
    "viz.rate = rospy.Rate(1000)\n",
    "\n",
    "foot_marker = RvizMarker('foot_marker', 5, Marker.CUBE, 4)\n",
    "colors = [ColorRGBA(0.0, 1.0, 0.0, 0.3), ColorRGBA(0.0, 0.0, 1.0, 0.3)] + [ColorRGBA(1.0, 0.0, 0.0, 0.9)]*2\n",
    "foot_marker.set_color(colors)"
   ]
  },
  {
   "cell_type": "markdown",
   "metadata": {},
   "source": [
    "### Loading Files"
   ]
  },
  {
   "cell_type": "code",
   "execution_count": 10,
   "metadata": {},
   "outputs": [],
   "source": [
    "FILE_CAT = 'talos_moveEffector_flat'\n",
    "#FILE_CAT = 'talos_circle'\n",
    "#FILE_CAT = 'talos_circle_oriented'\n",
    "ROOT_PROCESSED = '/media/teguh/Data/MEMMO Dataset/processed_data/' + FILE_CAT + '/'\n",
    "\n",
    "f = open(ROOT_PROCESSED + '/data_left_right.pkl', 'rb')\n",
    "data = pickle.load(f)\n",
    "f.close()\n",
    "\n",
    "trajs = dict()\n",
    "x_inputs = dict()\n",
    "foot_poses = dict()"
   ]
  },
  {
   "cell_type": "raw",
   "metadata": {},
   "source": [
    "#auxiliary\n",
    "FILE_CAT = 'talos_moveEffector_flat1'\n",
    "#FILE_CAT = 'talos_circle'\n",
    "#FILE_CAT = 'talos_circle_oriented'\n",
    "ROOT_PROCESSED = '/media/teguh/Data/MEMMO Dataset/processed_data/' + FILE_CAT + '/'\n",
    "\n",
    "f = open(ROOT_PROCESSED + '/raw_data_sample.pkl', 'rb')\n",
    "data2 = pickle.load(f)\n",
    "f.close()"
   ]
  },
  {
   "cell_type": "code",
   "execution_count": 11,
   "metadata": {},
   "outputs": [],
   "source": [
    "data_phases_ori = data['left']['data_phases_set'][0]"
   ]
  },
  {
   "cell_type": "code",
   "execution_count": 12,
   "metadata": {},
   "outputs": [],
   "source": [
    "goal_type = 'contact'#'root'#\n",
    "\n",
    "keys = ['left','right']\n",
    "for key in keys:\n",
    "    trajs[key] = data[key]['trajs'][0:1000]\n",
    "    if goal_type == 'contact':\n",
    "        x_inputs[key] = data[key]['x_inputs'][0:1000]\n",
    "    elif goal_type == 'root':\n",
    "        x_inputs[key] = data[key]['x_inputs_root'][0:1000]\n",
    "    foot_poses[key] = data[key]['foot_poses'][0:1000]"
   ]
  },
  {
   "cell_type": "markdown",
   "metadata": {},
   "source": [
    "# Warmstart crocoddyl"
   ]
  },
  {
   "cell_type": "code",
   "execution_count": 13,
   "metadata": {},
   "outputs": [],
   "source": [
    "def calc_foot_T(x, move = 'left'):\n",
    "    #calculate the footstep transformation matrix based on the input x\n",
    "    #x is defined as: [left_foot, right_foot, 'foot_to_move']\n",
    "    x = x.reshape(-1,3)\n",
    "    Ts = []\n",
    "    for x_i in x:\n",
    "        T = PosetoMat(x_i)\n",
    "        Ts.append(T)\n",
    "    \n",
    "    if move == 'left':\n",
    "        T_lefts = [Ts[0], None, Ts[2]]\n",
    "        T_rights = [Ts[1]]*3\n",
    "    else:\n",
    "        T_rights = [Ts[1], None, Ts[2]]\n",
    "        T_lefts = [Ts[0]]*3\n",
    "        \n",
    "    return T_lefts, T_rights"
   ]
  },
  {
   "cell_type": "markdown",
   "metadata": {},
   "source": [
    "## 1. Try one problem"
   ]
  },
  {
   "cell_type": "markdown",
   "metadata": {},
   "source": [
    "#### Create a problem"
   ]
  },
  {
   "cell_type": "code",
   "execution_count": 14,
   "metadata": {},
   "outputs": [],
   "source": [
    "if np.random.rand() < 0.5:\n",
    "    key = 'left'\n",
    "else:\n",
    "    key = 'right'\n",
    "\n",
    "index = np.random.randint(len(x_inputs[key]))\n",
    "x = x_inputs[key][index]\n",
    "\n",
    "T_lefts, T_rights = calc_foot_T(x,move=key)\n",
    "foot_marker.publish(x.reshape(-1,3))\n",
    "\n",
    "traj = trajs[key][index]\n",
    "\n",
    "#visualize\n",
    "viz.set_rate(1000)\n",
    "viz.vis_traj(traj)"
   ]
  },
  {
   "cell_type": "markdown",
   "metadata": {},
   "source": [
    "#### Create phases"
   ]
  },
  {
   "cell_type": "code",
   "execution_count": 15,
   "metadata": {},
   "outputs": [],
   "source": [
    "data_phases = subsample_phases(data_phases_ori.copy(),40)"
   ]
  },
  {
   "cell_type": "raw",
   "metadata": {},
   "source": [
    "data_phases = []\n",
    "data_phases.append(np.arange(0,38))\n",
    "data_phases.append(np.arange(38,73))\n",
    "data_phases.append(np.arange(73,110))"
   ]
  },
  {
   "cell_type": "code",
   "execution_count": 16,
   "metadata": {},
   "outputs": [],
   "source": [
    "delta_t = 0.04"
   ]
  },
  {
   "cell_type": "markdown",
   "metadata": {},
   "source": [
    "#### Subsample the trajectories "
   ]
  },
  {
   "cell_type": "code",
   "execution_count": 17,
   "metadata": {},
   "outputs": [],
   "source": [
    "T = traj.shape[0]\n",
    "intervals = np.concatenate([np.arange(0,T,40),[T-1]])\n",
    "T_new = len(intervals)\n",
    "traj = traj[intervals]\n",
    "vel_traj = np.zeros((traj.shape[0], 38))\n",
    "u_traj = np.zeros((traj.shape[0], 32))\n",
    "\n",
    "#for visualization\n",
    "viz.set_rate(25)\n",
    "raw_traj = traj.copy()"
   ]
  },
  {
   "cell_type": "code",
   "execution_count": 18,
   "metadata": {},
   "outputs": [],
   "source": [
    "viz.vis_traj(raw_traj)"
   ]
  },
  {
   "cell_type": "markdown",
   "metadata": {},
   "source": [
    "#### Store in Crocoddyl format "
   ]
  },
  {
   "cell_type": "code",
   "execution_count": 19,
   "metadata": {},
   "outputs": [],
   "source": [
    "phases = store_for_crocoddyl(traj, vel_traj, u_traj, T_lefts, T_rights, data_phases, delta_t)\n",
    "pickle.dump(phases,open('data_teguh_3.txt','wb'))"
   ]
  },
  {
   "cell_type": "markdown",
   "metadata": {},
   "source": [
    "### Run Crocoddyl "
   ]
  },
  {
   "cell_type": "code",
   "execution_count": 20,
   "metadata": {},
   "outputs": [],
   "source": [
    "from memmo_utils import *\n",
    "from crocoddyl import loadTalos\n",
    "from croc_lib import *"
   ]
  },
  {
   "cell_type": "code",
   "execution_count": null,
   "metadata": {},
   "outputs": [],
   "source": []
  },
  {
   "cell_type": "code",
   "execution_count": 22,
   "metadata": {},
   "outputs": [
    {
     "name": "stdout",
     "output_type": "stream",
     "text": [
      "Building the set of action models and warmstart from Memmo\n",
      "phase 0:\n",
      "  nodes: 26\n",
      "  contacts:\n",
      "    suppport: ['right_sole_link', 'left_sole_link']\n",
      "    swing: []\n",
      "phase 1:\n",
      "  nodes: 35\n",
      "  contacts:\n",
      "    suppport: ['right_sole_link']\n",
      "    swing: ['left_sole_link']\n",
      "phase 2:\n",
      "  nodes: 25\n",
      "  contacts:\n",
      "    suppport: ['right_sole_link', 'left_sole_link']\n",
      "    swing: []\n"
     ]
    },
    {
     "ename": "AttributeError",
     "evalue": "'module' object has no attribute 'StdVect_Force'",
     "output_type": "error",
     "traceback": [
      "\u001b[0;31m---------------------------------------------------------------------------\u001b[0m",
      "\u001b[0;31mAttributeError\u001b[0m                            Traceback (most recent call last)",
      "\u001b[0;32m<ipython-input-22-126b1a6568bb>\u001b[0m in \u001b[0;36m<module>\u001b[0;34m()\u001b[0m\n\u001b[1;32m      1\u001b[0m \u001b[0mROBOT\u001b[0m \u001b[0;34m=\u001b[0m \u001b[0mloadTalos\u001b[0m\u001b[0;34m(\u001b[0m\u001b[0;34m'/opt/openrobots/share/example-robot-data/robots/'\u001b[0m\u001b[0;34m)\u001b[0m\u001b[0;34m\u001b[0m\u001b[0m\n\u001b[0;32m----> 2\u001b[0;31m \u001b[0mproblem\u001b[0m\u001b[0;34m,\u001b[0m \u001b[0mxs\u001b[0m\u001b[0;34m,\u001b[0m \u001b[0mus\u001b[0m\u001b[0;34m,\u001b[0m \u001b[0mts\u001b[0m \u001b[0;34m=\u001b[0m \u001b[0mdefine_croc_problem\u001b[0m\u001b[0;34m(\u001b[0m\u001b[0mROBOT\u001b[0m\u001b[0;34m,\u001b[0m\u001b[0;34m'data_teguh_3.txt'\u001b[0m\u001b[0;34m,\u001b[0m \u001b[0mnum_phases\u001b[0m\u001b[0;34m=\u001b[0m\u001b[0;36m3\u001b[0m\u001b[0;34m,\u001b[0m \u001b[0mis_warmstart\u001b[0m\u001b[0;34m=\u001b[0m\u001b[0mTrue\u001b[0m\u001b[0;34m)\u001b[0m\u001b[0;34m\u001b[0m\u001b[0m\n\u001b[0m\u001b[1;32m      3\u001b[0m \u001b[0mclear_output\u001b[0m\u001b[0;34m(\u001b[0m\u001b[0;34m)\u001b[0m\u001b[0;34m\u001b[0m\u001b[0m\n\u001b[1;32m      4\u001b[0m \u001b[0;34m\u001b[0m\u001b[0m\n\u001b[1;32m      5\u001b[0m \u001b[0msolver\u001b[0m \u001b[0;34m=\u001b[0m \u001b[0msolve_problem\u001b[0m\u001b[0;34m(\u001b[0m\u001b[0mROBOT\u001b[0m\u001b[0;34m,\u001b[0m\u001b[0mproblem\u001b[0m\u001b[0;34m,\u001b[0m\u001b[0mxs\u001b[0m\u001b[0;34m,\u001b[0m \u001b[0mus\u001b[0m\u001b[0;34m,\u001b[0m\u001b[0mmaxiter\u001b[0m \u001b[0;34m=\u001b[0m \u001b[0;36m50\u001b[0m\u001b[0;34m,\u001b[0m \u001b[0mSTOP_THRESHOLD\u001b[0m\u001b[0;34m=\u001b[0m\u001b[0;36m1e-03\u001b[0m\u001b[0;34m,\u001b[0m \u001b[0mrecalc_u\u001b[0m\u001b[0;34m=\u001b[0m\u001b[0mTrue\u001b[0m\u001b[0;34m,\u001b[0m \u001b[0mTYPE_OF_SOLVER\u001b[0m\u001b[0;34m=\u001b[0m\u001b[0;34m'FDDP'\u001b[0m\u001b[0;34m)\u001b[0m\u001b[0;34m\u001b[0m\u001b[0m\n",
      "\u001b[0;32m/home/teguh/git/memmo/memmo_talos/notebooks/croc_lib.pyc\u001b[0m in \u001b[0;36mdefine_croc_problem\u001b[0;34m(ROBOT, FILENAME, num_phases, is_warmstart)\u001b[0m\n\u001b[1;32m    271\u001b[0m \u001b[0;34m\u001b[0m\u001b[0m\n\u001b[1;32m    272\u001b[0m     \u001b[0;31m# Creating the shooting problem\u001b[0m\u001b[0;34m\u001b[0m\u001b[0;34m\u001b[0m\u001b[0m\n\u001b[0;32m--> 273\u001b[0;31m     \u001b[0mproblem\u001b[0m \u001b[0;34m=\u001b[0m \u001b[0mShootingProblem\u001b[0m\u001b[0;34m(\u001b[0m\u001b[0mx0\u001b[0m\u001b[0;34m,\u001b[0m \u001b[0mmemmoModels\u001b[0m\u001b[0;34m,\u001b[0m \u001b[0mtermModel\u001b[0m\u001b[0;34m)\u001b[0m\u001b[0;34m\u001b[0m\u001b[0m\n\u001b[0m\u001b[1;32m    274\u001b[0m \u001b[0;34m\u001b[0m\u001b[0m\n\u001b[1;32m    275\u001b[0m     \u001b[0;32mreturn\u001b[0m \u001b[0mproblem\u001b[0m\u001b[0;34m,\u001b[0m\u001b[0mxs\u001b[0m\u001b[0;34m,\u001b[0m\u001b[0mus\u001b[0m\u001b[0;34m,\u001b[0m\u001b[0mts\u001b[0m\u001b[0;34m\u001b[0m\u001b[0m\n",
      "\u001b[0;32m/home/teguh/git/memmo/crocoddyl/crocoddyl/shooting.pyc\u001b[0m in \u001b[0;36m__init__\u001b[0;34m(self, initialState, runningModels, terminalModel)\u001b[0m\n",
      "\u001b[0;32m/home/teguh/git/memmo/crocoddyl/crocoddyl/integrated_action.pyc\u001b[0m in \u001b[0;36mcreateData\u001b[0;34m(self)\u001b[0m\n",
      "\u001b[0;32m/home/teguh/git/memmo/crocoddyl/crocoddyl/integrated_action.pyc\u001b[0m in \u001b[0;36m__init__\u001b[0;34m(self, model)\u001b[0m\n",
      "\u001b[0;32m/home/teguh/git/memmo/crocoddyl/crocoddyl/differential_action.pyc\u001b[0m in \u001b[0;36mcreateData\u001b[0;34m(self)\u001b[0m\n",
      "\u001b[0;32m/home/teguh/git/memmo/crocoddyl/crocoddyl/floating_contact.pyc\u001b[0m in \u001b[0;36m__init__\u001b[0;34m(self, model)\u001b[0m\n",
      "\u001b[0;32m/home/teguh/git/memmo/crocoddyl/crocoddyl/contact.pyc\u001b[0m in \u001b[0;36mcreateData\u001b[0;34m(self, pinocchioData)\u001b[0m\n",
      "\u001b[0;32m/home/teguh/git/memmo/crocoddyl/crocoddyl/contact.pyc\u001b[0m in \u001b[0;36m__init__\u001b[0;34m(self, model, pinocchioData)\u001b[0m\n",
      "\u001b[0;32m/home/teguh/git/memmo/crocoddyl/crocoddyl/contact.pyc\u001b[0m in \u001b[0;36m__init__\u001b[0;34m(self, model, pinocchioData)\u001b[0m\n",
      "\u001b[0;31mAttributeError\u001b[0m: 'module' object has no attribute 'StdVect_Force'"
     ]
    }
   ],
   "source": [
    "ROBOT = loadTalos('/opt/openrobots/share/example-robot-data/robots/')\n",
    "problem, xs, us, ts = define_croc_problem(ROBOT,'data_teguh_3.txt', num_phases=3, is_warmstart=True)\n",
    "clear_output()\n",
    "\n",
    "solver = solve_problem(ROBOT,problem,xs, us,maxiter = 50, STOP_THRESHOLD=1e-03, recalc_u=True, TYPE_OF_SOLVER='FDDP')\n",
    "traj = np.array(solver.xs)[:,0:39]"
   ]
  },
  {
   "cell_type": "code",
   "execution_count": 19,
   "metadata": {},
   "outputs": [],
   "source": [
    "viz.vis_traj(traj)"
   ]
  },
  {
   "cell_type": "markdown",
   "metadata": {},
   "source": [
    "#### A quick check"
   ]
  },
  {
   "cell_type": "raw",
   "metadata": {},
   "source": [
    "calc_foot_pose(traj[0], left_foot, right_foot)\n",
    "compare_phases_with_result(phases, np.array(solver.xs), left_foot, right_foot, viz)"
   ]
  },
  {
   "cell_type": "markdown",
   "metadata": {},
   "source": [
    "## Optimize the whole dataset "
   ]
  },
  {
   "cell_type": "markdown",
   "metadata": {},
   "source": [
    "#### Convert to crocoddyl problem format "
   ]
  },
  {
   "cell_type": "code",
   "execution_count": 20,
   "metadata": {},
   "outputs": [],
   "source": [
    "to_load = False\n",
    "if to_load:\n",
    "    FILE_CAT = 'talos_moveEffector_flat'\n",
    "    ROOT_CROCS = '/media/teguh/Data/MEMMO Dataset/crocs_data/' + FILE_CAT + '/'\n",
    "\n",
    "    f = open(ROOT_CROCS + 'data_left_right_5th.pkl', 'rb')\n",
    "    crocs_data = pickle.load(f)\n",
    "    print 'Data has been loaded!'\n",
    "    f.close()\n",
    "else:\n",
    "    crocs_data = dict()\n",
    "    crocs_data['left'] = dict()\n",
    "    crocs_data['right'] = dict()\n",
    "    for key in crocs_data.keys():\n",
    "        crocs_data[key]['foot_poses'] = []\n",
    "        crocs_data[key]['trajs'] = []\n",
    "        crocs_data[key]['x_inputs'] = []\n",
    "        crocs_data[key]['vel_trajs'] = []        \n",
    "        crocs_data[key]['u_trajs'] = []\n",
    "        crocs_data[key]['data_phases_set'] = []\n",
    "        crocs_data[key]['costs'] = []\n",
    "        crocs_data[key]['iters'] = []\n",
    "        "
   ]
  },
  {
   "cell_type": "code",
   "execution_count": 21,
   "metadata": {},
   "outputs": [
    {
     "data": {
      "text/plain": [
       "0"
      ]
     },
     "execution_count": 21,
     "metadata": {},
     "output_type": "execute_result"
    }
   ],
   "source": [
    "len(crocs_data['left']['costs'])"
   ]
  },
  {
   "cell_type": "markdown",
   "metadata": {},
   "source": [
    "#### adhoc edit"
   ]
  },
  {
   "cell_type": "raw",
   "metadata": {},
   "source": [
    "for key in crocs_data.keys():\n",
    "    crocs_data[key]['costs'] = [-1.]*200\n",
    "    crocs_data[key]['iters'] = [-1]*200"
   ]
  },
  {
   "cell_type": "code",
   "execution_count": 22,
   "metadata": {},
   "outputs": [],
   "source": [
    "ROBOT = loadTalos('/opt/openrobots/share/example-robot-data')\n"
   ]
  },
  {
   "cell_type": "code",
   "execution_count": 23,
   "metadata": {},
   "outputs": [],
   "source": [
    "viz.set_rate(25)"
   ]
  },
  {
   "cell_type": "markdown",
   "metadata": {},
   "source": [
    "#### Only create the croc files "
   ]
  },
  {
   "cell_type": "code",
   "execution_count": 87,
   "metadata": {},
   "outputs": [],
   "source": [
    "file_name = 'data.txt'\n",
    "FILE_CAT = 'talos_moveEffector_flat'\n",
    "ROOT_CROCS = '/media/teguh/Data/MEMMO Dataset/crocs_data/' + FILE_CAT + '/'\n",
    "\n",
    "tic = time.time()\n",
    "for key in crocs_data.keys():\n",
    "    for i in range(len(trajs[key])):\n",
    "        traj = trajs[key][i]\n",
    "        x_input = x_inputs[key][i]\n",
    "        q_init = traj[0].copy()\n",
    "        v_init = np.zeros(38)\n",
    "        file_name = ROOT_CROCS + '/crocs_files/data_' + key + '_' + str(i) + '.txt'\n",
    "        traj_mod,data_phases = convert_to_croc_format(x_input,traj,key,q_init = q_init, v_init = v_init, data_phases = data_phases_ori, filename=file_name)"
   ]
  },
  {
   "cell_type": "markdown",
   "metadata": {},
   "source": [
    "#### Examine the croc files "
   ]
  },
  {
   "cell_type": "code",
   "execution_count": null,
   "metadata": {},
   "outputs": [],
   "source": [
    "for key in crocs_data.keys():\n",
    "    for i in range(10):#len(trajs[key])):\n",
    "        file_name = ROOT_CROCS + '/crocs_files/data_' + key + '_' + str(i) + '.txt'\n",
    "        f = open(file_name,'rb')\n",
    "        phases = pickle.load(f)\n",
    "        examine_phases(phases,left_foot,right_foot,viz, foot_marker,False)\n",
    "        raw_input()\n",
    "        clear_output()\n",
    "        f.close()"
   ]
  },
  {
   "cell_type": "markdown",
   "metadata": {},
   "source": [
    "#### Optimize using crocoddyl"
   ]
  },
  {
   "cell_type": "code",
   "execution_count": 28,
   "metadata": {},
   "outputs": [
    {
     "name": "stdout",
     "output_type": "stream",
     "text": [
      "Time so far: 4227.60567808\n",
      "Iteration left_999\n",
      "\n",
      "*** SOLVE ***\n",
      "iter \t cost \t      stop \t    grad \t  xreg \t      ureg \t step \t feas\n",
      "   0  7.71449e+01  5.42724e-02  1.28558e+02  1.00000e-09  1.00000e-09   0.5000     0\n",
      "   1  5.27992e+01  1.13171e+00  7.20117e+01  1.00000e-09  1.00000e-09   1.0000     1\n",
      "   2  4.27552e+01  9.56707e-02  2.00428e+01  1.00000e-09  1.00000e-09   1.0000     1\n",
      "   3  4.26570e+01  1.73549e-02  1.92406e-01  1.00000e-09  1.00000e-09   1.0000     1\n",
      "   4  4.26541e+01  2.86689e-06  2.26311e-03  1.00000e-09  1.00000e-09   1.0000     1\n"
     ]
    }
   ],
   "source": [
    "file_name = 'data.txt'\n",
    "tic = time.time()\n",
    "for key in crocs_data.keys():\n",
    "#for key in ['left']:    \n",
    "    for i in range(850,1000):#len(trajs[key])):\n",
    "        traj = trajs[key][i]\n",
    "        x_input = x_inputs[key][i]\n",
    "        q_init = traj[0].copy()\n",
    "        v_init = np.zeros(38)\n",
    "        traj_mod,data_phases = convert_to_croc_format(x_input,traj,key,q_init = q_init, v_init = v_init, data_phases = data_phases_ori, filename=file_name)\n",
    "        problem, xs, us, ts = define_croc_problem(ROBOT,file_name, num_phases=3, is_warmstart=True)\n",
    "        clear_output()\n",
    "        toc = time.time()\n",
    "        print 'Time so far: ' + str(toc-tic)\n",
    "        \n",
    "        print 'Iteration '  + key + '_' + str(i)\n",
    "        solver = solve_problem(ROBOT,problem,xs, us,maxiter = 50, STOP_THRESHOLD=1e-05, recalc_u=True, TYPE_OF_SOLVER='FDDP')\n",
    "        traj = np.array(solver.xs)[:,0:39]\n",
    "        vel_traj = np.array(solver.xs)[:,39:]\n",
    "        crocs_data[key]['trajs'].append(traj)\n",
    "        crocs_data[key]['vel_trajs'].append(vel_traj)\n",
    "        crocs_data[key]['u_trajs'].append(solver.us)\n",
    "        crocs_data[key]['x_inputs'].append(x_input)\n",
    "        crocs_data[key]['foot_poses'].append(foot_poses[key][i])\n",
    "        crocs_data[key]['data_phases_set'].append(data_phases)\n",
    "        crocs_data[key]['costs'].append(solver.cost)\n",
    "        crocs_data[key]['iters'].append(solver.iter)\n",
    "        \n",
    "        #foot_marker.publish(foot_poses[key][i])\n",
    "        #viz.vis_traj(np.array(solver.xs)[:,0:39])\n",
    "data['information'] = 'One step movement, created from ' + FILE_CAT + '. The trajectories are transformed s.t. the \\\n",
    "root positions start from zero. The data are separated into right and left. This dataset is optimized by Crocoddyl.'"
   ]
  },
  {
   "cell_type": "code",
   "execution_count": 29,
   "metadata": {},
   "outputs": [
    {
     "data": {
      "text/plain": [
       "(1000, 86, 39)"
      ]
     },
     "execution_count": 29,
     "metadata": {},
     "output_type": "execute_result"
    }
   ],
   "source": [
    "np.array(crocs_data['left']['trajs']).shape"
   ]
  },
  {
   "cell_type": "markdown",
   "metadata": {},
   "source": [
    "#### Save Data "
   ]
  },
  {
   "cell_type": "code",
   "execution_count": 30,
   "metadata": {},
   "outputs": [
    {
     "name": "stdout",
     "output_type": "stream",
     "text": [
      "Data has been saved!\n",
      "shutdown request: new node registered with same name\n"
     ]
    }
   ],
   "source": [
    "FILE_CAT = 'talos_moveEffector_flat'\n",
    "ROOT_CROCS = '/media/teguh/Data/MEMMO Dataset/crocs_data/' + FILE_CAT + '/'\n",
    "\n",
    "f = open(ROOT_CROCS + 'data_left_right.pkl', 'wb')\n",
    "pickle.dump(crocs_data,f)\n",
    "print 'Data has been saved!'\n",
    "f.close()"
   ]
  },
  {
   "cell_type": "code",
   "execution_count": 55,
   "metadata": {},
   "outputs": [],
   "source": [
    "index = np.random.randint(len(crocs_data[key]['x_inputs']))\n",
    "key = 'left'\n",
    "foot_marker.publish(crocs_data[key]['x_inputs'][index].reshape(-1,3))\n",
    "viz.vis_traj(crocs_data[key]['trajs'][index])"
   ]
  },
  {
   "cell_type": "markdown",
   "metadata": {},
   "source": [
    "#### For multi-step movements "
   ]
  },
  {
   "cell_type": "code",
   "execution_count": 100,
   "metadata": {},
   "outputs": [],
   "source": [
    "FILE_CAT = 'talos_circle_oriented'\n",
    "ROOT_CROCS = '/media/teguh/Data/MEMMO Dataset/crocs_data/' + FILE_CAT + '/'\n",
    "\n",
    "delta_t = 0.04\n",
    "trajs_test = data['trajs']\n",
    "T_lefts_set = data['T_lefts_set']\n",
    "T_rights_set = data['T_rights_set']\n",
    "data_phases_set = data['data_phases_set']"
   ]
  },
  {
   "cell_type": "code",
   "execution_count": null,
   "metadata": {},
   "outputs": [],
   "source": [
    "file_name = 'data.txt'\n",
    "FILE_CAT = 'talos_moveEffector_flat'\n",
    "ROOT_CROCS = '/media/teguh/Data/MEMMO Dataset/crocs_data/' + FILE_CAT + '/'\n",
    "\n",
    "tic = time.time()\n",
    "for key in crocs_data.keys():\n",
    "    for i in range(len(trajs[key])):\n",
    "        traj = trajs[key][i]\n",
    "        x_input = x_inputs[key][i]\n",
    "        q_init = traj[0].copy()\n",
    "        v_init = np.zeros(38)\n",
    "        file_name = ROOT_CROCS + '/crocs_files/data_' + key + '_' + str(i) + '.txt'\n",
    "        traj_mod,data_phases = convert_to_croc_format(x_input,traj,key,q_init = q_init, v_init = v_init, data_phases = data_phases_ori, filename=file_name)"
   ]
  },
  {
   "cell_type": "code",
   "execution_count": 137,
   "metadata": {},
   "outputs": [],
   "source": [
    "for index in range(len(trajs_test)):\n",
    "    traj = trajs_test[index]\n",
    "    T_lefts = T_lefts_set[index]\n",
    "    T_rights = T_rights_set[index]\n",
    "    data_phases_full = data_phases_set[index]\n",
    "    T_orig = traj.shape[0]\n",
    "\n",
    "    #subsample\n",
    "    data_phases = subsample_phases(data_phases_full,sub_fac=40)\n",
    "\n",
    "    intervals = np.concatenate([np.arange(0,T_orig, 40), [T_orig-1]])\n",
    "    T = data_phases[-1][-1]+1\n",
    "    traj = subsample(traj,T)\n",
    "    vel_traj = np.zeros((traj.shape[0], 38))\n",
    "    u_traj = np.zeros((traj.shape[0], 32))\n",
    "\n",
    "    #### Set the height of the foot to zero \n",
    "    for T in T_lefts:\n",
    "        if T is not None: T[2,3] = 0.\n",
    "    for T in T_rights:\n",
    "        if T is not None: T[2,3] = 0.\n",
    "    phases = store_for_crocoddyl(traj, vel_traj, u_traj, T_lefts, T_rights, data_phases, delta_t)\n",
    "    file_name = ROOT_CROCS + '/crocs_files/data_' + str(index) + '.txt'\n",
    "    pickle.dump(phases,open(file_name,'wb'))"
   ]
  },
  {
   "cell_type": "markdown",
   "metadata": {},
   "source": [
    "#### Examine the croc files "
   ]
  },
  {
   "cell_type": "code",
   "execution_count": null,
   "metadata": {},
   "outputs": [],
   "source": [
    "for i in range(10):#len(trajs[key])):\n",
    "    file_name = ROOT_CROCS + '/crocs_files/data_'  + str(i) + '.txt'\n",
    "    f = open(file_name,'rb')\n",
    "    phases = pickle.load(f)\n",
    "    examine_phases(phases,left_foot,right_foot,viz, foot_marker,False)\n",
    "    raw_input()\n",
    "    clear_output()\n",
    "    f.close()"
   ]
  }
 ],
 "metadata": {
  "kernelspec": {
   "display_name": "Python 2",
   "language": "python",
   "name": "python2"
  },
  "language_info": {
   "codemirror_mode": {
    "name": "ipython",
    "version": 2
   },
   "file_extension": ".py",
   "mimetype": "text/x-python",
   "name": "python",
   "nbconvert_exporter": "python",
   "pygments_lexer": "ipython2",
   "version": "2.7.12"
  }
 },
 "nbformat": 4,
 "nbformat_minor": 4
}
