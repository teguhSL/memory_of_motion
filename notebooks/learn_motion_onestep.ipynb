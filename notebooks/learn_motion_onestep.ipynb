{
 "cells": [
  {
   "cell_type": "markdown",
   "metadata": {},
   "source": [
    "# Learn the motion from data"
   ]
  },
  {
   "cell_type": "code",
   "execution_count": 2,
   "metadata": {},
   "outputs": [],
   "source": [
    "import warnings\n",
    "warnings.filterwarnings('ignore')\n",
    "\n",
    "import numpy as np\n",
    "import roslib\n",
    "import tf\n",
    "from memmo_utils import *\n",
    "from database import *\n",
    "import os\n",
    "from geometry_msgs.msg import Quaternion, Pose, Point, Vector3\n",
    "from std_msgs.msg import Header, ColorRGBA\n",
    "import rospy\n",
    "import os\n",
    "from mlp.utils.status import Status\n",
    "import mlp.utils.wholebody_result as wb_res\n",
    "import matplotlib.pyplot as plt\n",
    "import pickle\n",
    "from IPython.display import clear_output\n",
    "\n",
    "from transforms3d import axangles\n",
    "from transforms3d import affines, quaternions\n",
    "\n",
    "#from pykdl_utils.kdl_parser import kdl_tree_from_urdf_model\n",
    "#from pykdl_utils.kdl_kinematics import KDLKinematics\n",
    "\n",
    "\n",
    "from regression import *\n",
    "\n",
    "np.set_printoptions(precision=4, suppress=True)\n",
    "\n",
    "%load_ext autoreload\n",
    "%autoreload 2\n",
    "%matplotlib inline\n"
   ]
  },
  {
   "cell_type": "markdown",
   "metadata": {},
   "source": [
    "### Start Instruction"
   ]
  },
  {
   "cell_type": "raw",
   "metadata": {},
   "source": [
    "os.system('roslaunch talos_description upload.launch &') # upload talos urdf to ros_param server\n",
    "os.system('rosrun robot_state_publisher robot_state_publisher &')\n",
    "os.system('rosrun rviz rviz  &') #change to rviz config locations\n",
    "#os.system('rosrun rviz rviz -d ./rviz_config.rviz &') #change to rviz config locations"
   ]
  },
  {
   "cell_type": "markdown",
   "metadata": {},
   "source": [
    "### Load Robot using URDF "
   ]
  },
  {
   "cell_type": "code",
   "execution_count": null,
   "metadata": {},
   "outputs": [],
   "source": [
    "import roslib; roslib.load_manifest('urdfdom_py')\n",
    "from urdf_parser_py.urdf import URDF\n",
    "robot = URDF.from_parameter_server()\n",
    "clear_output()\n",
    "\n",
    "tree = kdl_tree_from_urdf_model(robot)\n",
    "\n",
    "left_foot = KDLKinematics(robot, 'base_link', 'left_sole_link')\n",
    "right_foot = KDLKinematics(robot, 'base_link', 'right_sole_link')\n",
    "\n",
    "q = left_foot.random_joint_angles()\n",
    "pose = left_foot.forward(q) # forward kinematics (returns homogeneous 4x4 numpy.mat)\n",
    "q_ik = left_foot.inverse(pose, q+0.3) # inverse kinematics"
   ]
  },
  {
   "cell_type": "markdown",
   "metadata": {},
   "source": [
    "### Create Visualization"
   ]
  },
  {
   "cell_type": "code",
   "execution_count": 2,
   "metadata": {},
   "outputs": [],
   "source": [
    "viz = Visual()\n",
    "viz.rate = rospy.Rate(1000)\n",
    "\n",
    "foot_marker = RvizMarker('foot_marker', 5, Marker.CUBE, 4)\n",
    "colors = [ColorRGBA(0.0, 1.0, 0.0, 0.7), ColorRGBA(0.0, 0.0, 1.0, 0.7)] + [ColorRGBA(1.0, 0.0, 0.0, 0.9)]*2\n",
    "foot_marker.set_color(colors)"
   ]
  },
  {
   "cell_type": "markdown",
   "metadata": {},
   "source": [
    "### Loading Files"
   ]
  },
  {
   "cell_type": "code",
   "execution_count": 3,
   "metadata": {},
   "outputs": [],
   "source": [
    "FILE_CAT = 'talos_moveEffector_flat'\n",
    "#FILE_CAT = 'talos_circle'\n",
    "#FILE_CAT = 'talos_circle_oriented'\n",
    "ROOT_PROCESSED = '/media/teguh/Data/MEMMO Dataset/processed_data/' + FILE_CAT + '/'\n",
    "ROOT_CROCS = '/media/teguh/Data/MEMMO Dataset/crocs_data/' + FILE_CAT + '/'"
   ]
  },
  {
   "cell_type": "code",
   "execution_count": 4,
   "metadata": {},
   "outputs": [
    {
     "ename": "IOError",
     "evalue": "[Errno 2] No such file or directory: '/media/teguh/Data/MEMMO Dataset/processed_data/talos_moveEffector_flat//data_left_right.pkl'",
     "output_type": "error",
     "traceback": [
      "\u001b[0;31m---------------------------------------------------------------------------\u001b[0m",
      "\u001b[0;31mIOError\u001b[0m                                   Traceback (most recent call last)",
      "\u001b[0;32m<ipython-input-4-84fe70d3ddd9>\u001b[0m in \u001b[0;36m<module>\u001b[0;34m()\u001b[0m\n\u001b[1;32m      3\u001b[0m     \u001b[0mf\u001b[0m \u001b[0;34m=\u001b[0m \u001b[0mopen\u001b[0m\u001b[0;34m(\u001b[0m\u001b[0mROOT_CROCS\u001b[0m \u001b[0;34m+\u001b[0m \u001b[0;34m'/data_left_right.pkl'\u001b[0m\u001b[0;34m,\u001b[0m \u001b[0;34m'rb'\u001b[0m\u001b[0;34m)\u001b[0m\u001b[0;34m\u001b[0m\u001b[0m\n\u001b[1;32m      4\u001b[0m \u001b[0;32melse\u001b[0m\u001b[0;34m:\u001b[0m\u001b[0;34m\u001b[0m\u001b[0m\n\u001b[0;32m----> 5\u001b[0;31m     \u001b[0mf\u001b[0m \u001b[0;34m=\u001b[0m \u001b[0mopen\u001b[0m\u001b[0;34m(\u001b[0m\u001b[0mROOT_PROCESSED\u001b[0m \u001b[0;34m+\u001b[0m \u001b[0;34m'/data_left_right.pkl'\u001b[0m\u001b[0;34m,\u001b[0m \u001b[0;34m'rb'\u001b[0m\u001b[0;34m)\u001b[0m\u001b[0;34m\u001b[0m\u001b[0m\n\u001b[0m\u001b[1;32m      6\u001b[0m \u001b[0mdata\u001b[0m \u001b[0;34m=\u001b[0m \u001b[0mpickle\u001b[0m\u001b[0;34m.\u001b[0m\u001b[0mload\u001b[0m\u001b[0;34m(\u001b[0m\u001b[0mf\u001b[0m\u001b[0;34m)\u001b[0m\u001b[0;34m\u001b[0m\u001b[0m\n\u001b[1;32m      7\u001b[0m \u001b[0mf\u001b[0m\u001b[0;34m.\u001b[0m\u001b[0mclose\u001b[0m\u001b[0;34m(\u001b[0m\u001b[0;34m)\u001b[0m\u001b[0;34m\u001b[0m\u001b[0m\n",
      "\u001b[0;31mIOError\u001b[0m: [Errno 2] No such file or directory: '/media/teguh/Data/MEMMO Dataset/processed_data/talos_moveEffector_flat//data_left_right.pkl'"
     ]
    },
    {
     "name": "stdout",
     "output_type": "stream",
     "text": [
      "shutdown request: new node registered with same name\n"
     ]
    }
   ],
   "source": [
    "use_crocs = False\n",
    "if use_crocs:\n",
    "    f = open(ROOT_CROCS + '/data_left_right.pkl', 'rb')\n",
    "else:\n",
    "    f = open(ROOT_PROCESSED + '/data_left_right.pkl', 'rb')\n",
    "data = pickle.load(f)\n",
    "f.close()\n",
    "\n",
    "trajs = dict()\n",
    "vel_trajs = dict()\n",
    "x_inputs = dict()\n",
    "foot_poses = dict()"
   ]
  },
  {
   "cell_type": "code",
   "execution_count": 6,
   "metadata": {},
   "outputs": [],
   "source": [
    "goal_type = 'contact'#'root'#\n",
    "num_desired = 600\n",
    "keys = ['left','right']\n",
    "num_data = dict()\n",
    "for key in keys:\n",
    "    trajs[key] = np.array(data[key]['trajs'])[:num_desired]\n",
    "    vel_trajs[key] = np.array(data[key]['vel_trajs'])[:num_desired]\n",
    "    if goal_type == 'contact':\n",
    "        x_inputs[key] = np.array(data[key]['x_inputs'])[:num_desired]\n",
    "    elif goal_type == 'root':\n",
    "        x_inputs[key] = np.array(data[key]['x_inputs_root'])[:num_desired]\n",
    "    foot_poses[key] = data[key]['foot_poses'][:num_desired]\n",
    "    num_data[key] = len(foot_poses[key])"
   ]
  },
  {
   "cell_type": "markdown",
   "metadata": {},
   "source": [
    "#### calculate the control trajectory "
   ]
  },
  {
   "cell_type": "code",
   "execution_count": 7,
   "metadata": {},
   "outputs": [],
   "source": [
    "u_trajs = dict()\n",
    "for key in keys:\n",
    "    if use_crocs:\n",
    "        raw_trajs = data[key]['u_trajs']\n",
    "        for i in range(len(raw_trajs)):\n",
    "            raw_trajs[i][59] = raw_trajs[i][58]\n",
    "        u_trajs[key] = np.array(raw_trajs)\n",
    "    else:\n",
    "        u_trajs[key] = np.array(data[key]['u_trajs'])[:num_desired]"
   ]
  },
  {
   "cell_type": "markdown",
   "metadata": {},
   "source": [
    "#### Check for error "
   ]
  },
  {
   "cell_type": "code",
   "execution_count": 8,
   "metadata": {},
   "outputs": [],
   "source": [
    "if use_crocs:\n",
    "    del_indexes = dict()\n",
    "    for key in keys:\n",
    "        del_indexes[key] = []\n",
    "        for i in range(num_data[key]):\n",
    "            if np.max(np.abs(trajs[key][i])) > 1e2:\n",
    "                del_indexes[key] += [i]"
   ]
  },
  {
   "cell_type": "markdown",
   "metadata": {},
   "source": [
    "#### Delete the error data "
   ]
  },
  {
   "cell_type": "raw",
   "metadata": {},
   "source": [
    "print del_indexes"
   ]
  },
  {
   "cell_type": "code",
   "execution_count": 9,
   "metadata": {},
   "outputs": [],
   "source": [
    "if use_crocs:\n",
    "    for key in keys:\n",
    "        trajs[key] = np.delete(trajs[key],del_indexes[key],axis=0)\n",
    "        x_inputs[key] = np.delete(x_inputs[key],del_indexes[key],axis=0)\n",
    "        foot_poses[key] = np.delete(foot_poses[key],del_indexes[key],axis=0)\n",
    "        vel_trajs[key] = np.delete(vel_trajs[key],del_indexes[key],axis=0)\n",
    "        u_trajs[key] = np.delete(u_trajs[key],del_indexes[key],axis=0)    "
   ]
  },
  {
   "cell_type": "markdown",
   "metadata": {},
   "source": [
    "#### Subsample to the original time intervals (1ms) "
   ]
  },
  {
   "cell_type": "code",
   "execution_count": 10,
   "metadata": {},
   "outputs": [],
   "source": [
    "if use_crocs:\n",
    "    original_T = 3351\n",
    "    #original_T = 4351\n",
    "\n",
    "    if use_crocs:\n",
    "        new_trajs = dict()\n",
    "        new_vel_trajs = dict()\n",
    "        new_u_trajs = dict()\n",
    "        for key in keys:\n",
    "            new_trajs[key] = []\n",
    "            new_vel_trajs[key] = []\n",
    "            new_u_trajs[key] = []\n",
    "            for i in range(len(trajs[key])):\n",
    "                traj = trajs[key][i]\n",
    "                new_traj = subsample(traj, original_T)\n",
    "                new_trajs[key].append(new_traj)\n",
    "\n",
    "                vel_traj = vel_trajs[key][i]\n",
    "                new_vel_traj = subsample(vel_traj, original_T)\n",
    "                new_vel_trajs[key].append(new_vel_traj)\n",
    "\n",
    "                u_traj = u_trajs[key][i]\n",
    "                new_u_traj = subsample(u_traj, original_T)\n",
    "                new_u_trajs[key].append(new_u_traj)\n",
    "\n",
    "            new_trajs[key] = np.array(new_trajs[key])\n",
    "            new_vel_trajs[key] = np.array(new_vel_trajs[key])\n",
    "            new_u_trajs[key] = np.array(new_u_trajs[key])\n",
    "\n",
    "        trajs = new_trajs\n",
    "        vel_trajs = new_vel_trajs\n",
    "        u_trajs = new_u_trajs"
   ]
  },
  {
   "cell_type": "code",
   "execution_count": 11,
   "metadata": {},
   "outputs": [],
   "source": [
    "viz.set_rate(1000)\n",
    "\n",
    "key = 'left'\n",
    "for i in range(1):\n",
    "    foot_marker.publish(x_inputs[key][i].reshape(-1,3))\n",
    "    viz.vis_traj(trajs[key][i])"
   ]
  },
  {
   "cell_type": "markdown",
   "metadata": {},
   "source": [
    "### Define RBF "
   ]
  },
  {
   "cell_type": "code",
   "execution_count": 7,
   "metadata": {
    "scrolled": true
   },
   "outputs": [
    {
     "name": "stdout",
     "output_type": "stream",
     "text": [
      "[[ 0.0064  0.1253  0.7949 ...,  0.      0.      0.    ]\n",
      " [ 0.0061  0.1206  0.7788 ...,  0.      0.      0.    ]\n",
      " [ 0.0057  0.116   0.7629 ...,  0.      0.      0.    ]\n",
      " ..., \n",
      " [ 0.      0.      0.     ...,  0.7629  0.116   0.0057]\n",
      " [ 0.      0.      0.     ...,  0.7788  0.1206  0.0061]\n",
      " [ 0.      0.      0.     ...,  0.7949  0.1253  0.0064]]\n"
     ]
    }
   ],
   "source": [
    "timestep = 3351#trajs['left'].shape[1]\n",
    "rbf_num = 60\n",
    "Phi = define_RBF(dof=39, nbStates = rbf_num, offset = 200, width = 60, T = timestep)\n",
    "%matplotlib qt\n",
    "plt.plot(Phi)\n",
    "plt.savefig('/home/rli/git/presentations/MEMMO/2019_sab_meeting/figures/rbf.png')\n",
    "#clear_output()"
   ]
  },
  {
   "cell_type": "markdown",
   "metadata": {},
   "source": [
    "#### Apply RBF "
   ]
  },
  {
   "cell_type": "code",
   "execution_count": 13,
   "metadata": {},
   "outputs": [],
   "source": [
    "def apply_RBF(trajs, Phi, rcond=0.0001):\n",
    "    w_trajs = []\n",
    "    for traj in trajs:\n",
    "        w,_,_,_ = np.linalg.lstsq(Phi, traj, rcond=0.0001)\n",
    "        w_trajs.append(w.flatten())\n",
    "    return np.array(w_trajs)\n",
    "    \n",
    "def inverse_transform(w_pca, pca, Phi, rbf_num):\n",
    "    w = pca.inverse_transform(w_pca)\n",
    "    w = w.reshape(rbf_num,-1)\n",
    "    traj = np.dot(Phi,w)\n",
    "    return traj"
   ]
  },
  {
   "cell_type": "raw",
   "metadata": {},
   "source": [
    "w_trajs = dict()\n",
    "for key in keys:\n",
    "    w_trajs[key] = []\n",
    "    for traj in trajs[key]:\n",
    "        w,_,_,_ = np.linalg.lstsq(Phi, traj, rcond=0.0001)\n",
    "        w_trajs[key].append(w.flatten())\n",
    "    w_trajs[key] = np.array(w_trajs[key])"
   ]
  },
  {
   "cell_type": "code",
   "execution_count": 33,
   "metadata": {},
   "outputs": [],
   "source": [
    "w_trajs = dict()\n",
    "w_vel_trajs = dict()\n",
    "w_u_trajs = dict()\n",
    "\n",
    "for key in keys:\n",
    "    w_trajs[key] = apply_RBF(trajs[key], Phi)\n",
    "    if use_crocs:\n",
    "        w_vel_trajs[key] = apply_RBF(vel_trajs[key], Phi)\n",
    "        w_u_trajs[key] = apply_RBF(u_trajs[key], Phi)"
   ]
  },
  {
   "cell_type": "markdown",
   "metadata": {},
   "source": [
    "### Visualize the approximated trajectories "
   ]
  },
  {
   "cell_type": "raw",
   "metadata": {},
   "source": [
    "key = 'right'\n",
    "traj = trajs[key][np.random.randint(len(trajs[key]))]\n",
    "w,_,_,_ = np.linalg.lstsq(Phi, traj, rcond=0.0001)\n",
    "traj_rec = np.dot(Phi,w)\n",
    "for i in range(3):\n",
    "    plt.plot(traj[:,i], '*')\n",
    "    plt.plot(traj_rec[:,i], '-')\n",
    "    plt.show()\n",
    "    raw_input()\n",
    "    clear_output(wait=True)\n",
    "    \n",
    "plt.clf()"
   ]
  },
  {
   "cell_type": "raw",
   "metadata": {},
   "source": [
    "key = 'right'\n",
    "vel_traj = vel_trajs[key][np.random.randint(len(vel_trajs[key]))]\n",
    "w,_,_,_ = np.linalg.lstsq(Phi, vel_traj, rcond=0.0001)\n",
    "vel_traj_rec = np.dot(Phi,w)\n",
    "for i in range(3):\n",
    "    plt.plot(vel_traj[:,i], '*')\n",
    "    plt.plot(vel_traj_rec[:,i], '-')\n",
    "    plt.show()\n",
    "    raw_input()\n",
    "    clear_output(wait=True)\n",
    "    \n",
    "plt.clf()"
   ]
  },
  {
   "cell_type": "raw",
   "metadata": {},
   "source": [
    "key = 'right'\n",
    "u_traj = u_trajs[key][np.random.randint(len(u_trajs[key]))]\n",
    "w,_,_,_ = np.linalg.lstsq(Phi, u_traj, rcond=0.0001)\n",
    "u_traj_rec = np.dot(Phi,w)\n",
    "for i in range(3):\n",
    "    plt.plot(u_traj[:,i], '*')\n",
    "    plt.plot(u_traj_rec[:,i], '-')\n",
    "    plt.show()\n",
    "    raw_input()\n",
    "    clear_output(wait=True)\n",
    "    \n",
    "plt.clf()"
   ]
  },
  {
   "cell_type": "markdown",
   "metadata": {},
   "source": [
    "#### Try PCA decomposition "
   ]
  },
  {
   "cell_type": "code",
   "execution_count": 26,
   "metadata": {},
   "outputs": [
    {
     "name": "stdout",
     "output_type": "stream",
     "text": [
      "7.43407297134\n"
     ]
    }
   ],
   "source": [
    "trajs['left'].shape\n",
    "w_trajs2 = dict()\n",
    "w_trajs2['left'] = trajs['left'].reshape(600,-1)\n",
    "w_trajs2['right'] = trajs['right'].reshape(600,-1)\n",
    "\n",
    "from sklearn.decomposition import PCA\n",
    "pca = PCA(n_components=40)\n",
    "import time\n",
    "tic = time.time()\n",
    "w_trajs_pca = dict()\n",
    "w_trajs_pca['left'] = pca.fit_transform(w_trajs2['left'])\n",
    "w_trajs_pca['right'] = pca.fit_transform(w_trajs2['right'])\n",
    "toc = time.time()\n",
    "print toc-tic"
   ]
  },
  {
   "cell_type": "code",
   "execution_count": 36,
   "metadata": {},
   "outputs": [],
   "source": [
    "from sklearn.decomposition import PCA\n",
    "\n",
    "num_pca_comp = 60\n",
    "\n",
    "w_trajs_pca = dict()\n",
    "pca = dict()\n",
    "\n",
    "w_vel_trajs_pca = dict()\n",
    "pca_vel = dict()\n",
    "\n",
    "w_u_trajs_pca = dict()\n",
    "pca_u = dict()\n",
    "\n",
    "for key in keys:\n",
    "    pca[key] = PCA(n_components=num_pca_comp)\n",
    "    w_trajs_pca[key] = pca[key].fit_transform(w_trajs[key])\n",
    "    \n",
    "    if use_crocs:\n",
    "        pca_vel[key] = PCA(n_components=num_pca_comp)\n",
    "        w_vel_trajs_pca[key] = pca_vel[key].fit_transform(w_vel_trajs[key])\n",
    "\n",
    "        pca_u[key] = PCA(n_components=num_pca_comp)\n",
    "        w_u_trajs_pca[key] = pca_u[key].fit_transform(w_u_trajs[key])"
   ]
  },
  {
   "cell_type": "code",
   "execution_count": null,
   "metadata": {},
   "outputs": [],
   "source": [
    "key = 'left'\n",
    "for i in range(10):\n",
    "    w_pca = w_trajs_pca[key][i]\n",
    "    w = pca[key].inverse_transform(w_pca)\n",
    "    w = w.reshape(60,-1)\n",
    "    #traj = w.reshape(3351,-1)\n",
    "    traj = np.dot(Phi,w)\n",
    "    foot_marker.publish(foot_poses[key][i])\n",
    "    viz.vis_traj(traj)\n",
    "    raw_input()"
   ]
  },
  {
   "cell_type": "code",
   "execution_count": 29,
   "metadata": {},
   "outputs": [
    {
     "ename": "KeyError",
     "evalue": "0",
     "output_type": "error",
     "traceback": [
      "\u001b[0;31m---------------------------------------------------------------------------\u001b[0m",
      "\u001b[0;31mKeyError\u001b[0m                                  Traceback (most recent call last)",
      "\u001b[0;32m<ipython-input-29-f574c14f7b36>\u001b[0m in \u001b[0;36m<module>\u001b[0;34m()\u001b[0m\n\u001b[1;32m      1\u001b[0m \u001b[0mkey\u001b[0m \u001b[0;34m=\u001b[0m \u001b[0;34m'left'\u001b[0m\u001b[0;34m\u001b[0m\u001b[0m\n\u001b[1;32m      2\u001b[0m \u001b[0;32mfor\u001b[0m \u001b[0mi\u001b[0m \u001b[0;32min\u001b[0m \u001b[0mrange\u001b[0m\u001b[0;34m(\u001b[0m\u001b[0;36m10\u001b[0m\u001b[0;34m)\u001b[0m\u001b[0;34m:\u001b[0m\u001b[0;34m\u001b[0m\u001b[0m\n\u001b[0;32m----> 3\u001b[0;31m     \u001b[0mw_pca\u001b[0m \u001b[0;34m=\u001b[0m \u001b[0mw_trajs_pca\u001b[0m\u001b[0;34m[\u001b[0m\u001b[0mi\u001b[0m\u001b[0;34m]\u001b[0m\u001b[0;34m\u001b[0m\u001b[0m\n\u001b[0m\u001b[1;32m      4\u001b[0m     \u001b[0mw\u001b[0m \u001b[0;34m=\u001b[0m \u001b[0mpca\u001b[0m\u001b[0;34m.\u001b[0m\u001b[0minverse_transform\u001b[0m\u001b[0;34m(\u001b[0m\u001b[0mw_pca\u001b[0m\u001b[0;34m)\u001b[0m\u001b[0;34m\u001b[0m\u001b[0m\n\u001b[1;32m      5\u001b[0m     \u001b[0mtraj\u001b[0m \u001b[0;34m=\u001b[0m \u001b[0mw\u001b[0m\u001b[0;34m.\u001b[0m\u001b[0mreshape\u001b[0m\u001b[0;34m(\u001b[0m\u001b[0;36m3351\u001b[0m\u001b[0;34m,\u001b[0m\u001b[0;34m-\u001b[0m\u001b[0;36m1\u001b[0m\u001b[0;34m)\u001b[0m\u001b[0;34m\u001b[0m\u001b[0m\n",
      "\u001b[0;31mKeyError\u001b[0m: 0"
     ]
    }
   ],
   "source": [
    "key = 'left'\n",
    "for i in range(10):\n",
    "    w_pca = w_trajs_pca[i]\n",
    "    w = pca.inverse_transform(w_pca)\n",
    "    traj = w.reshape(3351,-1)\n",
    "    foot_marker.publish(foot_poses[key][i])\n",
    "    viz.vis_traj(traj)\n",
    "    raw_input()"
   ]
  },
  {
   "cell_type": "markdown",
   "metadata": {},
   "source": [
    "### Learning from Data "
   ]
  },
  {
   "cell_type": "code",
   "execution_count": 34,
   "metadata": {},
   "outputs": [],
   "source": [
    "from regression import *"
   ]
  },
  {
   "cell_type": "raw",
   "metadata": {},
   "source": [
    "bgmr = dict()\n",
    "for key in keys:\n",
    "    bgmr[key] = DP_GLM_Regressor(n_components=10,n_init=5)\n",
    "    bgmr[key].fit(x_inputs[key], w_trajs_pca[key])"
   ]
  },
  {
   "cell_type": "code",
   "execution_count": 35,
   "metadata": {},
   "outputs": [],
   "source": [
    "from sklearn.model_selection import train_test_split"
   ]
  },
  {
   "cell_type": "code",
   "execution_count": 36,
   "metadata": {},
   "outputs": [],
   "source": [
    "x_inputs_train = dict()\n",
    "x_inputs_test = dict()\n",
    "y_train = dict()\n",
    "y_test = dict()\n",
    "\n",
    "y_vel_train = dict()\n",
    "y_vel_test = dict()\n",
    "\n",
    "y_u_train = dict()\n",
    "y_u_test = dict()\n",
    "\n",
    "for key in keys:\n",
    "    x_inputs_train[key], x_inputs_test[key], y_train[key], y_test[key] = train_test_split(x_inputs[key],w_trajs_pca[key], test_size = 0.1666, random_state=1)\n",
    "    if use_crocs:\n",
    "        _,_, y_vel_train[key], y_vel_test[key] = train_test_split(x_inputs[key],w_vel_trajs_pca[key], test_size = 0.1666, random_state=1)\n",
    "        _,_, y_u_train[key], y_u_test[key] = train_test_split(x_inputs[key],w_u_trajs_pca[key], test_size = 0.1666, random_state=1)"
   ]
  },
  {
   "cell_type": "code",
   "execution_count": 39,
   "metadata": {},
   "outputs": [],
   "source": [
    "gpr = dict()\n",
    "nn = dict()\n",
    "gmr = dict()\n",
    "\n",
    "gpr_vel = dict()\n",
    "gpr_u = dict()\n",
    "\n",
    "nn_vel = dict()\n",
    "nn_u = dict()\n",
    "\n",
    "\n",
    "for key in keys:\n",
    "    gpr[key] = GPy_Regressor(dim_input=x_inputs_train[key].shape[1],is_transform=True)\n",
    "    gpr[key].pca = pca[key]\n",
    "    gpr[key].fit(x_inputs_train[key], y_train[key],num_restarts=3)\n",
    "    nn[key] = NN_Regressor(K = 1)\n",
    "    nn[key].fit(x_inputs_train[key], y_train[key])\n",
    "    nn[key].pca = pca[key]\n",
    "    #gmr[key] = BGMR_Regressor(n_components=10,n_init = 10)\n",
    "    #gmr[key].fit(x_inputs_train[key], y_train[key],init_type='random')\n",
    "    #gmr[key].pca = pca[key]\n",
    "\n",
    "    if use_crocs:\n",
    "        gpr_vel[key] = GPy_Regressor(dim_input=x_inputs_train[key].shape[1],is_transform=True)\n",
    "        gpr_vel[key].pca = pca_vel[key]\n",
    "        gpr_vel[key].fit(x_inputs_train[key], y_vel_train[key],num_restarts=3)\n",
    "\n",
    "        nn_vel[key] = NN_Regressor(K = 1)\n",
    "        nn_vel[key].pca = pca_vel[key]\n",
    "        nn_vel[key].fit(x_inputs_train[key], y_vel_train[key])\n",
    "\n",
    "        gpr_u[key] = GPy_Regressor(dim_input=x_inputs_train[key].shape[1],is_transform=True)\n",
    "        gpr_u[key].pca = pca_u[key]\n",
    "        gpr_u[key].fit(x_inputs_train[key], y_u_train[key],num_restarts=3)\n",
    "\n",
    "        nn_u[key] = NN_Regressor(K = 1)\n",
    "        nn_u[key].pca = pca_u[key]\n",
    "        nn_u[key].fit(x_inputs_train[key], y_u_train[key])\n",
    "\n",
    "clear_output()\n",
    "    "
   ]
  },
  {
   "cell_type": "code",
   "execution_count": 37,
   "metadata": {},
   "outputs": [],
   "source": [
    "nn = dict()\n",
    "\n",
    "for key in keys:\n",
    "    nn[key] = NN_Regressor(K = 1)\n",
    "    nn[key].fit(x_inputs_train[key], y_train[key])\n",
    "    nn[key].pca = pca[key]\n",
    "\n",
    "clear_output()\n",
    "    "
   ]
  },
  {
   "cell_type": "code",
   "execution_count": 40,
   "metadata": {},
   "outputs": [],
   "source": [
    "functions = dict()\n",
    "functions['gpr'] = gpr\n",
    "functions['nn'] = nn\n",
    "functions['gmr'] = gmr\n",
    "\n",
    "if use_crocs:\n",
    "    functions['gpr_vel'] = gpr_vel\n",
    "    functions['gpr_u'] = gpr_u\n",
    "    f = open(ROOT_CROCS + '/functions.pkl', 'wb')\n",
    "else:\n",
    "    f = open(ROOT_CROCS + '/functions_A.pkl', 'wb')\n",
    "pickle.dump(functions, f)\n",
    "f.close()"
   ]
  },
  {
   "cell_type": "markdown",
   "metadata": {},
   "source": [
    "#### Load function approximators\n"
   ]
  },
  {
   "cell_type": "code",
   "execution_count": 26,
   "metadata": {},
   "outputs": [],
   "source": [
    "FILE_CAT = 'talos_moveEffector_flat'\n",
    "#FILE_CAT = 'talos_circle'\n",
    "#FILE_CAT = 'talos_circle_oriented'\n",
    "ROOT_PROCESSED = '/media/teguh/Data/MEMMO Dataset/processed_data/' + FILE_CAT + '/'\n",
    "ROOT_CROCS = '/media/teguh/Data/MEMMO Dataset/crocs_data/' + FILE_CAT + '/'\n",
    "#based on database B\n",
    "f = open(ROOT_CROCS + '/functions.pkl', 'rb')\n",
    "functions = pickle.load(f)\n",
    "f.close()\n",
    "gpr = functions['gpr']\n",
    "nn = functions['nn']\n",
    "gmr = functions['gmr'] \n",
    "gpr_vel = functions['gpr_vel']\n",
    "gpr_u = functions['gpr_u']"
   ]
  },
  {
   "cell_type": "code",
   "execution_count": 27,
   "metadata": {},
   "outputs": [],
   "source": [
    "#based on database A\n",
    "f = open(ROOT_CROCS + '/functions_A.pkl', 'rb')\n",
    "functions_A = pickle.load(f)\n",
    "f.close()\n",
    "gpr_A = functions_A['gpr']\n",
    "nn_A = functions_A['nn']\n",
    "gmr_A = functions_A['gmr'] "
   ]
  },
  {
   "cell_type": "markdown",
   "metadata": {},
   "source": [
    "#### Accuracy Comparison"
   ]
  },
  {
   "cell_type": "code",
   "execution_count": 28,
   "metadata": {},
   "outputs": [],
   "source": [
    "def calc_diff_pose(pose_true, pose_pred):\n",
    "    diff = 0.\n",
    "    for i in range(len(pose_true)):\n",
    "        diff += np.linalg.norm(pose_true[i] - pose_pred[i])\n",
    "    return diff"
   ]
  },
  {
   "cell_type": "raw",
   "metadata": {},
   "source": [
    "#calculate time\n",
    "gmr_time = []\n",
    "gpr_time = []\n",
    "nn_time = []\n",
    "\n",
    "for key in keys:\n",
    "    for i in range(len(x_inputs_test[key])):\n",
    "        x = x_inputs_test[key][i:i+1,:]\n",
    "        y_true = y_test[key][i:i+1,:]\n",
    "        \n",
    "        tic = time.time()\n",
    "        y_pred,_ = gpr[key].predict(x)\n",
    "        traj_pred = inverse_transform(y_pred, pca[key], Phi, rbf_num)\n",
    "        toc = time.time()\n",
    "        gpr_time.append(toc-tic)\n",
    "        \n",
    "        tic = time.time()\n",
    "        y_pred,_ = nn[key].predict(x)\n",
    "        traj_pred = inverse_transform(y_pred, pca[key], Phi, rbf_num)\n",
    "        toc = time.time()\n",
    "        nn_time.append(toc-tic)\n",
    "        \n",
    "        tic = time.time()\n",
    "        y_pred,_ = gmr[key].predict(x)\n",
    "        traj_pred = inverse_transform(y_pred, pca[key], Phi, rbf_num)\n",
    "        toc = time.time()\n",
    "        gmr_time.append(toc-tic)        "
   ]
  },
  {
   "cell_type": "raw",
   "metadata": {},
   "source": [
    "print np.mean(gpr_time), np.mean(gmr_time),np.mean(nn_time)"
   ]
  },
  {
   "cell_type": "raw",
   "metadata": {},
   "source": [
    "gmr_err = []\n",
    "gpr_err = []\n",
    "nn_err = []\n",
    "\n",
    "gmr_foot_err = []\n",
    "gpr_foot_err = []\n",
    "nn_foot_err = []\n",
    "\n",
    "#gpr_vel_err = []\n",
    "#gpr_u_err = []\n",
    "\n",
    "#nn_vel_err = []\n",
    "#nn_u_err = []\n",
    "\n",
    "\n",
    "for key in keys:\n",
    "    for i in range(len(x_inputs_test[key])):\n",
    "        x = x_inputs_test[key][i:i+1,:]\n",
    "        y_true = y_test[key][i:i+1,:]\n",
    "        traj_true = inverse_transform(y_true, pca[key], Phi, rbf_num)\n",
    "        left_pose_init,right_pose_init = calc_foot_pose(traj_true[0],left_foot, right_foot, pose_type = '2D')\n",
    "        left_pose_goal,right_pose_goal = calc_foot_pose(traj_true[-1],left_foot, right_foot, pose_type = '2D')\n",
    "        pose_true = [left_pose_init,right_pose_init,left_pose_goal,right_pose_goal ]\n",
    "        \n",
    "        \n",
    "        y_pred,_ = gpr[key].predict(x)\n",
    "        traj_pred = inverse_transform(y_pred, pca[key], Phi, rbf_num)\n",
    "        #gpr_err.append(np.linalg.norm(y_true-y_pred))\n",
    "        gpr_err.append(np.linalg.norm(traj_true.flatten()-traj_pred.flatten()))\n",
    "        left_pose_init_pred,right_pose_init_pred = calc_foot_pose(traj_pred[0],left_foot, right_foot, pose_type = '2D')\n",
    "        left_pose_goal_pred,right_pose_goal_pred = calc_foot_pose(traj_pred[-1],left_foot, right_foot, pose_type = '2D')\n",
    "        pose_pred = [left_pose_init_pred,right_pose_init_pred,left_pose_goal_pred,right_pose_goal_pred ]\n",
    "        gpr_foot_err.append(calc_diff_pose(pose_true, pose_pred))\n",
    "        \n",
    "        \n",
    "        \n",
    "        y_pred,_ = nn[key].predict(x)\n",
    "        traj_pred = inverse_transform(y_pred, pca[key], Phi, rbf_num)\n",
    "        #nn_err.append(np.linalg.norm(y_true-y_pred))\n",
    "        nn_err.append(np.linalg.norm(traj_true.flatten()-traj_pred.flatten()))\n",
    "        left_pose_init_pred,right_pose_init_pred = calc_foot_pose(traj_pred[0],left_foot, right_foot, pose_type = '2D')\n",
    "        left_pose_goal_pred,right_pose_goal_pred = calc_foot_pose(traj_pred[-1],left_foot, right_foot, pose_type = '2D')\n",
    "        pose_pred = [left_pose_init_pred,right_pose_init_pred,left_pose_goal_pred,right_pose_goal_pred ]\n",
    "        nn_foot_err.append(calc_diff_pose(pose_true, pose_pred))\n",
    "\n",
    "        \n",
    "        y_pred,_ = gmr[key].predict(x.flatten())\n",
    "        traj_pred = inverse_transform(y_pred, pca[key], Phi, rbf_num)\n",
    "        #gmr_err.append(np.linalg.norm(y_true-y_pred))\n",
    "        gmr_err.append(np.linalg.norm(traj_true.flatten()-traj_pred.flatten()))\n",
    "        left_pose_init_pred,right_pose_init_pred = calc_foot_pose(traj_pred[0],left_foot, right_foot, pose_type = '2D')\n",
    "        left_pose_goal_pred,right_pose_goal_pred = calc_foot_pose(traj_pred[-1],left_foot, right_foot, pose_type = '2D')\n",
    "        pose_pred = [left_pose_init_pred,right_pose_init_pred,left_pose_goal_pred,right_pose_goal_pred ]\n",
    "        gmr_foot_err.append(calc_diff_pose(pose_true, pose_pred))\n",
    "        \n",
    "        '''\n",
    "        if use_crocs:\n",
    "            y_vel_true = y_vel_test[key][i:i+1,:]\n",
    "            y_vel_pred,_ = gpr_vel[key].predict(x)\n",
    "            gpr_vel_err.append(np.linalg.norm(y_vel_true-y_vel_pred))\n",
    "\n",
    "            y_vel_pred,_ = nn_vel[key].predict(x)\n",
    "            nn_vel_err.append(np.linalg.norm(y_vel_true-y_vel_pred))\n",
    "\n",
    "            y_u_true = y_u_test[key][i:i+1,:]\n",
    "            y_u_pred,_ = gpr_u[key].predict(x)\n",
    "            gpr_u_err.append(np.linalg.norm(y_u_true-y_u_pred))\n",
    "\n",
    "            y_u_pred,_ = nn_u[key].predict(x)\n",
    "            nn_u_err.append(np.linalg.norm(y_u_true-y_u_pred))'''"
   ]
  },
  {
   "cell_type": "raw",
   "metadata": {},
   "source": [
    "print \"GPR & \\t {0:.2f} $\\\\pm$ {1:.2f} \\t & {2:.2f} $\\\\pm$ {3:.2f}\".format(np.mean(gpr_err), np.std(gpr_err), np.mean(gpr_foot_err), np.std(gpr_foot_err))\n",
    "print \"GMR & \\t {0:.2f} $\\\\pm$ {1:.2f} \\t & {2:.2f} $\\\\pm$ {3:.2f}\".format(np.mean(gmr_err), np.std(gmr_err), np.mean(gmr_foot_err), np.std(gmr_foot_err))\n",
    "print \"$k$-NN & \\t {0:.2f} $\\\\pm$ {1:.2f} \\t & {2:.2f} $\\\\pm$ {3:.2f}\".format(np.mean(nn_err), np.std(nn_err), np.mean(nn_foot_err), np.std(nn_foot_err))"
   ]
  },
  {
   "cell_type": "raw",
   "metadata": {},
   "source": [
    "if use_crocs: \n",
    "    print np.mean(gpr_vel_err),np.mean(nn_vel_err) \n",
    "    print np.std(gpr_vel_err),np.std(nn_vel_err)\n",
    "\n",
    "    print np.mean(gpr_u_err),np.mean(nn_u_err) \n",
    "    print np.std(gpr_u_err),np.std(nn_u_err)"
   ]
  },
  {
   "cell_type": "markdown",
   "metadata": {},
   "source": [
    "### Test Memory"
   ]
  },
  {
   "cell_type": "code",
   "execution_count": 41,
   "metadata": {},
   "outputs": [],
   "source": [
    "from sklearn.mixture import GaussianMixture\n",
    "gmm = dict()\n",
    "for key in keys:\n",
    "    gmm[key] = GaussianMixture(n_components=30, n_init = 3) \n",
    "    gmm[key].fit(x_inputs[key])"
   ]
  },
  {
   "cell_type": "code",
   "execution_count": 42,
   "metadata": {},
   "outputs": [],
   "source": [
    "viz.set_rate(1000)"
   ]
  },
  {
   "cell_type": "raw",
   "metadata": {},
   "source": [
    "x = np.array([[-0.1196,  0.1381,  0.1231,  0.2173, -0.1421,  0.2453,  0.3054,\n",
    "         0.1305, -0.1587]])\n",
    "key = 'left'"
   ]
  },
  {
   "cell_type": "raw",
   "metadata": {},
   "source": [
    "x = np.array([[ 0.2911,  0.1391,  0.2786, -0.1895, -0.0433, -0.3054,  0.2855,\n",
    "        -0.0931,  0.1761]])\n",
    "key = 'right'"
   ]
  },
  {
   "cell_type": "code",
   "execution_count": 62,
   "metadata": {},
   "outputs": [],
   "source": [
    "def toggle_key(key):\n",
    "    if key == 'left':\n",
    "        return 'right'\n",
    "    else:\n",
    "        return 'left'"
   ]
  },
  {
   "cell_type": "code",
   "execution_count": 65,
   "metadata": {},
   "outputs": [],
   "source": [
    "indexes = [0, 3, 7, 8, 9, 12, 13]"
   ]
  },
  {
   "cell_type": "code",
   "execution_count": 92,
   "metadata": {},
   "outputs": [],
   "source": [
    "keys = ['left', 'right']\n",
    "\n",
    "nn_A = dict()\n",
    "for key in keys:\n",
    "    x = gpr_A[key].gp.X\n",
    "    y = gpr_A[key].gp.Y\n",
    "    nn_A[key] = NN_Regressor()\n",
    "    nn_A[key].fit(x,y)\n",
    "    nn_A[key].pca = gpr_A[key].pca"
   ]
  },
  {
   "cell_type": "code",
   "execution_count": null,
   "metadata": {},
   "outputs": [],
   "source": [
    "indexes = [2,4,6,8,11,14,20,21]"
   ]
  },
  {
   "cell_type": "code",
   "execution_count": null,
   "metadata": {},
   "outputs": [],
   "source": [
    "FIG_FILE_NAME = \"/home/teguh/git/publications/memmo_icra_2020/videos/gmr_\"\n",
    "key = 'right'\n",
    "fig_index = 0\n",
    "for i in (indexes):\n",
    "#for i in range(50):  \n",
    "    print i\n",
    "    if i%2 == 0:\n",
    "        key = 'left'\n",
    "    else:\n",
    "        key = 'right'\n",
    "    x = x_inputs_test[key][np.random.randint(x_inputs_test[key].shape[0])][None,:]\n",
    "    #x = x_inputs_test[key][i][None,:]\n",
    "    \n",
    "    #x,_ = gmm[key].sample()\n",
    "    func = gpr\n",
    "\n",
    "    #w_pca,cov = gmr[key].predict(x.flatten())\n",
    "    w_pca,cov = func[key].predict(x)\n",
    "    w_pca = mvn(mean=w_pca.flatten(),cov=0.01*np.eye(w_pca.shape[1])).rvs()\n",
    "    w_pca[15:] *=0.\n",
    "    print w_pca\n",
    "    #print cov\n",
    "    w = func[key].pca.inverse_transform(w_pca)\n",
    "    #w = w.reshape(rbf_num,-1)\n",
    "    #traj = np.dot(Phi,w)\n",
    "    traj = w.reshape(3351,-1)\n",
    "    if goal_type == 'contact':\n",
    "        foot_marker.publish(x.reshape(-1,3))    \n",
    "    elif goal_type == 'root':\n",
    "        foot_marker.publish(x[0,0:6].reshape(-1,3))    \n",
    "        viz.br.sendTransform(traj[0,0:3], normalize(traj[0,3:7]),\n",
    "         rospy.Time.now(),\n",
    "         \"init\",\n",
    "         \"world\"\n",
    "         )\n",
    "        viz.br.sendTransform(x[0,6:9], normalize(x[0,9:13]),\n",
    "                 rospy.Time.now(),\n",
    "                 \"goal\",\n",
    "                 \"world\"\n",
    "                 )\n",
    "    \n",
    "    \n",
    "    '''\n",
    "    viz.set_dof(traj[0])\n",
    "    time.sleep(0.2)\n",
    "    for j,index in enumerate(np.arange(0,3350,50)):\n",
    "        viz.set_dof(traj[index])\n",
    "        time.sleep(0.04)\n",
    "        #ave_screenshot(200,200,700,700, FIG_FILE_NAME +  str(fig_index) + '.png') \n",
    "        fig_index +=1\n",
    "    for k in range(20):\n",
    "        #save_screenshot(200,200,700,700, FIG_FILE_NAME  +  str(fig_index)  + '.png') \n",
    "        fig_index +=1\n",
    "    '''\n",
    "    \n",
    "    viz.vis_traj(traj)\n",
    "    #dec = raw_input()\n",
    "    #if dec == 'y':\n",
    "    #    indexes += [i]\n",
    "    #key = toggle_key(key)\n",
    "    clear_output()"
   ]
  },
  {
   "cell_type": "code",
   "execution_count": 77,
   "metadata": {},
   "outputs": [],
   "source": [
    "viz.set_dof(traj[0])"
   ]
  },
  {
   "cell_type": "code",
   "execution_count": 79,
   "metadata": {},
   "outputs": [],
   "source": [
    "for j,index in enumerate(np.arange(0,3350,50)):\n",
    "    viz.set_dof(traj[index])\n",
    "    time.sleep(0.04)\n",
    "    save_screenshot(200,200,700,700, FIG_FILE_NAME + '_' + str(i)+ str(j) + '.png') \n",
    "\n",
    "clear_output()\n"
   ]
  },
  {
   "cell_type": "code",
   "execution_count": 128,
   "metadata": {},
   "outputs": [],
   "source": [
    "os.system('ffmpeg -r 25 -start_number 0 -i /home/teguh/git/publications/memmo_icra_2020/videos/gpr_%d.png -c:v libx264 -r 30 -pix_fmt yuv420p /home/teguh/git/publications/memmo_icra_2020/videos/gpr.mp4')\n",
    "\n",
    "os.system('ffmpeg -r 25 -start_number 0 -i /home/teguh/git/publications/memmo_icra_2020/videos/gmr_%d.png -c:v libx264 -r 30 -pix_fmt yuv420p /home/teguh/git/publications/memmo_icra_2020/videos/gmr.mp4')\n",
    "\n",
    "os.system('ffmpeg -r 25 -start_number 0 -i /home/teguh/git/publications/memmo_icra_2020/videos/nn_%d.png -c:v libx264 -r 30 -pix_fmt yuv420p /home/teguh/git/publications/memmo_icra_2020/videos/nn.mp4')\n",
    "\n",
    "os.system('ffmpeg -r 25 -start_number 0 -i /home/teguh/git/publications/memmo_icra_2020/videos/gpra_%d.png -c:v libx264 -r 30 -pix_fmt yuv420p /home/teguh/git/publications/memmo_icra_2020/videos/gpr_A.mp4')\n",
    "\n",
    "os.system('ffmpeg -r 25 -start_number 0 -i /home/teguh/git/publications/memmo_icra_2020/videos/gmra_%d.png -c:v libx264 -r 30 -pix_fmt yuv420p /home/teguh/git/publications/memmo_icra_2020/videos/gmr_A.mp4')\n",
    "\n",
    "os.system('ffmpeg -r 25 -start_number 0 -i /home/teguh/git/publications/memmo_icra_2020/videos/nna_%d.png -c:v libx264 -r 30 -pix_fmt yuv420p /home/teguh/git/publications/memmo_icra_2020/videos/nn_A.mp4')"
   ]
  },
  {
   "cell_type": "markdown",
   "metadata": {},
   "source": [
    "#### Getting the distribution of trajectories "
   ]
  },
  {
   "cell_type": "raw",
   "metadata": {},
   "source": [
    "from scipy.stats import multivariate_normal as mvn\n",
    "#traj_dist = mvn(w_pca[0], 100*cov[0])\n",
    "traj_dist = mvn(w_pca, 25*cov)\n",
    "\n",
    "traj_samples = []\n",
    "for i in range(20):\n",
    "    w_pca_sample = traj_dist.rvs()\n",
    "    w = pca[key].inverse_transform(w_pca_sample)\n",
    "    w = w.reshape(rbf_num,-1)\n",
    "    traj_samples.append(np.dot(Phi,w))\n",
    "    \n",
    "traj_samples = np.array(traj_samples)"
   ]
  },
  {
   "cell_type": "raw",
   "metadata": {},
   "source": [
    "for traj in traj_samples:\n",
    "    #iz.set_dof(traj[2100])\n",
    "    viz.vis_traj(traj)\n",
    "    time.sleep(0.1)\n",
    "\n",
    "traj_samples.shape\n",
    "\n",
    "plt.plot(traj_samples[:,2500,-10])"
   ]
  },
  {
   "cell_type": "markdown",
   "metadata": {},
   "source": [
    "### Warmstart crocoddyl"
   ]
  },
  {
   "cell_type": "markdown",
   "metadata": {},
   "source": [
    "#### Loading function approximators "
   ]
  },
  {
   "cell_type": "code",
   "execution_count": 28,
   "metadata": {},
   "outputs": [],
   "source": [
    "#based on database B\n",
    "f = open(ROOT_CROCS + '/functions.pkl', 'rb')\n",
    "functions = pickle.load(f)\n",
    "f.close()\n",
    "gpr = functions['gpr']\n",
    "nn = functions['nn']\n",
    "gmr = functions['gmr'] \n",
    "\n",
    "gpr_vel = functions['gpr_vel']\n",
    "gpr_u = functions['gpr_u']\n",
    "\n",
    "#based on database A\n",
    "f = open(ROOT_CROCS + '/functions_A.pkl', 'rb')\n",
    "functions_A = pickle.load(f)\n",
    "f.close()\n",
    "gpr_A = functions_A['gpr']\n",
    "nn_A = functions_A['nn']\n",
    "gmr_A = functions_A['gmr'] "
   ]
  },
  {
   "cell_type": "code",
   "execution_count": 29,
   "metadata": {},
   "outputs": [],
   "source": [
    "def calc_foot_T(x, move = 'left'):\n",
    "    #calculate the footstep transformation matrix based on the input x\n",
    "    #x is defined as: [left_foot, right_foot, 'foot_to_move']\n",
    "    x = x.reshape(-1,3)\n",
    "    Ts = []\n",
    "    for x_i in x:\n",
    "        T = PosetoMat(x_i)\n",
    "        Ts.append(T)\n",
    "    \n",
    "    if move == 'left':\n",
    "        T_lefts = [Ts[0], None, Ts[2]]\n",
    "        T_rights = [Ts[1]]*3\n",
    "    else:\n",
    "        T_rights = [Ts[1], None, Ts[2]]\n",
    "        T_lefts = [Ts[0]]*3\n",
    "        \n",
    "    return T_lefts, T_rights"
   ]
  },
  {
   "cell_type": "markdown",
   "metadata": {},
   "source": [
    "#### Create a problem"
   ]
  },
  {
   "cell_type": "code",
   "execution_count": 30,
   "metadata": {},
   "outputs": [],
   "source": [
    "if np.random.rand() < 0.5:\n",
    "    key = 'left'\n",
    "else:\n",
    "    key = 'right'\n",
    "x,_ = gmm[key].sample()"
   ]
  },
  {
   "cell_type": "code",
   "execution_count": 34,
   "metadata": {},
   "outputs": [],
   "source": [
    "T_lefts, T_rights = calc_foot_T(x,move=key)\n",
    "foot_marker.publish(x.reshape(-1,3))\n",
    "\n",
    "#predict the trajectory\n",
    "w_pca,cov = gpr[key].predict(x)\n",
    "w = gpr[key].pca.inverse_transform(w_pca)\n",
    "w = w.reshape(rbf_num,-1)\n",
    "traj = np.dot(Phi,w)\n",
    "\n",
    "#predict the velocity trajectory\n",
    "w_pca,cov = gpr_vel[key].predict(x)\n",
    "w = gpr_vel[key].pca.inverse_transform(w_pca)\n",
    "w = w.reshape(rbf_num,-1)\n",
    "vel_traj = np.dot(Phi,w)\n",
    "\n",
    "#predict the control trajectory\n",
    "w_pca,cov = gpr_u[key].predict(x)\n",
    "w = gpr_u[key].pca.inverse_transform(w_pca)\n",
    "w = w.reshape(rbf_num,-1)\n",
    "u_traj = np.dot(Phi,w)\n",
    "\n",
    "\n",
    "#visualize\n",
    "viz.set_rate(1000)\n",
    "#viz.vis_traj(traj)"
   ]
  },
  {
   "cell_type": "markdown",
   "metadata": {},
   "source": [
    "#### Create phases"
   ]
  },
  {
   "cell_type": "raw",
   "metadata": {},
   "source": [
    "data_phases = []\n",
    "data_phases.append(np.arange(0,38))\n",
    "data_phases.append(np.arange(38,73))\n",
    "data_phases.append(np.arange(73,110))\n",
    "delta_t = 0.04"
   ]
  },
  {
   "cell_type": "code",
   "execution_count": 35,
   "metadata": {},
   "outputs": [],
   "source": [
    "data_phases = []\n",
    "data_phases.append(np.arange(0,25))\n",
    "data_phases.append(np.arange(25,60))\n",
    "data_phases.append(np.arange(60,85))\n",
    "delta_t = 0.04"
   ]
  },
  {
   "cell_type": "code",
   "execution_count": 36,
   "metadata": {},
   "outputs": [],
   "source": [
    "data_phases_ori = [data_phases]"
   ]
  },
  {
   "cell_type": "markdown",
   "metadata": {},
   "source": [
    "#### Subsample the trajectories "
   ]
  },
  {
   "cell_type": "code",
   "execution_count": 37,
   "metadata": {},
   "outputs": [],
   "source": [
    "T = traj.shape[0]\n",
    "intervals = np.concatenate([np.arange(0,T,40),[T-1]])\n",
    "T_new = len(intervals)\n",
    "traj = traj[intervals]\n",
    "#vel_traj = np.zeros((traj.shape[0], 38))\n",
    "#u_traj = np.zeros((traj.shape[0], 32))\n",
    "\n",
    "#for visualization\n",
    "viz.set_rate(25)\n",
    "raw_traj = traj.copy()"
   ]
  },
  {
   "cell_type": "raw",
   "metadata": {},
   "source": [
    "vel_traj = np.zeros((traj.shape[0], 38))\n",
    "#u_traj = np.zeros((traj.shape[0], 32))\n"
   ]
  },
  {
   "cell_type": "raw",
   "metadata": {},
   "source": [
    "viz.vis_traj(raw_traj)"
   ]
  },
  {
   "cell_type": "markdown",
   "metadata": {},
   "source": [
    "#### Store in Crocoddyl format "
   ]
  },
  {
   "cell_type": "code",
   "execution_count": 38,
   "metadata": {},
   "outputs": [],
   "source": [
    "phases = store_for_crocoddyl(traj, vel_traj, u_traj, T_lefts, T_rights, data_phases, delta_t)\n",
    "pickle.dump(phases,open('data_teguh_3.txt','wb'))"
   ]
  },
  {
   "cell_type": "markdown",
   "metadata": {},
   "source": [
    "### Run Crocoddyl "
   ]
  },
  {
   "cell_type": "code",
   "execution_count": 39,
   "metadata": {},
   "outputs": [],
   "source": [
    "from memmo_utils import *\n",
    "from crocoddyl import loadTalos\n",
    "from croc_lib import *"
   ]
  },
  {
   "cell_type": "code",
   "execution_count": 40,
   "metadata": {},
   "outputs": [
    {
     "name": "stdout",
     "output_type": "stream",
     "text": [
      "\n",
      "*** SOLVE ***\n",
      "iter \t cost \t      stop \t    grad \t  xreg \t      ureg \t step \t feas\n",
      "   0  5.29404e+01  4.55276e+01  2.24253e+02  1.00000e-09  1.00000e-09   1.0000     1\n",
      "   1  5.26902e+01  3.90969e-02  1.77882e+01  1.00000e-09  1.00000e-09   0.1250     1\n",
      "   2  5.26887e+01  3.46635e-02  1.67801e+01  1.00000e-08  1.00000e-08   0.0020     1\n",
      "   3  5.26887e+01  3.46636e-02  1.67797e+01  1.00000e-07  1.00000e-07   0.0020     1\n",
      "   4  5.26887e+01  3.46638e-02  1.67758e+01  1.00000e-06  1.00000e-06   0.0020     1\n",
      "   5  5.26887e+01  3.46662e-02  1.67372e+01  1.00000e-05  1.00000e-05   0.0020     1\n",
      "   6  5.26891e+01  3.46798e-02  1.63727e+01  1.00000e-04  1.00000e-04   0.0020     1\n",
      "   7  5.26913e+01  3.43833e-02  1.39629e+01  1.00000e-03  1.00000e-03   0.0020     1\n",
      "   8  5.26948e+01  3.39239e-02  7.98409e+00  1.00000e-02  1.00000e-02   0.0020     1\n",
      "   9  5.26895e+01  5.11997e-02  2.82246e+00  1.00000e-01  1.00000e-01   0.0020     1\n",
      "iter \t cost \t      stop \t    grad \t  xreg \t      ureg \t step \t feas\n",
      "  10  5.26624e+01  1.37421e-01  9.69478e-01  1.00000e-01  1.00000e-01   0.0312     1\n",
      "  11  5.26642e+01  1.21322e-01  8.58883e-01  1.00000e+00  1.00000e+00   0.0020     1\n",
      "  12  5.26620e+01  4.23967e-01  3.16688e-01  1.00000e+00  1.00000e+00   0.0078     1\n",
      "  13  5.26619e+01  4.18137e-01  3.12715e-01  1.00000e+01  1.00000e+01   0.0020     1\n",
      "  14  5.25885e+01  1.42635e+00  1.07678e-01  1.00000e+00  1.00000e+00   1.0000     1\n",
      "  15  5.25885e+01  2.85905e-01  2.14278e-01  1.00000e+01  1.00000e+01   0.0020     1\n",
      "  16  5.25882e+01  6.12235e-01  4.65094e-02  1.00000e+01  1.00000e+01   0.0312     1\n"
     ]
    },
    {
     "ename": "KeyboardInterrupt",
     "evalue": "",
     "output_type": "error",
     "traceback": [
      "\u001b[0;31m---------------------------------------------------------------------------\u001b[0m",
      "\u001b[0;31mKeyboardInterrupt\u001b[0m                         Traceback (most recent call last)",
      "\u001b[0;32m<ipython-input-40-b3b68a739221>\u001b[0m in \u001b[0;36m<module>\u001b[0;34m()\u001b[0m\n\u001b[1;32m      3\u001b[0m \u001b[0mclear_output\u001b[0m\u001b[0;34m(\u001b[0m\u001b[0;34m)\u001b[0m\u001b[0;34m\u001b[0m\u001b[0m\n\u001b[1;32m      4\u001b[0m \u001b[0;34m\u001b[0m\u001b[0m\n\u001b[0;32m----> 5\u001b[0;31m \u001b[0msolver\u001b[0m \u001b[0;34m=\u001b[0m \u001b[0msolve_problem\u001b[0m\u001b[0;34m(\u001b[0m\u001b[0mROBOT\u001b[0m\u001b[0;34m,\u001b[0m\u001b[0mproblem\u001b[0m\u001b[0;34m,\u001b[0m\u001b[0mxs\u001b[0m\u001b[0;34m,\u001b[0m \u001b[0mus\u001b[0m\u001b[0;34m,\u001b[0m\u001b[0mmaxiter\u001b[0m \u001b[0;34m=\u001b[0m \u001b[0;36m50\u001b[0m\u001b[0;34m,\u001b[0m \u001b[0mSTOP_THRESHOLD\u001b[0m\u001b[0;34m=\u001b[0m\u001b[0;36m1e-03\u001b[0m\u001b[0;34m,\u001b[0m \u001b[0mrecalc_u\u001b[0m\u001b[0;34m=\u001b[0m\u001b[0mFalse\u001b[0m\u001b[0;34m,\u001b[0m \u001b[0mTYPE_OF_SOLVER\u001b[0m\u001b[0;34m=\u001b[0m\u001b[0;34m'FDDP'\u001b[0m\u001b[0;34m)\u001b[0m\u001b[0;34m\u001b[0m\u001b[0m\n\u001b[0m\u001b[1;32m      6\u001b[0m \u001b[0mtraj\u001b[0m \u001b[0;34m=\u001b[0m \u001b[0mnp\u001b[0m\u001b[0;34m.\u001b[0m\u001b[0marray\u001b[0m\u001b[0;34m(\u001b[0m\u001b[0msolver\u001b[0m\u001b[0;34m.\u001b[0m\u001b[0mxs\u001b[0m\u001b[0;34m)\u001b[0m\u001b[0;34m[\u001b[0m\u001b[0;34m:\u001b[0m\u001b[0;34m,\u001b[0m\u001b[0;36m0\u001b[0m\u001b[0;34m:\u001b[0m\u001b[0;36m39\u001b[0m\u001b[0;34m]\u001b[0m\u001b[0;34m\u001b[0m\u001b[0m\n",
      "\u001b[0;32m/home/teguh/git/memmo/memmo_talos/notebooks/croc_lib.py\u001b[0m in \u001b[0;36msolve_problem\u001b[0;34m(ROBOT, problem, xs, us, TYPE_OF_SOLVER, STOP_THRESHOLD, ENABLE_ITER_DISPLAY, maxiter, recalc_u)\u001b[0m\n\u001b[1;32m    204\u001b[0m         solver.solve(maxiter=maxiter,\n\u001b[1;32m    205\u001b[0m                      \u001b[0minit_xs\u001b[0m\u001b[0;34m=\u001b[0m\u001b[0mxs\u001b[0m\u001b[0;34m,\u001b[0m\u001b[0;34m\u001b[0m\u001b[0m\n\u001b[0;32m--> 206\u001b[0;31m                      \u001b[0minit_us\u001b[0m\u001b[0;34m=\u001b[0m\u001b[0mus\u001b[0m\u001b[0;34m\u001b[0m\u001b[0m\n\u001b[0m\u001b[1;32m    207\u001b[0m                     )\n\u001b[1;32m    208\u001b[0m \u001b[0;34m\u001b[0m\u001b[0m\n",
      "\u001b[0;32m/home/teguh/git/memmo/crocoddyl/crocoddyl/fddp.pyc\u001b[0m in \u001b[0;36msolve\u001b[0;34m(self, maxiter, init_xs, init_us, isFeasible, regInit)\u001b[0m\n\u001b[1;32m    154\u001b[0m             \u001b[0;32mfor\u001b[0m \u001b[0ma\u001b[0m \u001b[0;32min\u001b[0m \u001b[0mself\u001b[0m\u001b[0;34m.\u001b[0m\u001b[0malphas\u001b[0m\u001b[0;34m:\u001b[0m\u001b[0;34m\u001b[0m\u001b[0m\n\u001b[1;32m    155\u001b[0m                 \u001b[0;32mtry\u001b[0m\u001b[0;34m:\u001b[0m\u001b[0;34m\u001b[0m\u001b[0m\n\u001b[0;32m--> 156\u001b[0;31m                     \u001b[0mself\u001b[0m\u001b[0;34m.\u001b[0m\u001b[0mdV\u001b[0m \u001b[0;34m=\u001b[0m \u001b[0mself\u001b[0m\u001b[0;34m.\u001b[0m\u001b[0mtryStep\u001b[0m\u001b[0;34m(\u001b[0m\u001b[0ma\u001b[0m\u001b[0;34m)\u001b[0m\u001b[0;34m\u001b[0m\u001b[0m\n\u001b[0m\u001b[1;32m    157\u001b[0m                 \u001b[0;32mexcept\u001b[0m \u001b[0mArithmeticError\u001b[0m\u001b[0;34m:\u001b[0m\u001b[0;34m\u001b[0m\u001b[0m\n\u001b[1;32m    158\u001b[0m                     \u001b[0;32mcontinue\u001b[0m\u001b[0;34m\u001b[0m\u001b[0m\n",
      "\u001b[0;32m/home/teguh/git/memmo/crocoddyl/crocoddyl/fddp.pyc\u001b[0m in \u001b[0;36mtryStep\u001b[0;34m(self, stepLength)\u001b[0m\n\u001b[1;32m    121\u001b[0m         \u001b[0;34m:\u001b[0m\u001b[0mparam\u001b[0m \u001b[0mstepLength\u001b[0m\u001b[0;34m:\u001b[0m \u001b[0mstep\u001b[0m \u001b[0mlength\u001b[0m\u001b[0;34m\u001b[0m\u001b[0m\n\u001b[1;32m    122\u001b[0m         \"\"\"\n\u001b[0;32m--> 123\u001b[0;31m         \u001b[0mself\u001b[0m\u001b[0;34m.\u001b[0m\u001b[0mforwardPass\u001b[0m\u001b[0;34m(\u001b[0m\u001b[0mstepLength\u001b[0m\u001b[0;34m)\u001b[0m\u001b[0;34m\u001b[0m\u001b[0m\n\u001b[0m\u001b[1;32m    124\u001b[0m         \u001b[0;32mreturn\u001b[0m \u001b[0mself\u001b[0m\u001b[0;34m.\u001b[0m\u001b[0mcost\u001b[0m \u001b[0;34m-\u001b[0m \u001b[0mself\u001b[0m\u001b[0;34m.\u001b[0m\u001b[0mcost_try\u001b[0m\u001b[0;34m\u001b[0m\u001b[0m\n\u001b[1;32m    125\u001b[0m \u001b[0;34m\u001b[0m\u001b[0m\n",
      "\u001b[0;32m/home/teguh/git/memmo/crocoddyl/crocoddyl/fddp.pyc\u001b[0m in \u001b[0;36mforwardPass\u001b[0;34m(self, stepLength, warning)\u001b[0m\n\u001b[1;32m    323\u001b[0m             \u001b[0;32mwith\u001b[0m \u001b[0mnp\u001b[0m\u001b[0;34m.\u001b[0m\u001b[0mwarnings\u001b[0m\u001b[0;34m.\u001b[0m\u001b[0mcatch_warnings\u001b[0m\u001b[0;34m(\u001b[0m\u001b[0;34m)\u001b[0m\u001b[0;34m:\u001b[0m\u001b[0;34m\u001b[0m\u001b[0m\n\u001b[1;32m    324\u001b[0m                 \u001b[0mnp\u001b[0m\u001b[0;34m.\u001b[0m\u001b[0mwarnings\u001b[0m\u001b[0;34m.\u001b[0m\u001b[0msimplefilter\u001b[0m\u001b[0;34m(\u001b[0m\u001b[0mwarning\u001b[0m\u001b[0;34m)\u001b[0m\u001b[0;34m\u001b[0m\u001b[0m\n\u001b[0;32m--> 325\u001b[0;31m                 \u001b[0mxnext\u001b[0m\u001b[0;34m,\u001b[0m \u001b[0mcost\u001b[0m \u001b[0;34m=\u001b[0m \u001b[0mm\u001b[0m\u001b[0;34m.\u001b[0m\u001b[0mcalc\u001b[0m\u001b[0;34m(\u001b[0m\u001b[0md\u001b[0m\u001b[0;34m,\u001b[0m \u001b[0mxtry\u001b[0m\u001b[0;34m[\u001b[0m\u001b[0mt\u001b[0m\u001b[0;34m]\u001b[0m\u001b[0;34m,\u001b[0m \u001b[0mutry\u001b[0m\u001b[0;34m[\u001b[0m\u001b[0mt\u001b[0m\u001b[0;34m]\u001b[0m\u001b[0;34m)\u001b[0m\u001b[0;34m\u001b[0m\u001b[0m\n\u001b[0m\u001b[1;32m    326\u001b[0m             \u001b[0mctry\u001b[0m \u001b[0;34m+=\u001b[0m \u001b[0mcost\u001b[0m\u001b[0;34m\u001b[0m\u001b[0m\n\u001b[1;32m    327\u001b[0m             \u001b[0mraiseIfNan\u001b[0m\u001b[0;34m(\u001b[0m\u001b[0;34m[\u001b[0m\u001b[0mctry\u001b[0m\u001b[0;34m,\u001b[0m \u001b[0mcost\u001b[0m\u001b[0;34m]\u001b[0m\u001b[0;34m,\u001b[0m \u001b[0mArithmeticError\u001b[0m\u001b[0;34m(\u001b[0m\u001b[0;34m'forward error'\u001b[0m\u001b[0;34m)\u001b[0m\u001b[0;34m)\u001b[0m\u001b[0;34m\u001b[0m\u001b[0m\n",
      "\u001b[0;32m/home/teguh/git/memmo/crocoddyl/crocoddyl/integrated_action.pyc\u001b[0m in \u001b[0;36mcalc\u001b[0;34m(self, data, x, u)\u001b[0m\n\u001b[1;32m     23\u001b[0m     \u001b[0;32mdef\u001b[0m \u001b[0mcalc\u001b[0m\u001b[0;34m(\u001b[0m\u001b[0mself\u001b[0m\u001b[0;34m,\u001b[0m \u001b[0mdata\u001b[0m\u001b[0;34m,\u001b[0m \u001b[0mx\u001b[0m\u001b[0;34m,\u001b[0m \u001b[0mu\u001b[0m\u001b[0;34m=\u001b[0m\u001b[0mNone\u001b[0m\u001b[0;34m)\u001b[0m\u001b[0;34m:\u001b[0m\u001b[0;34m\u001b[0m\u001b[0m\n\u001b[1;32m     24\u001b[0m         \u001b[0mnq\u001b[0m\u001b[0;34m,\u001b[0m \u001b[0mdt\u001b[0m \u001b[0;34m=\u001b[0m \u001b[0mself\u001b[0m\u001b[0;34m.\u001b[0m\u001b[0mnq\u001b[0m\u001b[0;34m,\u001b[0m \u001b[0mself\u001b[0m\u001b[0;34m.\u001b[0m\u001b[0mtimeStep\u001b[0m\u001b[0;34m\u001b[0m\u001b[0m\n\u001b[0;32m---> 25\u001b[0;31m         \u001b[0macc\u001b[0m\u001b[0;34m,\u001b[0m \u001b[0mcost\u001b[0m \u001b[0;34m=\u001b[0m \u001b[0mself\u001b[0m\u001b[0;34m.\u001b[0m\u001b[0mdifferential\u001b[0m\u001b[0;34m.\u001b[0m\u001b[0mcalc\u001b[0m\u001b[0;34m(\u001b[0m\u001b[0mdata\u001b[0m\u001b[0;34m.\u001b[0m\u001b[0mdifferential\u001b[0m\u001b[0;34m,\u001b[0m \u001b[0mx\u001b[0m\u001b[0;34m,\u001b[0m \u001b[0mu\u001b[0m\u001b[0;34m)\u001b[0m\u001b[0;34m\u001b[0m\u001b[0m\n\u001b[0m\u001b[1;32m     26\u001b[0m         \u001b[0;32mif\u001b[0m \u001b[0mself\u001b[0m\u001b[0;34m.\u001b[0m\u001b[0mwithCostResiduals\u001b[0m\u001b[0;34m:\u001b[0m\u001b[0;34m\u001b[0m\u001b[0m\n\u001b[1;32m     27\u001b[0m             \u001b[0mdata\u001b[0m\u001b[0;34m.\u001b[0m\u001b[0mcostResiduals\u001b[0m\u001b[0;34m[\u001b[0m\u001b[0;34m:\u001b[0m\u001b[0;34m]\u001b[0m \u001b[0;34m=\u001b[0m \u001b[0mdata\u001b[0m\u001b[0;34m.\u001b[0m\u001b[0mdifferential\u001b[0m\u001b[0;34m.\u001b[0m\u001b[0mcostResiduals\u001b[0m\u001b[0;34m[\u001b[0m\u001b[0;34m:\u001b[0m\u001b[0;34m]\u001b[0m\u001b[0;34m\u001b[0m\u001b[0m\n",
      "\u001b[0;32m/home/teguh/git/memmo/crocoddyl/crocoddyl/floating_contact.pyc\u001b[0m in \u001b[0;36mcalc\u001b[0;34m(self, data, x, u)\u001b[0m\n\u001b[1;32m     43\u001b[0m         \u001b[0mdata\u001b[0m\u001b[0;34m.\u001b[0m\u001b[0mK\u001b[0m\u001b[0;34m[\u001b[0m\u001b[0mnv\u001b[0m\u001b[0;34m:\u001b[0m\u001b[0;34m,\u001b[0m \u001b[0;34m:\u001b[0m\u001b[0mnv\u001b[0m\u001b[0;34m]\u001b[0m \u001b[0;34m=\u001b[0m \u001b[0mdata\u001b[0m\u001b[0;34m.\u001b[0m\u001b[0mcontact\u001b[0m\u001b[0;34m.\u001b[0m\u001b[0mJ\u001b[0m\u001b[0;34m\u001b[0m\u001b[0m\n\u001b[1;32m     44\u001b[0m         \u001b[0mdata\u001b[0m\u001b[0;34m.\u001b[0m\u001b[0mK\u001b[0m\u001b[0;34m.\u001b[0m\u001b[0mT\u001b[0m\u001b[0;34m[\u001b[0m\u001b[0mnv\u001b[0m\u001b[0;34m:\u001b[0m\u001b[0;34m,\u001b[0m \u001b[0;34m:\u001b[0m\u001b[0mnv\u001b[0m\u001b[0;34m]\u001b[0m \u001b[0;34m=\u001b[0m \u001b[0mdata\u001b[0m\u001b[0;34m.\u001b[0m\u001b[0mcontact\u001b[0m\u001b[0;34m.\u001b[0m\u001b[0mJ\u001b[0m\u001b[0;34m\u001b[0m\u001b[0m\n\u001b[0;32m---> 45\u001b[0;31m         \u001b[0mdata\u001b[0m\u001b[0;34m.\u001b[0m\u001b[0mKinv\u001b[0m \u001b[0;34m=\u001b[0m \u001b[0mnp\u001b[0m\u001b[0;34m.\u001b[0m\u001b[0mlinalg\u001b[0m\u001b[0;34m.\u001b[0m\u001b[0minv\u001b[0m\u001b[0;34m(\u001b[0m\u001b[0mdata\u001b[0m\u001b[0;34m.\u001b[0m\u001b[0mK\u001b[0m\u001b[0;34m)\u001b[0m\u001b[0;34m\u001b[0m\u001b[0m\n\u001b[0m\u001b[1;32m     46\u001b[0m \u001b[0;34m\u001b[0m\u001b[0m\n\u001b[1;32m     47\u001b[0m         \u001b[0mdata\u001b[0m\u001b[0;34m.\u001b[0m\u001b[0mr\u001b[0m\u001b[0;34m[\u001b[0m\u001b[0;34m:\u001b[0m\u001b[0mnv\u001b[0m\u001b[0;34m]\u001b[0m \u001b[0;34m=\u001b[0m \u001b[0mdata\u001b[0m\u001b[0;34m.\u001b[0m\u001b[0mtauq\u001b[0m \u001b[0;34m-\u001b[0m \u001b[0mm2a\u001b[0m\u001b[0;34m(\u001b[0m\u001b[0mdata\u001b[0m\u001b[0;34m.\u001b[0m\u001b[0mpinocchio\u001b[0m\u001b[0;34m.\u001b[0m\u001b[0mnle\u001b[0m\u001b[0;34m)\u001b[0m\u001b[0;34m\u001b[0m\u001b[0m\n",
      "\u001b[0;32m/usr/local/lib/python2.7/dist-packages/numpy/linalg/linalg.pyc\u001b[0m in \u001b[0;36minv\u001b[0;34m(a)\u001b[0m\n\u001b[1;32m    530\u001b[0m     \u001b[0msignature\u001b[0m \u001b[0;34m=\u001b[0m \u001b[0;34m'D->D'\u001b[0m \u001b[0;32mif\u001b[0m \u001b[0misComplexType\u001b[0m\u001b[0;34m(\u001b[0m\u001b[0mt\u001b[0m\u001b[0;34m)\u001b[0m \u001b[0;32melse\u001b[0m \u001b[0;34m'd->d'\u001b[0m\u001b[0;34m\u001b[0m\u001b[0m\n\u001b[1;32m    531\u001b[0m     \u001b[0mextobj\u001b[0m \u001b[0;34m=\u001b[0m \u001b[0mget_linalg_error_extobj\u001b[0m\u001b[0;34m(\u001b[0m\u001b[0m_raise_linalgerror_singular\u001b[0m\u001b[0;34m)\u001b[0m\u001b[0;34m\u001b[0m\u001b[0m\n\u001b[0;32m--> 532\u001b[0;31m     \u001b[0mainv\u001b[0m \u001b[0;34m=\u001b[0m \u001b[0m_umath_linalg\u001b[0m\u001b[0;34m.\u001b[0m\u001b[0minv\u001b[0m\u001b[0;34m(\u001b[0m\u001b[0ma\u001b[0m\u001b[0;34m,\u001b[0m \u001b[0msignature\u001b[0m\u001b[0;34m=\u001b[0m\u001b[0msignature\u001b[0m\u001b[0;34m,\u001b[0m \u001b[0mextobj\u001b[0m\u001b[0;34m=\u001b[0m\u001b[0mextobj\u001b[0m\u001b[0;34m)\u001b[0m\u001b[0;34m\u001b[0m\u001b[0m\n\u001b[0m\u001b[1;32m    533\u001b[0m     \u001b[0;32mreturn\u001b[0m \u001b[0mwrap\u001b[0m\u001b[0;34m(\u001b[0m\u001b[0mainv\u001b[0m\u001b[0;34m.\u001b[0m\u001b[0mastype\u001b[0m\u001b[0;34m(\u001b[0m\u001b[0mresult_t\u001b[0m\u001b[0;34m,\u001b[0m \u001b[0mcopy\u001b[0m\u001b[0;34m=\u001b[0m\u001b[0mFalse\u001b[0m\u001b[0;34m)\u001b[0m\u001b[0;34m)\u001b[0m\u001b[0;34m\u001b[0m\u001b[0m\n\u001b[1;32m    534\u001b[0m \u001b[0;34m\u001b[0m\u001b[0m\n",
      "\u001b[0;31mKeyboardInterrupt\u001b[0m: "
     ]
    }
   ],
   "source": [
    "ROBOT = loadTalos('/opt/openrobots/share/example-robot-data')\n",
    "problem, xs, us, ts = define_croc_problem(ROBOT,'data_teguh_3.txt', num_phases=3, is_warmstart=True)\n",
    "clear_output()\n",
    "\n",
    "solver = solve_problem(ROBOT,problem,xs, us,maxiter = 50, STOP_THRESHOLD=1e-03, recalc_u=False, TYPE_OF_SOLVER='FDDP')\n",
    "traj = np.array(solver.xs)[:,0:39]"
   ]
  },
  {
   "cell_type": "code",
   "execution_count": 41,
   "metadata": {},
   "outputs": [
    {
     "name": "stdout",
     "output_type": "stream",
     "text": [
      "\n",
      "*** SOLVE ***\n",
      "iter \t cost \t      stop \t    grad \t  xreg \t      ureg \t step \t feas\n",
      "   0  1.31792e+03  9.47168e+03  1.04977e+05  1.00000e-09  1.00000e-09   1.0000     1\n",
      "   1  2.69850e+02  1.62488e+02  2.29574e+03  1.00000e-09  1.00000e-09   1.0000     1\n",
      "   2  1.48365e+02  4.65790e+00  3.40610e+02  1.00000e-09  1.00000e-09   1.0000     1\n",
      "   3  1.05430e+02  7.98838e-01  1.18140e+02  1.00000e-09  1.00000e-09   1.0000     1\n",
      "   4  9.52031e+01  4.99526e-02  5.03424e+01  1.00000e-09  1.00000e-09   1.0000     1\n",
      "   5  9.16454e+01  3.25150e-01  3.30420e+01  1.00000e-09  1.00000e-09   1.0000     1\n",
      "   6  9.00612e+01  1.77993e-01  2.54104e+01  1.00000e-09  1.00000e-09   1.0000     1\n",
      "   7  9.00601e+01  3.86682e-02  2.03232e+01  1.00000e-08  1.00000e-08   0.0020     1\n",
      "   8  9.00601e+01  3.86686e-02  2.03223e+01  1.00000e-07  1.00000e-07   0.0020     1\n",
      "   9  9.00601e+01  3.86732e-02  2.03137e+01  1.00000e-06  1.00000e-06   0.0020     1\n",
      "iter \t cost \t      stop \t    grad \t  xreg \t      ureg \t step \t feas\n",
      "  10  9.00602e+01  3.87190e-02  2.02283e+01  1.00000e-05  1.00000e-05   0.0020     1\n",
      "  11  9.00614e+01  3.91432e-02  1.94382e+01  1.00000e-04  1.00000e-04   0.0020     1\n"
     ]
    },
    {
     "ename": "KeyboardInterrupt",
     "evalue": "",
     "output_type": "error",
     "traceback": [
      "\u001b[0;31m---------------------------------------------------------------------------\u001b[0m",
      "\u001b[0;31mKeyboardInterrupt\u001b[0m                         Traceback (most recent call last)",
      "\u001b[0;32m<ipython-input-41-9b568466a4d8>\u001b[0m in \u001b[0;36m<module>\u001b[0;34m()\u001b[0m\n\u001b[1;32m      3\u001b[0m \u001b[0mclear_output\u001b[0m\u001b[0;34m(\u001b[0m\u001b[0;34m)\u001b[0m\u001b[0;34m\u001b[0m\u001b[0m\n\u001b[1;32m      4\u001b[0m \u001b[0;34m\u001b[0m\u001b[0m\n\u001b[0;32m----> 5\u001b[0;31m \u001b[0msolver\u001b[0m \u001b[0;34m=\u001b[0m \u001b[0msolve_problem\u001b[0m\u001b[0;34m(\u001b[0m\u001b[0mROBOT\u001b[0m\u001b[0;34m,\u001b[0m\u001b[0mproblem\u001b[0m\u001b[0;34m,\u001b[0m\u001b[0mxs\u001b[0m\u001b[0;34m,\u001b[0m \u001b[0mus\u001b[0m\u001b[0;34m,\u001b[0m\u001b[0mmaxiter\u001b[0m \u001b[0;34m=\u001b[0m \u001b[0;36m50\u001b[0m\u001b[0;34m,\u001b[0m \u001b[0mSTOP_THRESHOLD\u001b[0m\u001b[0;34m=\u001b[0m\u001b[0;36m1e-02\u001b[0m\u001b[0;34m,\u001b[0m \u001b[0mrecalc_u\u001b[0m\u001b[0;34m=\u001b[0m\u001b[0mTrue\u001b[0m\u001b[0;34m,\u001b[0m \u001b[0mTYPE_OF_SOLVER\u001b[0m\u001b[0;34m=\u001b[0m\u001b[0;34m'FDDP'\u001b[0m\u001b[0;34m)\u001b[0m\u001b[0;34m\u001b[0m\u001b[0m\n\u001b[0m\u001b[1;32m      6\u001b[0m \u001b[0mtraj2\u001b[0m \u001b[0;34m=\u001b[0m \u001b[0mnp\u001b[0m\u001b[0;34m.\u001b[0m\u001b[0marray\u001b[0m\u001b[0;34m(\u001b[0m\u001b[0msolver\u001b[0m\u001b[0;34m.\u001b[0m\u001b[0mxs\u001b[0m\u001b[0;34m)\u001b[0m\u001b[0;34m[\u001b[0m\u001b[0;34m:\u001b[0m\u001b[0;34m,\u001b[0m\u001b[0;36m0\u001b[0m\u001b[0;34m:\u001b[0m\u001b[0;36m39\u001b[0m\u001b[0;34m]\u001b[0m\u001b[0;34m\u001b[0m\u001b[0m\n",
      "\u001b[0;32m/home/teguh/git/memmo/memmo_talos/notebooks/croc_lib.py\u001b[0m in \u001b[0;36msolve_problem\u001b[0;34m(ROBOT, problem, xs, us, TYPE_OF_SOLVER, STOP_THRESHOLD, ENABLE_ITER_DISPLAY, maxiter, recalc_u)\u001b[0m\n\u001b[1;32m    199\u001b[0m         solver.solve(maxiter=maxiter,\n\u001b[1;32m    200\u001b[0m                      \u001b[0minit_xs\u001b[0m\u001b[0;34m=\u001b[0m\u001b[0mxs\u001b[0m\u001b[0;34m,\u001b[0m\u001b[0;34m\u001b[0m\u001b[0m\n\u001b[0;32m--> 201\u001b[0;31m                      \u001b[0minit_us\u001b[0m\u001b[0;34m=\u001b[0m\u001b[0mus0\u001b[0m\u001b[0;34m\u001b[0m\u001b[0m\n\u001b[0m\u001b[1;32m    202\u001b[0m                     )\n\u001b[1;32m    203\u001b[0m     \u001b[0;32melse\u001b[0m\u001b[0;34m:\u001b[0m\u001b[0;34m\u001b[0m\u001b[0m\n",
      "\u001b[0;32m/home/teguh/git/memmo/crocoddyl/crocoddyl/fddp.pyc\u001b[0m in \u001b[0;36msolve\u001b[0;34m(self, maxiter, init_xs, init_us, isFeasible, regInit)\u001b[0m\n\u001b[1;32m    141\u001b[0m             \u001b[0;32mwhile\u001b[0m \u001b[0mTrue\u001b[0m\u001b[0;34m:\u001b[0m\u001b[0;34m\u001b[0m\u001b[0m\n\u001b[1;32m    142\u001b[0m                 \u001b[0;32mtry\u001b[0m\u001b[0;34m:\u001b[0m\u001b[0;34m\u001b[0m\u001b[0m\n\u001b[0;32m--> 143\u001b[0;31m                     \u001b[0mself\u001b[0m\u001b[0;34m.\u001b[0m\u001b[0mcomputeDirection\u001b[0m\u001b[0;34m(\u001b[0m\u001b[0mrecalc\u001b[0m\u001b[0;34m=\u001b[0m\u001b[0mrecalc\u001b[0m\u001b[0;34m)\u001b[0m\u001b[0;34m\u001b[0m\u001b[0m\n\u001b[0m\u001b[1;32m    144\u001b[0m                 \u001b[0;32mexcept\u001b[0m \u001b[0mArithmeticError\u001b[0m\u001b[0;34m:\u001b[0m\u001b[0;34m\u001b[0m\u001b[0m\n\u001b[1;32m    145\u001b[0m                     \u001b[0mrecalc\u001b[0m \u001b[0;34m=\u001b[0m \u001b[0mFalse\u001b[0m\u001b[0;34m\u001b[0m\u001b[0m\n",
      "\u001b[0;32m/home/teguh/git/memmo/crocoddyl/crocoddyl/fddp.pyc\u001b[0m in \u001b[0;36mcomputeDirection\u001b[0;34m(self, recalc)\u001b[0m\n\u001b[1;32m     71\u001b[0m         \u001b[0;32mif\u001b[0m \u001b[0mrecalc\u001b[0m\u001b[0;34m:\u001b[0m\u001b[0;34m\u001b[0m\u001b[0m\n\u001b[1;32m     72\u001b[0m             \u001b[0mself\u001b[0m\u001b[0;34m.\u001b[0m\u001b[0mcalc\u001b[0m\u001b[0;34m(\u001b[0m\u001b[0;34m)\u001b[0m\u001b[0;34m\u001b[0m\u001b[0m\n\u001b[0;32m---> 73\u001b[0;31m         \u001b[0mself\u001b[0m\u001b[0;34m.\u001b[0m\u001b[0mbackwardPass\u001b[0m\u001b[0;34m(\u001b[0m\u001b[0;34m)\u001b[0m\u001b[0;34m\u001b[0m\u001b[0m\n\u001b[0m\u001b[1;32m     74\u001b[0m         \u001b[0;32mreturn\u001b[0m \u001b[0;34m[\u001b[0m\u001b[0mnp\u001b[0m\u001b[0;34m.\u001b[0m\u001b[0mnan\u001b[0m\u001b[0;34m]\u001b[0m \u001b[0;34m*\u001b[0m \u001b[0;34m(\u001b[0m\u001b[0mself\u001b[0m\u001b[0;34m.\u001b[0m\u001b[0mproblem\u001b[0m\u001b[0;34m.\u001b[0m\u001b[0mT\u001b[0m \u001b[0;34m+\u001b[0m \u001b[0;36m1\u001b[0m\u001b[0;34m)\u001b[0m\u001b[0;34m,\u001b[0m \u001b[0mself\u001b[0m\u001b[0;34m.\u001b[0m\u001b[0mk\u001b[0m\u001b[0;34m,\u001b[0m \u001b[0mself\u001b[0m\u001b[0;34m.\u001b[0m\u001b[0mVx\u001b[0m\u001b[0;34m\u001b[0m\u001b[0m\n\u001b[1;32m     75\u001b[0m \u001b[0;34m\u001b[0m\u001b[0m\n",
      "\u001b[0;32m/home/teguh/git/memmo/crocoddyl/crocoddyl/fddp.pyc\u001b[0m in \u001b[0;36mbackwardPass\u001b[0;34m(self)\u001b[0m\n\u001b[1;32m    256\u001b[0m \u001b[0;34m\u001b[0m\u001b[0m\n\u001b[1;32m    257\u001b[0m         \u001b[0;32mfor\u001b[0m \u001b[0mt\u001b[0m\u001b[0;34m,\u001b[0m \u001b[0;34m(\u001b[0m\u001b[0mmodel\u001b[0m\u001b[0;34m,\u001b[0m \u001b[0mdata\u001b[0m\u001b[0;34m)\u001b[0m \u001b[0;32min\u001b[0m \u001b[0mrev_enumerate\u001b[0m\u001b[0;34m(\u001b[0m\u001b[0mzip\u001b[0m\u001b[0;34m(\u001b[0m\u001b[0mself\u001b[0m\u001b[0;34m.\u001b[0m\u001b[0mproblem\u001b[0m\u001b[0;34m.\u001b[0m\u001b[0mrunningModels\u001b[0m\u001b[0;34m,\u001b[0m \u001b[0mself\u001b[0m\u001b[0;34m.\u001b[0m\u001b[0mproblem\u001b[0m\u001b[0;34m.\u001b[0m\u001b[0mrunningDatas\u001b[0m\u001b[0;34m)\u001b[0m\u001b[0;34m)\u001b[0m\u001b[0;34m:\u001b[0m\u001b[0;34m\u001b[0m\u001b[0m\n\u001b[0;32m--> 258\u001b[0;31m             \u001b[0mself\u001b[0m\u001b[0;34m.\u001b[0m\u001b[0mQxx\u001b[0m\u001b[0;34m[\u001b[0m\u001b[0mt\u001b[0m\u001b[0;34m]\u001b[0m\u001b[0;34m[\u001b[0m\u001b[0;34m:\u001b[0m\u001b[0;34m,\u001b[0m \u001b[0;34m:\u001b[0m\u001b[0;34m]\u001b[0m \u001b[0;34m=\u001b[0m \u001b[0mdata\u001b[0m\u001b[0;34m.\u001b[0m\u001b[0mLxx\u001b[0m \u001b[0;34m+\u001b[0m \u001b[0mnp\u001b[0m\u001b[0;34m.\u001b[0m\u001b[0mdot\u001b[0m\u001b[0;34m(\u001b[0m\u001b[0mdata\u001b[0m\u001b[0;34m.\u001b[0m\u001b[0mFx\u001b[0m\u001b[0;34m.\u001b[0m\u001b[0mT\u001b[0m\u001b[0;34m,\u001b[0m \u001b[0mnp\u001b[0m\u001b[0;34m.\u001b[0m\u001b[0mdot\u001b[0m\u001b[0;34m(\u001b[0m\u001b[0mself\u001b[0m\u001b[0;34m.\u001b[0m\u001b[0mVxx\u001b[0m\u001b[0;34m[\u001b[0m\u001b[0mt\u001b[0m \u001b[0;34m+\u001b[0m \u001b[0;36m1\u001b[0m\u001b[0;34m]\u001b[0m\u001b[0;34m,\u001b[0m \u001b[0mdata\u001b[0m\u001b[0;34m.\u001b[0m\u001b[0mFx\u001b[0m\u001b[0;34m)\u001b[0m\u001b[0;34m)\u001b[0m\u001b[0;34m\u001b[0m\u001b[0m\n\u001b[0m\u001b[1;32m    259\u001b[0m             \u001b[0mself\u001b[0m\u001b[0;34m.\u001b[0m\u001b[0mQxu\u001b[0m\u001b[0;34m[\u001b[0m\u001b[0mt\u001b[0m\u001b[0;34m]\u001b[0m\u001b[0;34m[\u001b[0m\u001b[0;34m:\u001b[0m\u001b[0;34m,\u001b[0m \u001b[0;34m:\u001b[0m\u001b[0;34m]\u001b[0m \u001b[0;34m=\u001b[0m \u001b[0mdata\u001b[0m\u001b[0;34m.\u001b[0m\u001b[0mLxu\u001b[0m \u001b[0;34m+\u001b[0m \u001b[0mnp\u001b[0m\u001b[0;34m.\u001b[0m\u001b[0mdot\u001b[0m\u001b[0;34m(\u001b[0m\u001b[0mdata\u001b[0m\u001b[0;34m.\u001b[0m\u001b[0mFx\u001b[0m\u001b[0;34m.\u001b[0m\u001b[0mT\u001b[0m\u001b[0;34m,\u001b[0m \u001b[0mnp\u001b[0m\u001b[0;34m.\u001b[0m\u001b[0mdot\u001b[0m\u001b[0;34m(\u001b[0m\u001b[0mself\u001b[0m\u001b[0;34m.\u001b[0m\u001b[0mVxx\u001b[0m\u001b[0;34m[\u001b[0m\u001b[0mt\u001b[0m \u001b[0;34m+\u001b[0m \u001b[0;36m1\u001b[0m\u001b[0;34m]\u001b[0m\u001b[0;34m,\u001b[0m \u001b[0mdata\u001b[0m\u001b[0;34m.\u001b[0m\u001b[0mFu\u001b[0m\u001b[0;34m)\u001b[0m\u001b[0;34m)\u001b[0m\u001b[0;34m\u001b[0m\u001b[0m\n\u001b[1;32m    260\u001b[0m             \u001b[0mself\u001b[0m\u001b[0;34m.\u001b[0m\u001b[0mQuu\u001b[0m\u001b[0;34m[\u001b[0m\u001b[0mt\u001b[0m\u001b[0;34m]\u001b[0m\u001b[0;34m[\u001b[0m\u001b[0;34m:\u001b[0m\u001b[0;34m,\u001b[0m \u001b[0;34m:\u001b[0m\u001b[0;34m]\u001b[0m \u001b[0;34m=\u001b[0m \u001b[0mdata\u001b[0m\u001b[0;34m.\u001b[0m\u001b[0mLuu\u001b[0m \u001b[0;34m+\u001b[0m \u001b[0mnp\u001b[0m\u001b[0;34m.\u001b[0m\u001b[0mdot\u001b[0m\u001b[0;34m(\u001b[0m\u001b[0mdata\u001b[0m\u001b[0;34m.\u001b[0m\u001b[0mFu\u001b[0m\u001b[0;34m.\u001b[0m\u001b[0mT\u001b[0m\u001b[0;34m,\u001b[0m \u001b[0mnp\u001b[0m\u001b[0;34m.\u001b[0m\u001b[0mdot\u001b[0m\u001b[0;34m(\u001b[0m\u001b[0mself\u001b[0m\u001b[0;34m.\u001b[0m\u001b[0mVxx\u001b[0m\u001b[0;34m[\u001b[0m\u001b[0mt\u001b[0m \u001b[0;34m+\u001b[0m \u001b[0;36m1\u001b[0m\u001b[0;34m]\u001b[0m\u001b[0;34m,\u001b[0m \u001b[0mdata\u001b[0m\u001b[0;34m.\u001b[0m\u001b[0mFu\u001b[0m\u001b[0;34m)\u001b[0m\u001b[0;34m)\u001b[0m\u001b[0;34m\u001b[0m\u001b[0m\n",
      "\u001b[0;31mKeyboardInterrupt\u001b[0m: "
     ]
    }
   ],
   "source": [
    "ROBOT = loadTalos('/opt/openrobots/share/example-robot-data')\n",
    "problem, xs, us, ts = define_croc_problem(ROBOT,'data_teguh_3.txt', num_phases=3, is_warmstart=False)\n",
    "clear_output()\n",
    "\n",
    "solver = solve_problem(ROBOT,problem,xs, us,maxiter = 50, STOP_THRESHOLD=1e-02, recalc_u=True, TYPE_OF_SOLVER='FDDP')\n",
    "traj2 = np.array(solver.xs)[:,0:39]"
   ]
  },
  {
   "cell_type": "code",
   "execution_count": 329,
   "metadata": {},
   "outputs": [],
   "source": [
    "viz.vis_traj(traj)"
   ]
  },
  {
   "cell_type": "code",
   "execution_count": 330,
   "metadata": {},
   "outputs": [],
   "source": [
    "viz.vis_traj(traj2)"
   ]
  },
  {
   "cell_type": "code",
   "execution_count": null,
   "metadata": {},
   "outputs": [],
   "source": [
    "#A quick check\n",
    "#calc_foot_pose(traj[0], left_foot, right_foot)\n",
    "compare_phases_with_result(phases, np.array(solver.xs), left_foot, right_foot, viz)"
   ]
  },
  {
   "cell_type": "markdown",
   "metadata": {},
   "source": [
    "### Comparison between Coldstart and Warmstart "
   ]
  },
  {
   "cell_type": "code",
   "execution_count": 31,
   "metadata": {},
   "outputs": [],
   "source": [
    "from croc_lib import *\n",
    "ROBOT = loadTalos('/opt/openrobots/share/example-robot-data')\n"
   ]
  },
  {
   "cell_type": "code",
   "execution_count": 32,
   "metadata": {},
   "outputs": [],
   "source": [
    "data_phases_ori = []\n",
    "data_phases_ori.append(np.arange(0,1001))\n",
    "data_phases_ori.append(np.arange(1001,2361))\n",
    "data_phases_ori.append(np.arange(2361, 3351))"
   ]
  },
  {
   "cell_type": "code",
   "execution_count": 33,
   "metadata": {},
   "outputs": [],
   "source": [
    "viz.set_rate(1000)"
   ]
  },
  {
   "cell_type": "code",
   "execution_count": 38,
   "metadata": {},
   "outputs": [],
   "source": [
    "key = 'left'\n",
    "file_name = 'data.txt'\n",
    "\n",
    "result = dict()\n",
    "res_keys = ['gpr', 'gmr', 'gpr_A', 'gmr_A','cold', 'q', 'qu', 'q_nou', 'u']\n",
    "wm_methods = [gpr,gmr,gpr_A, gmr_A]\n",
    "#wm_methods = []\n",
    "for res_key in res_keys:\n",
    "    result[res_key] = dict()\n",
    "    result[res_key]['trajs'] = []\n",
    "    result[res_key]['vel_trajs'] = []\n",
    "    result[res_key]['u_trajs'] = []\n",
    "    \n",
    "    result[res_key]['n_iters'] = []\n",
    "    result[res_key]['costs'] = []\n",
    "    result[res_key]['x_inputs'] = []\n",
    "\n",
    "trajs_true = []\n",
    "    \n",
    "#for i in range(3):"
   ]
  },
  {
   "cell_type": "code",
   "execution_count": 41,
   "metadata": {},
   "outputs": [
    {
     "name": "stdout",
     "output_type": "stream",
     "text": [
      "gpr \t & 100.00 & \t 55.32 $\\pm$7.99 & \t 2.04 $\\pm$ 0.41\n",
      "gmr \t & 100.00 & \t 55.32 $\\pm$7.99 & \t 2.06 $\\pm$ 0.45\n",
      "gpr_A \t & 99.00 & \t 55.27 $\\pm$8.01 & \t 4.01 $\\pm$ 0.74\n",
      "gmr_A \t & 100.00 & \t 55.31 $\\pm$7.99 & \t 3.85 $\\pm$ 0.66\n",
      "cold \t & 98.50 & \t 55.56 $\\pm$8.32 & \t 8.52 $\\pm$ 3.94\n",
      "q \t & 100.00 & \t 55.32 $\\pm$7.99 & \t 2.04 $\\pm$ 0.41\n",
      "qu \t & 100.00 & \t 55.32 $\\pm$7.99 & \t 1.93 $\\pm$ 0.45\n",
      "q_nou \t & 96.50 & \t 55.06 $\\pm$8.19 & \t 4.30 $\\pm$ 2.19\n",
      "u \t & 97.50 & \t 55.36 $\\pm$7.95 & \t 5.83 $\\pm$ 2.46\n"
     ]
    }
   ],
   "source": [
    "key = 'right'\n",
    "tic = time.time()\n",
    "for i in range(len(x_inputs_test[key])):\n",
    "    print 'Iteration ' + str(i)\n",
    "    toc = time.time()\n",
    "    print 'Time so far: ' + str(toc-tic)\n",
    "    #create problem\n",
    "    #x_input,_ = gmm[key].sample()\n",
    "    x_input = x_inputs_test[key][i:i+1]\n",
    "    foot_marker.publish(x_input.reshape(-1,3))\n",
    "    w_pca_true = y_test[key][i]\n",
    "    w = pca[key].inverse_transform(w_pca_true)\n",
    "    w = w.reshape(rbf_num,-1)\n",
    "    traj_true = np.dot(Phi,w)\n",
    "    trajs_true.append(traj_true)\n",
    "    \n",
    "    \n",
    "    #viz.vis_traj(traj_true)\n",
    "    q_init = traj_true[0]\n",
    "    v_init = np.zeros(38)\n",
    "    \n",
    "    #warmstart method\n",
    "    for j, func in enumerate(wm_methods):\n",
    "        res_key = res_keys[j]\n",
    "        #predict the trajectory\n",
    "        w_pca,cov = func[key].predict(x_input)\n",
    "        w = func[key].pca.inverse_transform(w_pca)\n",
    "        w = w.reshape(rbf_num,-1)\n",
    "        traj = np.dot(Phi,w)\n",
    "\n",
    "        traj_mod,_ = convert_to_croc_format(x_input,traj,key, data_phases = data_phases_ori,\\\n",
    "                                q_init = q_init, v_init = v_init, filename=file_name)\n",
    "        print 'warmstart step' + res_key\n",
    "        problem, xs, us, ts = define_croc_problem(ROBOT,file_name, num_phases=3, is_warmstart=True)\n",
    "\n",
    "        solver = solve_problem(ROBOT,problem,xs, us,maxiter = 20, STOP_THRESHOLD=1e-02, recalc_u=True, TYPE_OF_SOLVER='FDDP')\n",
    "        traj = np.array(solver.xs)[:,0:39]\n",
    "        result[res_key]['trajs'] += [traj]\n",
    "        result[res_key]['n_iters'] += [solver.iter]\n",
    "        result[res_key]['costs'] += [solver.cost]\n",
    "        result[res_key]['x_inputs'] += [x_input]\n",
    "        \n",
    "    \n",
    "    print 'coldstart step'\n",
    "    problem, xs, us, ts = define_croc_problem(ROBOT,file_name, num_phases=3, is_warmstart=False)\n",
    "\n",
    "    solver = solve_problem(ROBOT,problem,xs, us,maxiter = 20, STOP_THRESHOLD=1e-02, recalc_u=True, TYPE_OF_SOLVER='FDDP')\n",
    "    traj = np.array(solver.xs)[:,0:39]\n",
    "    res_key = 'cold'\n",
    "    result[res_key]['trajs'] += [traj]\n",
    "    result[res_key]['n_iters'] += [solver.iter]\n",
    "    result[res_key]['costs'] += [solver.cost]\n",
    "    \n",
    "\n",
    "    \n",
    "    #predict the trajectories\n",
    "    w_pca,cov = gpr[key].predict(x_input)\n",
    "    w = gpr[key].pca.inverse_transform(w_pca)\n",
    "    w = w.reshape(rbf_num,-1)\n",
    "    traj = np.dot(Phi,w)\n",
    "\n",
    "    w_pca,cov = gpr_vel[key].predict(x_input)\n",
    "    w = gpr_vel[key].pca.inverse_transform(w_pca)\n",
    "    w = w.reshape(rbf_num,-1)\n",
    "    vel_traj = np.dot(Phi,w)\n",
    "\n",
    "    w_pca,cov = gpr_u[key].predict(x_input)\n",
    "    w = gpr_u[key].pca.inverse_transform(w_pca)\n",
    "    w = w.reshape(rbf_num,-1)\n",
    "    u_traj = np.dot(Phi,w)\n",
    "\n",
    "    \n",
    "    wm_comps = ['q', 'qu', 'q_nou', 'u']\n",
    "    for res_key in wm_comps:\n",
    "        if res_key == 'q':\n",
    "            inputs = [traj.copy(),None,None]\n",
    "            recalc = True\n",
    "        elif res_key == 'q_nou':\n",
    "            inputs = [traj.copy(),None,None]\n",
    "            recalc = False\n",
    "        elif res_key == 'qu':\n",
    "            inputs = [traj.copy(),None,u_traj]\n",
    "            recalc = False\n",
    "        elif res_key == 'qv':\n",
    "            inputs = [traj.copy(),vel_traj,None]\n",
    "            recalc = True\n",
    "        elif res_key == 'qvu':\n",
    "            inputs = [traj.copy(),vel_traj,u_traj]\n",
    "            recalc = False\n",
    "        elif res_key == 'u':\n",
    "            inputs = [traj.copy()*0,None,u_traj]\n",
    "            recalc = False\n",
    "            \n",
    "        \n",
    "        traj_mod,_ = convert_to_croc_format(x_input,traj=inputs[0], vel_traj = inputs[1], \\\n",
    "                                u_traj = inputs[2], key = key, data_phases = data_phases_ori,\\\n",
    "                                q_init = q_init, v_init = v_init, filename=file_name)\n",
    "        print 'warmstart step' + res_key\n",
    "        problem, xs, us, ts = define_croc_problem(ROBOT,file_name, num_phases=3, is_warmstart=True)\n",
    "\n",
    "        solver = solve_problem(ROBOT,problem,xs, us,maxiter = 20, STOP_THRESHOLD=1e-02, recalc_u=recalc, TYPE_OF_SOLVER='FDDP')\n",
    "        res_traj = np.array(solver.xs)[:,0:39]\n",
    "        result[res_key]['trajs'] += [res_traj]\n",
    "        result[res_key]['vel_trajs'] += [np.array(solver.xs)[:,39:]]\n",
    "        result[res_key]['u_trajs'] += [np.array(solver.us)]\n",
    "        result[res_key]['n_iters'] += [solver.iter]\n",
    "        result[res_key]['costs'] += [solver.cost]\n",
    "        result[res_key]['x_inputs'] += [x_input]\n",
    "    \n",
    "    \n",
    "    \n",
    "    \n",
    "    clear_output()\n",
    "    success = dict()\n",
    "    for res_key in res_keys:\n",
    "        success[res_key] = np.array(result[res_key]['costs']) < 1e2\n",
    "        print\"{0} \\t & {1:.2f} & \\t {2:.2f} $\\\\pm${3:.2f} & \\t {4:.2f} $\\\\pm$ {5:.2f}\".format(res_key,  100.*np.sum(success[res_key])/(len(success[res_key])+.000001), np.mean(np.array(result[res_key]['costs'])[success[res_key]]), np.std(np.array(result[res_key]['costs'])[success[res_key]]), np.mean(np.array(result[res_key]['n_iters'])[success[res_key]]),np.std(np.array(result[res_key]['n_iters'])[success[res_key]]))"
   ]
  },
  {
   "cell_type": "code",
   "execution_count": null,
   "metadata": {},
   "outputs": [],
   "source": []
  },
  {
   "cell_type": "code",
   "execution_count": 40,
   "metadata": {},
   "outputs": [
    {
     "name": "stdout",
     "output_type": "stream",
     "text": [
      "gpr \t & 100.00 & \t 56.14 $\\pm$7.85 & \t 2.01 $\\pm$ 0.41\n",
      "gmr \t & 100.00 & \t 56.14 $\\pm$7.85 & \t 2.04 $\\pm$ 0.49\n",
      "gpr_A \t & 99.00 & \t 56.14 $\\pm$7.90 & \t 3.94 $\\pm$ 0.75\n",
      "gmr_A \t & 100.00 & \t 56.13 $\\pm$7.86 & \t 3.86 $\\pm$ 0.71\n",
      "cold \t & 98.00 & \t 56.06 $\\pm$7.89 & \t 8.85 $\\pm$ 4.07\n",
      "q \t & 100.00 & \t 56.14 $\\pm$7.85 & \t 2.01 $\\pm$ 0.41\n",
      "qu \t & 100.00 & \t 56.14 $\\pm$7.86 & \t 1.86 $\\pm$ 0.47\n",
      "q_nou \t & 96.00 & \t 55.49 $\\pm$8.43 & \t 4.55 $\\pm$ 2.78\n",
      "u \t & 98.00 & \t 55.99 $\\pm$7.85 & \t 5.59 $\\pm$ 2.06\n"
     ]
    }
   ],
   "source": [
    "success = dict()\n",
    "for res_key in res_keys:\n",
    "    success[res_key] = np.array(result[res_key]['costs']) < 1e2\n",
    "    print\"{0} \\t & {1:.2f} & \\t {2:.2f} $\\\\pm${3:.2f} & \\t {4:.2f} $\\\\pm$ {5:.2f}\".format(res_key,  100.*np.sum(success[res_key])/(len(success[res_key])+.000001), np.mean(np.array(result[res_key]['costs'])[success[res_key]]), np.std(np.array(result[res_key]['costs'])[success[res_key]]), np.mean(np.array(result[res_key]['n_iters'])[success[res_key]]),np.std(np.array(result[res_key]['n_iters'])[success[res_key]]))"
   ]
  },
  {
   "cell_type": "code",
   "execution_count": 42,
   "metadata": {},
   "outputs": [],
   "source": [
    "f = open(ROOT_CROCS + '/result_single_leftright.pkl', 'wb')\n",
    "pickle.dump(result,f)\n",
    "f.close()"
   ]
  },
  {
   "cell_type": "code",
   "execution_count": 119,
   "metadata": {},
   "outputs": [],
   "source": [
    "index = 3"
   ]
  },
  {
   "cell_type": "code",
   "execution_count": 43,
   "metadata": {},
   "outputs": [],
   "source": [
    "viz.set_rate(25)"
   ]
  },
  {
   "cell_type": "code",
   "execution_count": 44,
   "metadata": {},
   "outputs": [],
   "source": [
    "viz.vis_traj(result['gpr']['trajs'][index])"
   ]
  },
  {
   "cell_type": "code",
   "execution_count": 45,
   "metadata": {},
   "outputs": [],
   "source": [
    "viz.vis_traj(result['gpr_A']['trajs'][index])"
   ]
  },
  {
   "cell_type": "code",
   "execution_count": 46,
   "metadata": {},
   "outputs": [],
   "source": [
    "viz.vis_traj(result['gmr_A']['trajs'][index])"
   ]
  },
  {
   "cell_type": "code",
   "execution_count": 47,
   "metadata": {},
   "outputs": [],
   "source": [
    "traj_true = subsample(traj_true,85)"
   ]
  },
  {
   "cell_type": "code",
   "execution_count": 121,
   "metadata": {},
   "outputs": [
    {
     "data": {
      "image/png": "[encoded data removed]",
      "text/plain": [
       "<Figure size 432x288 with 1 Axes>"
      ]
     },
     "metadata": {
      "needs_background": "light"
     },
     "output_type": "display_data"
    },
    {
     "ename": "KeyboardInterrupt",
     "evalue": "",
     "output_type": "error",
     "traceback": [
      "\u001b[0;31m---------------------------------------------------------------------------\u001b[0m",
      "\u001b[0;31mKeyboardInterrupt\u001b[0m                         Traceback (most recent call last)",
      "\u001b[0;32m<ipython-input-121-cedf69d2007d>\u001b[0m in \u001b[0;36m<module>\u001b[0;34m()\u001b[0m\n\u001b[1;32m      5\u001b[0m     \u001b[0mplt\u001b[0m\u001b[0;34m.\u001b[0m\u001b[0mplot\u001b[0m\u001b[0;34m(\u001b[0m\u001b[0mtraj_true\u001b[0m\u001b[0;34m[\u001b[0m\u001b[0;34m:\u001b[0m\u001b[0;34m,\u001b[0m\u001b[0mi\u001b[0m\u001b[0;34m]\u001b[0m\u001b[0;34m,\u001b[0m\u001b[0;34m'y'\u001b[0m\u001b[0;34m)\u001b[0m\u001b[0;34m\u001b[0m\u001b[0m\n\u001b[1;32m      6\u001b[0m     \u001b[0mplt\u001b[0m\u001b[0;34m.\u001b[0m\u001b[0mshow\u001b[0m\u001b[0;34m(\u001b[0m\u001b[0;34m)\u001b[0m\u001b[0;34m\u001b[0m\u001b[0m\n\u001b[0;32m----> 7\u001b[0;31m     \u001b[0mraw_input\u001b[0m\u001b[0;34m(\u001b[0m\u001b[0;34m)\u001b[0m\u001b[0;34m\u001b[0m\u001b[0m\n\u001b[0m\u001b[1;32m      8\u001b[0m     \u001b[0mplt\u001b[0m\u001b[0;34m.\u001b[0m\u001b[0mclf\u001b[0m\u001b[0;34m(\u001b[0m\u001b[0;34m)\u001b[0m\u001b[0;34m\u001b[0m\u001b[0m\n\u001b[1;32m      9\u001b[0m     \u001b[0mclear_output\u001b[0m\u001b[0;34m(\u001b[0m\u001b[0;34m)\u001b[0m\u001b[0;34m\u001b[0m\u001b[0m\n",
      "\u001b[0;32m/home/teguh/.local/lib/python2.7/site-packages/ipykernel/kernelbase.pyc\u001b[0m in \u001b[0;36mraw_input\u001b[0;34m(self, prompt)\u001b[0m\n\u001b[1;32m    702\u001b[0m             \u001b[0mself\u001b[0m\u001b[0;34m.\u001b[0m\u001b[0m_parent_ident\u001b[0m\u001b[0;34m,\u001b[0m\u001b[0;34m\u001b[0m\u001b[0m\n\u001b[1;32m    703\u001b[0m             \u001b[0mself\u001b[0m\u001b[0;34m.\u001b[0m\u001b[0m_parent_header\u001b[0m\u001b[0;34m,\u001b[0m\u001b[0;34m\u001b[0m\u001b[0m\n\u001b[0;32m--> 704\u001b[0;31m             \u001b[0mpassword\u001b[0m\u001b[0;34m=\u001b[0m\u001b[0mFalse\u001b[0m\u001b[0;34m,\u001b[0m\u001b[0;34m\u001b[0m\u001b[0m\n\u001b[0m\u001b[1;32m    705\u001b[0m         )\n\u001b[1;32m    706\u001b[0m \u001b[0;34m\u001b[0m\u001b[0m\n",
      "\u001b[0;32m/home/teguh/.local/lib/python2.7/site-packages/ipykernel/kernelbase.pyc\u001b[0m in \u001b[0;36m_input_request\u001b[0;34m(self, prompt, ident, parent, password)\u001b[0m\n\u001b[1;32m    732\u001b[0m             \u001b[0;32mexcept\u001b[0m \u001b[0mKeyboardInterrupt\u001b[0m\u001b[0;34m:\u001b[0m\u001b[0;34m\u001b[0m\u001b[0m\n\u001b[1;32m    733\u001b[0m                 \u001b[0;31m# re-raise KeyboardInterrupt, to truncate traceback\u001b[0m\u001b[0;34m\u001b[0m\u001b[0;34m\u001b[0m\u001b[0m\n\u001b[0;32m--> 734\u001b[0;31m                 \u001b[0;32mraise\u001b[0m \u001b[0mKeyboardInterrupt\u001b[0m\u001b[0;34m\u001b[0m\u001b[0m\n\u001b[0m\u001b[1;32m    735\u001b[0m             \u001b[0;32melse\u001b[0m\u001b[0;34m:\u001b[0m\u001b[0;34m\u001b[0m\u001b[0m\n\u001b[1;32m    736\u001b[0m                 \u001b[0;32mbreak\u001b[0m\u001b[0;34m\u001b[0m\u001b[0m\n",
      "\u001b[0;31mKeyboardInterrupt\u001b[0m: "
     ]
    }
   ],
   "source": [
    "for i in range(38):\n",
    "    traj_true = subsample(trajs_true[index],3351/40)\n",
    "    plt.plot(result['gpr']['trajs'][index][:,i],'r')\n",
    "    plt.plot(result['gpr_A']['trajs'][index][:,i],'b')\n",
    "    plt.plot(traj_true[:,i],'y')\n",
    "    plt.show()\n",
    "    raw_input()\n",
    "    plt.clf()\n",
    "    clear_output()\n",
    "\n"
   ]
  },
  {
   "cell_type": "code",
   "execution_count": null,
   "metadata": {},
   "outputs": [],
   "source": []
  }
 ],
 "metadata": {
  "kernelspec": {
   "display_name": "Python 2",
   "language": "python",
   "name": "python2"
  },
  "language_info": {
   "codemirror_mode": {
    "name": "ipython",
    "version": 2
   },
   "file_extension": ".py",
   "mimetype": "text/x-python",
   "name": "python",
   "nbconvert_exporter": "python",
   "pygments_lexer": "ipython2",
   "version": "2.7.12"
  }
 },
 "nbformat": 4,
 "nbformat_minor": 4
}
