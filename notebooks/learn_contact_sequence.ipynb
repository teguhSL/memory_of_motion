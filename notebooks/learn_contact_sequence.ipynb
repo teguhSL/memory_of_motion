{
 "cells": [
  {
   "cell_type": "code",
   "execution_count": null,
   "metadata": {},
   "outputs": [],
   "source": [
    "from multicontact_api import ContactSequenceHumanoid\n",
    "from database import *\n",
    "from memmo_utils import *\n",
    "\n",
    "import numpy as np\n",
    "import rospy\n",
    "from IPython.display import clear_output\n",
    "\n",
    "from regression import *\n",
    "%load_ext autoreload\n",
    "%autoreload 2\n",
    "\n",
    "np.set_printoptions(precision=4,suppress=True)\n",
    "\n",
    "import matplotlib.pyplot as plt\n",
    "\n",
    "from visualization_msgs.msg import MarkerArray\n",
    "from std_msgs.msg._ColorRGBA import ColorRGBA\n",
    "import os\n",
    "\n",
    "from memmo_utils import *\n",
    "from sklearn.mixture import GaussianMixture\n",
    "import pickle\n",
    "import transforms3d"
   ]
  },
  {
   "cell_type": "markdown",
   "metadata": {},
   "source": [
    "#### Initialise visualisation "
   ]
  },
  {
   "cell_type": "code",
   "execution_count": null,
   "metadata": {},
   "outputs": [],
   "source": [
    "viz = Visual()\n",
    "#rospy.init_node('foot_markers')\n",
    "foot_marker = RvizMarker(name='marker_array')\n",
    "\n",
    "object_marker = RvizMarker(name='objects_marker', marker_type = Marker.CUBE, n = 5, max_n = 5, scale = Vector3(1.2,1.2,1.2), duration=13000)"
   ]
  },
  {
   "cell_type": "markdown",
   "metadata": {},
   "source": [
    "#### Add Objects to the scene "
   ]
  },
  {
   "cell_type": "code",
   "execution_count": null,
   "metadata": {},
   "outputs": [],
   "source": [
    "object_marker.markers[0].type = Marker.CYLINDER\n",
    "object_marker.markers[0].color = ColorRGBA(0,1,0,1)\n",
    "object_marker.markers[0].scale = Vector3(2*.7,2*.7,2*.8)\n",
    "\n",
    "object_marker.markers[1].color = ColorRGBA(1,0,0,1)\n",
    "object_marker.markers[1].scale = Vector3(1.2,1.2,.8)\n",
    "\n",
    "\n",
    "object_marker.markers[2].type = Marker.SPHERE\n",
    "object_marker.markers[2].color = ColorRGBA(0,0,1,1)\n",
    "object_marker.markers[2].scale = Vector3(2*.8,2*.8,2*.8)\n",
    "\n",
    "object_marker.markers[3].type = Marker.SPHERE\n",
    "object_marker.markers[3].color = ColorRGBA(1,1,1,1)\n",
    "object_marker.markers[3].scale = Vector3(2*.9,2*.9,2*.9)\n",
    "\n",
    "object_marker.markers[4].type = Marker.CYLINDER\n",
    "object_marker.markers[4].color = ColorRGBA(0,0,0,1)\n",
    "object_marker.markers[4].scale = Vector3(2*.7,2*.7,2*.8)\n",
    "\n",
    "poses = []\n",
    "poses += [np.array([0.5,-1,0,0.])]\n",
    "poses += [np.array([0.9,2.,0,0.])]\n",
    "poses += [np.array([-2.2,.3,0.4,0.])]\n",
    "poses += [np.array([4.,0.,0.4,0.])]\n",
    "poses += [np.array([-5,2,0.5,0.])]\n",
    "\n",
    "object_marker.publish(poses)"
   ]
  },
  {
   "cell_type": "code",
   "execution_count": null,
   "metadata": {},
   "outputs": [],
   "source": [
    "def extract_contact_sequence(filename):\n",
    "    cs = ContactSequenceHumanoid(0)\n",
    "    cs.loadFromBinary(filename)\n",
    "    raw_phases = cs.contact_phases\n",
    "\n",
    "    T_lefts = []\n",
    "    T_rights = []\n",
    "    num_phases = len(raw_phases)\n",
    "    for cur_phase in raw_phases:\n",
    "        rf = cur_phase.RF_patch\n",
    "        if rf.active:\n",
    "            T_right = SE3toMat(rf.placement)\n",
    "            T_rights += [T_right]\n",
    "        else:\n",
    "            T_rights += [None]\n",
    "        lf = cur_phase.LF_patch\n",
    "        if lf.active:\n",
    "            T_left = SE3toMat(lf.placement)\n",
    "            T_lefts += [T_left]\n",
    "        else:\n",
    "            T_lefts += [None]\n",
    "\n",
    "    return T_lefts, T_rights"
   ]
  },
  {
   "cell_type": "markdown",
   "metadata": {},
   "source": [
    "#### Load Contacts "
   ]
  },
  {
   "cell_type": "code",
   "execution_count": null,
   "metadata": {},
   "outputs": [],
   "source": [
    "ROOT = '/home/rli/temp/talos_randomObstacle/'\n",
    "filenames = os.listdir(ROOT)"
   ]
  },
  {
   "cell_type": "code",
   "execution_count": null,
   "metadata": {},
   "outputs": [],
   "source": [
    "foot_poses_list = []\n",
    "len_contacts = []\n",
    "num_error = 0\n",
    "for i in range(len(filenames)):\n",
    "    try:\n",
    "        filename = ROOT + filenames[i] + '/res/contact_sequences/talos_randomObstacle.cs'\n",
    "        T_l, T_r = extract_contact_sequence(filename)\n",
    "        foot_poses = construct_foot_poses(T_l,T_r)\n",
    "        foot_poses_list+= [foot_poses]\n",
    "        len_contacts += [len(foot_poses)]\n",
    "    except:\n",
    "        num_error +=1 \n",
    "        continue"
   ]
  },
  {
   "cell_type": "markdown",
   "metadata": {},
   "source": [
    "### Learning contact sequences "
   ]
  },
  {
   "cell_type": "markdown",
   "metadata": {},
   "source": [
    "#### Constructing the inputs"
   ]
  },
  {
   "cell_type": "code",
   "execution_count": null,
   "metadata": {},
   "outputs": [],
   "source": [
    "x_inputs = []\n",
    "for i in range(len(foot_poses_list)):\n",
    "    foot_pose = foot_poses_list[i]\n",
    "    init_pos = 0.5*(foot_pose[0,:2]+foot_pose[1,:2])\n",
    "    goal_pos = 0.5*(foot_pose[-2,:2]+foot_pose[-1,:2])\n",
    "    x_input = np.hstack([init_pos, goal_pos])\n",
    "    x_inputs += [x_input]\n",
    "    \n",
    "x_inputs = np.array(x_inputs)"
   ]
  },
  {
   "cell_type": "markdown",
   "metadata": {},
   "source": [
    "#### Resample the outputs "
   ]
  },
  {
   "cell_type": "code",
   "execution_count": null,
   "metadata": {},
   "outputs": [],
   "source": [
    "def angle_to_xy(foot_pose):\n",
    "    foot_pose_mod = np.zeros((len(foot_pose),8))\n",
    "    foot_pose_mod[:,0:2] = foot_pose[:,0:2]\n",
    "    foot_pose_mod[:,4:6] = foot_pose[:,3:5]\n",
    "    \n",
    "    foot_pose_mod[:,2] = np.cos(foot_pose[:,2])\n",
    "    foot_pose_mod[:,3] = np.sin(foot_pose[:,2])\n",
    "    \n",
    "    foot_pose_mod[:,6] = np.cos(foot_pose[:,5])\n",
    "    foot_pose_mod[:,7] = np.sin(foot_pose[:,5])\n",
    "    \n",
    "    return foot_pose_mod\n",
    "    \n",
    "def xy_to_angle(foot_pose_mod):\n",
    "    foot_pose = np.zeros((len(foot_pose_mod),6))\n",
    "    foot_pose[:,0:2] = foot_pose_mod[:,0:2]\n",
    "    foot_pose[:,3:5] = foot_pose_mod[:,4:6]\n",
    "    \n",
    "    foot_pose[:,2] = np.arctan2(foot_pose_mod[:,3],foot_pose_mod[:,2])\n",
    "    foot_pose[:,5] = np.arctan2(foot_pose_mod[:,7],foot_pose_mod[:,6])\n",
    "    \n",
    "    return foot_pose"
   ]
  },
  {
   "cell_type": "code",
   "execution_count": null,
   "metadata": {},
   "outputs": [],
   "source": [
    "foot_pose_output = []\n",
    "len_pose_output = []\n",
    "num_steps = 200\n",
    "for i in range(len(foot_poses_list)):\n",
    "    foot_pose = foot_poses_list[i]\n",
    "    foot_pose = foot_pose.reshape(-1,6)\n",
    "    \n",
    "    #skip every other footstep\n",
    "    foot_pose = foot_pose[::2]\n",
    "    len_pose_output += [len(foot_pose)]\n",
    "    foot_pose = subsample(foot_pose,num_steps)\n",
    "    \n",
    "    #change the angle description to x and y\n",
    "    foot_pose_mod = angle_to_xy(foot_pose) \n",
    "    \n",
    "    foot_pose_output += [foot_pose_mod.flatten()]\n",
    "\n",
    "foot_pose_output = np.array(foot_pose_output)\n",
    "len_pose_output = np.array(len_pose_output)"
   ]
  },
  {
   "cell_type": "markdown",
   "metadata": {},
   "source": [
    "#### Use RBF "
   ]
  },
  {
   "cell_type": "code",
   "execution_count": null,
   "metadata": {},
   "outputs": [],
   "source": [
    "rbf_num_contact = 20\n",
    "Phi_contact = define_RBF(dof=6, nbStates = rbf_num_contact, offset = 20, width = 8, T = num_steps, coeff = 10)\n",
    "plt.plot(Phi_contact)\n",
    "raw_input()\n",
    "clear_output()"
   ]
  },
  {
   "cell_type": "code",
   "execution_count": null,
   "metadata": {},
   "outputs": [],
   "source": [
    "rbf_num_contact = 20\n",
    "Phi_contact = define_RBF(dof=6, nbStates = rbf_num_contact, offset = 200, width = 200, T = 3351, coeff = 500)\n",
    "clear_output()\n",
    "plt.plot(Phi_contact)\n",
    "plt.xlabel('t')\n",
    "plt.ylabel('Psi(t)')\n",
    "plt.title('RBF Matrix')\n",
    "plt.savefig('/home/rli/temp/rbf.png')\n"
   ]
  },
  {
   "cell_type": "code",
   "execution_count": null,
   "metadata": {},
   "outputs": [],
   "source": [
    "w_poses = []\n",
    "for foot_pose in foot_pose_output:\n",
    "    foot_pose = foot_pose.reshape(-1,8)\n",
    "    w,_,_,_ = np.linalg.lstsq(Phi_contact,foot_pose,rcond=1e-2)\n",
    "    w_poses += [w.flatten()]\n",
    "w_poses = np.array(w_poses)"
   ]
  },
  {
   "cell_type": "markdown",
   "metadata": {},
   "source": [
    "#### Plot the RBF Results "
   ]
  },
  {
   "cell_type": "raw",
   "metadata": {},
   "source": [
    "for i in range(100):\n",
    "    foot_pose = foot_pose_output[i]\n",
    "    foot_pose = foot_pose.reshape(-1,6)\n",
    "    plt.plot(foot_pose[:,2],'-b')\n",
    "\n",
    "    w = w_poses[i].reshape(-1,6)\n",
    "    foot_pose_app = np.dot(Phi,w)\n",
    "    plt.plot(foot_pose_app[:,2],'-r')\n",
    "    \n",
    "    plt.show()\n",
    "    raw_input()\n",
    "    clear_output()"
   ]
  },
  {
   "cell_type": "markdown",
   "metadata": {},
   "source": [
    "#### Train the regressors "
   ]
  },
  {
   "cell_type": "code",
   "execution_count": null,
   "metadata": {},
   "outputs": [],
   "source": [
    "gpr_pose = GPy_Regressor(dim_input = 4)\n",
    "gpr_len_pose = GPy_Regressor(dim_input = 4)\n",
    "gpr_pose.fit(x_inputs,w_poses,num_restarts= 5)\n",
    "gpr_len_pose.fit(x_inputs,len_pose_output[:,None],num_restarts = 5)\n",
    "clear_output()\n",
    "\n",
    "nn_pose = NN_Regressor()\n",
    "nn_len_pose = NN_Regressor()\n",
    "nn_pose.fit(x_inputs,w_poses[:,None])\n",
    "nn_len_pose.fit(x_inputs,len_pose_output[:,None])"
   ]
  },
  {
   "cell_type": "markdown",
   "metadata": {},
   "source": [
    "#### Approximate the input distributions "
   ]
  },
  {
   "cell_type": "code",
   "execution_count": null,
   "metadata": {},
   "outputs": [],
   "source": [
    "gmm_input = GaussianMixture(n_components=10)\n",
    "gmm_input.fit(x_inputs)\n",
    "clear_output()"
   ]
  },
  {
   "cell_type": "raw",
   "metadata": {},
   "source": [
    "viz = Visual()\n",
    "#rospy.init_node('foot_markers')\n",
    "foot_marker = RvizMarker(name='marker_array')"
   ]
  },
  {
   "cell_type": "markdown",
   "metadata": {},
   "source": [
    "#### Test the Memory "
   ]
  },
  {
   "cell_type": "code",
   "execution_count": null,
   "metadata": {},
   "outputs": [],
   "source": [
    "for i in range(1):\n",
    "    #obtain an input\n",
    "    x_input,_ = gmm_input.sample()\n",
    "    #x_input = x_inputs[i:i+1]\n",
    "    \n",
    "    #predict the foot_pose\n",
    "    w_pose,_ = gpr_pose.predict(x_input)\n",
    "    w_pose = w_pose.reshape(-1,8)\n",
    "    foot_pose = np.dot(Phi_contact,w_pose)\n",
    "    len_pose,_ = gpr_len_pose.predict(x_input)\n",
    "    len_pose = int(len_pose[0,0])\n",
    "    foot_pose = subsample(foot_pose,len_pose)\n",
    "    \n",
    "    #visualize the initial and goal location\n",
    "    translation = (x_input[0,0],x_input[0,1],.1)\n",
    "    rotation = (0,0,0,1)    \n",
    "    viz.br.sendTransform(\n",
    "        translation,rotation,rospy.Time.now(),\"init\",\"world\")\n",
    "    translation = (x_input[0,2],x_input[0,3],.1)\n",
    "    rotation = (0,0,0,1)    \n",
    "    viz.br.sendTransform(translation,rotation,rospy.Time.now(),\"goal\",\"world\")\n",
    "\n",
    "    #transform xy to angle\n",
    "    foot_pose = xy_to_angle(foot_pose)\n",
    "    foot_pose = foot_pose.reshape(-1,3)\n",
    "\n",
    "    #add intermediate footstep\n",
    "    foot_pose = add_intermediate(foot_pose)\n",
    "\n",
    "    #publish\n",
    "    foot_marker.publish(foot_pose)\n",
    "    raw_input()\n",
    "    clear_output()"
   ]
  },
  {
   "cell_type": "markdown",
   "metadata": {},
   "source": [
    "### Predicting robot movements to follow the footsteps "
   ]
  },
  {
   "cell_type": "code",
   "execution_count": null,
   "metadata": {},
   "outputs": [],
   "source": [
    "def move_foot_to_zero(foot_poses):\n",
    "    init_pose = 0.5*(foot_poses[0]+foot_poses[1])\n",
    "    T_init = PosetoMat(init_pose)\n",
    "    T_init_inv = np.linalg.inv(T_init)\n",
    "    foot_poses_mod = []\n",
    "    for f in foot_poses:\n",
    "        cur_pose = PosetoMat(f)\n",
    "        cur_pose = np.dot(T_init_inv,cur_pose)\n",
    "        foot_poses_mod += [MattoPose(cur_pose)]\n",
    "    return np.array(foot_poses_mod)\n",
    "\n",
    "def transform_foot_poses(foot_poses, T):\n",
    "    foot_poses_mod = []\n",
    "    for f in foot_poses:\n",
    "        cur_pose = PosetoMat(f)\n",
    "        cur_pose = np.dot(T,cur_pose)\n",
    "        foot_poses_mod += [MattoPose(cur_pose)]\n",
    "    return np.array(foot_poses_mod)\n",
    "\n",
    "def toggle_key(key):\n",
    "    if key == 'left': return 'right'\n",
    "    if key == 'right': return 'left'\n",
    "\n",
    "def add_intermediate(foot_poses):\n",
    "    foot_poses = foot_poses.reshape(-1,6)\n",
    "    cur_foot_pose = foot_poses[0].copy()\n",
    "    foot_poses_mod = [cur_foot_pose.copy()]\n",
    "    key = 'right'\n",
    "    for i in range(1,len(foot_poses)):\n",
    "        next_foot_pose = foot_poses[i].copy()\n",
    "        if key == 'right':\n",
    "            cur_foot_pose[3:] = next_foot_pose[3:]\n",
    "        else:\n",
    "            cur_foot_pose[:3] = next_foot_pose[:3]\n",
    "        foot_poses_mod += [cur_foot_pose.copy()]\n",
    "        foot_poses_mod += [next_foot_pose.copy()]\n",
    "        cur_foot_pose = next_foot_pose.copy()\n",
    "        #key = toggle_key(key)\n",
    "    return np.array(foot_poses_mod).reshape(-1,3)\n",
    "                \n",
    "\n",
    "def calc_foot_T(x, move = 'left'):\n",
    "    #calculate the footstep transformation matrix based on the input x\n",
    "    #x is defined as: [left_foot, right_foot, 'foot_to_move']\n",
    "    x = x.reshape(-1,3)\n",
    "    Ts = []\n",
    "    for x_i in x:\n",
    "        T = PosetoMat(x_i)\n",
    "        Ts.append(T)\n",
    "    \n",
    "    if move == 'left':\n",
    "        T_lefts = [Ts[0], None, Ts[2]]\n",
    "        T_rights = [Ts[1]]*3\n",
    "    else:\n",
    "        T_rights = [Ts[1], None, Ts[2]]\n",
    "        T_lefts = [Ts[0]]*3\n",
    "        \n",
    "    return T_lefts, T_rights\n",
    "\n",
    "def edit_foot_pose(foot_pose):\n",
    "    n = len(foot_pose)/2\n",
    "    for i in range(n-1):\n",
    "        if i % 2 == 0:\n",
    "            #left foot stationary\n",
    "            foot_pose[2*i+2] = foot_pose[2*i]\n",
    "        else:\n",
    "            #right foot stationary\n",
    "            foot_pose[2*i+3] = foot_pose[2*i+1]\n",
    "    return foot_pose"
   ]
  },
  {
   "cell_type": "code",
   "execution_count": null,
   "metadata": {},
   "outputs": [],
   "source": [
    "def predict_multistep(foot_poses, func=None):\n",
    "    traj_list = []\n",
    "    foot_list = []\n",
    "    T_lefts_list = []\n",
    "    T_rights_list = []\n",
    "    data_phases = []\n",
    "    start_index = 0\n",
    "    n = len(foot_poses)/2 - 1\n",
    "    for i in range(n):\n",
    "        cur_foot_pose = foot_poses[2*i:2*i+4,:].copy()\n",
    "        \n",
    "        foot_list.append(cur_foot_pose.copy())\n",
    "        \n",
    "        #modify the foot_pose according to the initial robot pose\n",
    "        if i == 0:\n",
    "            left_init = cur_foot_pose[0]\n",
    "            right_init = cur_foot_pose[1]\n",
    "            Twr = np.eye(4)\n",
    "            Twr[:2,3] = 0.5*(left_init+right_init)[:2]\n",
    "            angle = 0.5*(left_init+right_init)[2]\n",
    "            Twr[:3,:3] = transforms3d.axangles.axangle2mat((0,0,1),angle)\n",
    "        else:\n",
    "            Twr = calc_root_pose(current_q)\n",
    "            Twr[2,3] = 0\n",
    "            pose_wr = MattoPose(Twr,'2D')\n",
    "            Twr = PosetoMat(pose_wr)\n",
    "        Twr_inv = np.linalg.inv(Twr)\n",
    "        \n",
    "        #transform foot_pose\n",
    "        for j in range(len(cur_foot_pose)):\n",
    "            T = PosetoMat(cur_foot_pose[j])\n",
    "            T = np.dot(Twr_inv, T)\n",
    "            cur_foot_pose[j] = MattoPose(T)\n",
    "            \n",
    "        #predict\n",
    "        key = determine_which_foot(cur_foot_pose)\n",
    "        if key == 'left':\n",
    "            x_input = cur_foot_pose[0:3].flatten()\n",
    "        elif key == 'right':\n",
    "            x_input = np.concatenate([cur_foot_pose[0:2].flatten(), cur_foot_pose[3]])\n",
    "        else:\n",
    "            raise \n",
    "\n",
    "        w_pca,cov = func[key].predict(x_input[None,:])\n",
    "        w = func[key].pca.inverse_transform(w_pca)\n",
    "        print w.shape\n",
    "        #w = w.reshape(rbf_num,-1)\n",
    "        #traj = np.dot(Phi,w)\n",
    "        traj = w.reshape(3351,-1)\n",
    "        traj = transform_traj(traj, Twr)\n",
    "        current_q = traj[-1].copy()\n",
    "        traj_list.append(traj)\n",
    "        \n",
    "        #add data_phase and contacts for crocoddyl\n",
    "        #data_phases.append(np.arange(start_index + 0,start_index + 25))\n",
    "        #data_phases.append(np.arange(start_index + 25,start_index + 60))\n",
    "        #data_phases.append(np.arange(start_index + 60,start_index + 85))\n",
    "        data_phases.append(np.arange(start_index + 0,start_index + 25))\n",
    "        data_phases.append(np.arange(start_index + 25,start_index + 60))\n",
    "        data_phases.append(np.arange(start_index + 60,start_index + 66))\n",
    "\n",
    "        start_index += 66\n",
    "        T_lefts, T_rights = calc_foot_T(x_input, key)\n",
    "        for i in range(len(T_lefts)):\n",
    "            if T_lefts[i] is not None:\n",
    "                T_lefts_list += [np.dot(Twr,T_lefts[i])]\n",
    "            else:\n",
    "                T_lefts_list += [None]\n",
    "                                 \n",
    "            if T_rights[i] is not None:\n",
    "                T_rights_list += [np.dot(Twr,T_rights[i])]\n",
    "            else:\n",
    "                T_rights_list += [None]\n",
    "                \n",
    "    #Cut the redundant double support phase\n",
    "    num_phase = len(data_phases)\n",
    "    indexes = np.arange(num_phase-3,0,-3)\n",
    "    data_phases_ori = list(data_phases)\n",
    "\n",
    "    begin_index = 0#1001\n",
    "    end_index = 5#760\n",
    "    traj_list[0] = traj_list[0][:-end_index,:]\n",
    "    for i in range(1,len(traj_list)):\n",
    "        traj_list[i] = traj_list[i][begin_index:-end_index,:]\n",
    "\n",
    "    data_phases = list(data_phases_ori)\n",
    "    for i,index in enumerate(indexes):\n",
    "        del T_lefts_list[index]\n",
    "        del T_rights_list[index]\n",
    "        del data_phases[index]\n",
    "        for j in range(index, len(data_phases)):\n",
    "            data_phases[j] -= 25\n",
    "                    \n",
    "    return traj_list, foot_list, T_lefts_list, T_rights_list, data_phases      "
   ]
  },
  {
   "cell_type": "markdown",
   "metadata": {},
   "source": [
    "#### Load the one-step regressor "
   ]
  },
  {
   "cell_type": "code",
   "execution_count": null,
   "metadata": {},
   "outputs": [],
   "source": [
    "f = open('data/functions_A.pkl','rb')\n",
    "functions = pickle.load(f)\n",
    "functions.keys()\n",
    "gpr = functions['gpr']\n",
    "\n",
    "timestep = 3351\n",
    "rbf_num = 60\n",
    "Phi = define_RBF(dof=39, nbStates = rbf_num, offset = 200, width = 60, T = timestep)\n",
    "#plt.plot(Phi)\n",
    "clear_output()"
   ]
  },
  {
   "cell_type": "code",
   "execution_count": null,
   "metadata": {},
   "outputs": [],
   "source": [
    "viz.set_rate(1000)"
   ]
  },
  {
   "cell_type": "raw",
   "metadata": {},
   "source": [
    "index = np.random.randint(len(x_inputs))\n",
    "x_input = x_inputs[index]\n",
    "w_pca,_ = a.predict(x_input[None,:])\n",
    "w = a.pca.inverse_transform(w_pca)\n",
    "#w = w.reshape(rbf_num,-1)\n",
    "#traj = np.dot(Phi,w)\n",
    "traj = w.reshape(3351,-1)\n",
    "viz.vis_traj(traj)"
   ]
  },
  {
   "cell_type": "markdown",
   "metadata": {},
   "source": [
    "#### Predict multistep movement to follow the predicted foot_pose "
   ]
  },
  {
   "cell_type": "code",
   "execution_count": null,
   "metadata": {},
   "outputs": [],
   "source": [
    "traj_list = []\n",
    "foot_list = []\n",
    "T_lefts_list = []\n",
    "T_rights_list = []\n",
    "data_phases = []\n",
    "\n",
    "FIG_FILE_NAME = '/home/rli/temp/wb_'\n",
    "\n",
    "#obtain an input\n",
    "x_input,_ = gmm_input.sample()\n",
    "#x_input = x_inputs[i:i+1]\n",
    "\n",
    "#predict the foot_pose\n",
    "w_pose,_ = gpr_pose.predict(x_input)\n",
    "w_pose = w_pose.reshape(-1,8)\n",
    "foot_pose = np.dot(Phi_contact,w_pose)\n",
    "len_pose,_ = gpr_len_pose.predict(x_input)\n",
    "len_pose = int(len_pose[0,0])\n",
    "foot_pose = subsample(foot_pose,len_pose)\n",
    "\n",
    "\n",
    "#transform xy to angle\n",
    "foot_pose = xy_to_angle(foot_pose)\n",
    "foot_pose = foot_pose.reshape(-1,3)"
   ]
  },
  {
   "cell_type": "code",
   "execution_count": null,
   "metadata": {},
   "outputs": [],
   "source": [
    "#visualize the initial and goal location\n",
    "translation = (x_input[0,0],x_input[0,1],.1)\n",
    "rotation = (0,0,0,1)    \n",
    "viz.br.sendTransform(\n",
    "    translation,rotation,rospy.Time.now(),\"init\",\"world\")\n",
    "translation = (x_input[0,2],x_input[0,3],.1)\n",
    "rotation = (0,0,0,1)    \n",
    "viz.br.sendTransform(translation,rotation,rospy.Time.now(),\"goal\",\"world\")"
   ]
  },
  {
   "cell_type": "code",
   "execution_count": null,
   "metadata": {},
   "outputs": [],
   "source": [
    "#publish\n",
    "foot_marker.publish(foot_pose)"
   ]
  },
  {
   "cell_type": "code",
   "execution_count": null,
   "metadata": {},
   "outputs": [],
   "source": [
    "#transform foot_pose to zero location\n",
    "init_pose = 0.5*(foot_pose[0]+foot_pose[1])\n",
    "T_init = PosetoMat(init_pose)\n",
    "T_init_inv = np.linalg.inv(T_init)\n",
    "foot_pose_mod = transform_foot_poses(foot_pose, T_init_inv)\n",
    "foot_pose_mod = add_intermediate(foot_pose_mod)\n",
    "#foot_pose_mod = foot_pose_mod[:30]\n",
    "\n",
    "\n",
    "#predict the movement to follow the foot_pose\n",
    "func = gpr#nn\n",
    "traj_list, foot_list, T_lefts_list, T_rights_list, data_phases  = predict_multistep(foot_pose_mod, func=func)\n",
    "clear_output()\n",
    "\n",
    "print 'visualizing'"
   ]
  },
  {
   "cell_type": "code",
   "execution_count": null,
   "metadata": {},
   "outputs": [],
   "source": [
    "for i,traj in enumerate(traj_list):\n",
    "    cur_foot_pose = foot_list[i]\n",
    "    cur_foot_pose = transform_foot_poses(cur_foot_pose, T_init)\n",
    "    foot_marker.publish(cur_foot_pose)\n",
    "    traj = transform_traj(traj,T_init)\n",
    "    #viz.set_dof(traj[0])\n",
    "    #viz.set_rate(2000)\n",
    "\n",
    "    '''for j,index in enumerate(np.arange(0,3350,200)):\n",
    "        viz.set_dof(traj[index])\n",
    "        time.sleep(0.01)\n",
    "        save_screenshot(200,200,1000,1000, FIG_FILE_NAME +  str(fig_index) + '.png', False) \n",
    "        fig_index +=1\n",
    "        print fig_index\n",
    "    clear_output()\n",
    "    '''\n",
    "\n",
    "    viz.vis_traj(traj)"
   ]
  },
  {
   "cell_type": "code",
   "execution_count": null,
   "metadata": {},
   "outputs": [],
   "source": [
    "os.system('ffmpeg -r 25 -start_number 0 -i /home/rli/temp/wb_%d.png -c:v libx264 -r 30 -pix_fmt yuv420p /home/rli/temp/wb0.mp4')\n",
    "os.system('rm /home/rli/temp/wb*.png')"
   ]
  }
 ],
 "metadata": {
  "kernelspec": {
   "display_name": "PyCharm (optimal_control)",
   "language": "python",
   "name": "pycharm-688c58dd"
  },
  "language_info": {
   "codemirror_mode": {
    "name": "ipython",
    "version": 3
   },
   "file_extension": ".py",
   "mimetype": "text/x-python",
   "name": "python",
   "nbconvert_exporter": "python",
   "pygments_lexer": "ipython3",
   "version": "3.5.2"
  }
 },
 "nbformat": 4,
 "nbformat_minor": 4
}
