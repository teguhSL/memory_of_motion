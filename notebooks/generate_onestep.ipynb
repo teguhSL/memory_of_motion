{
 "cells": [
  {
   "cell_type": "code",
   "execution_count": null,
   "metadata": {
    "scrolled": true
   },
   "outputs": [],
   "source": [
    "import numpy as np\n",
    "import pickle\n",
    "from pinocchio.libpinocchio_pywrap import SE3\n",
    "from locomote import  ContactSequenceHumanoid\n",
    "from database import *\n",
    "from croc_lib import *\n",
    "from locomote.liblocomote_pywrap import ContactPatch\n",
    "import time\n",
    "import matplotlib.pyplot as plt\n",
    "%load_ext autoreload\n",
    "%autoreload 2\n",
    "\n",
    "#from utils import *\n",
    "np.set_printoptions(precision=4,suppress=True)\n",
    "from IPython.display import clear_output\n",
    "from regression import *"
   ]
  },
  {
   "cell_type": "markdown",
   "metadata": {},
   "source": [
    "### Visualize in ROS"
   ]
  },
  {
   "cell_type": "raw",
   "metadata": {},
   "source": [
    "roslaunch talos_description upload.launch\n",
    "\n",
    "rosrun robot_state_publisher robot_state_publisher\n",
    "\n",
    "rosrun rviz rviz"
   ]
  },
  {
   "cell_type": "code",
   "execution_count": null,
   "metadata": {},
   "outputs": [],
   "source": [
    "viz_talos = Visual()"
   ]
  },
  {
   "cell_type": "markdown",
   "metadata": {},
   "source": [
    "### Create default problem"
   ]
  },
  {
   "cell_type": "code",
   "execution_count": null,
   "metadata": {},
   "outputs": [],
   "source": [
    "croc_timestep = 0.0375\n",
    "timesteps = np.array([8,32,8])"
   ]
  },
  {
   "cell_type": "code",
   "execution_count": null,
   "metadata": {},
   "outputs": [],
   "source": [
    "init_state = np.array([-1.0006, -0.1115,  1.0231,  0.0001, -0.0004,  0.    ,  1.    ,\n",
    "       -0.    ,  0.002 , -0.4209,  0.8599, -0.4382, -0.0039, -0.    ,\n",
    "        0.002 , -0.421 ,  0.86  , -0.4383, -0.0039,  0.    ,  0.0067,\n",
    "        0.2599,  0.1731, -0.0002, -0.5245,  0.    ,  0.    ,  0.1001,\n",
    "        0.    , -0.2599, -0.174 , -0.0002, -0.5246,  0.    , -0.0001,\n",
    "        0.1001,  0.    , -0.    ,  0.    ])"
   ]
  },
  {
   "cell_type": "code",
   "execution_count": null,
   "metadata": {},
   "outputs": [],
   "source": [
    "#initialisation with zeros, except the initial state\n",
    "trajs = []\n",
    "for i in timesteps:\n",
    "    traj = list(np.zeros([i,39]))\n",
    "    trajs.append(traj)\n",
    "\n",
    "trajs[0][0] = init_state\n",
    "\n",
    "vel_trajs = []\n",
    "for i in timesteps:\n",
    "    traj = list(np.zeros([i,38]))\n",
    "    vel_trajs.append(traj)\n"
   ]
  },
  {
   "cell_type": "code",
   "execution_count": null,
   "metadata": {},
   "outputs": [],
   "source": [
    "#define contacts\n",
    "contact_model_placement = SE3()\n",
    "\n",
    "contact_model_placement.rotation = np.eye(3)\n",
    "\n",
    "contact_model_placement.translation = np.array([0.,0.,-0.107])[:,None]\n",
    "\n",
    "lfs2 = []\n",
    "\n",
    "#define the first left foot location\n",
    "lf_placement = SE3()\n",
    "lf_placement.rotation = np.eye(3)\n",
    "lf_placement.translation = np.array([-1, -0.02, 0.111])[:,None]\n",
    "lf = ContactPatch(lf_placement)\n",
    "lf.contactModelPlacement.translation = np.array([0.,0.,-0.107])[:,None]\n",
    "lf.active = True\n",
    "lfs2.append(lf)\n",
    "\n",
    "#define the second left foot location\n",
    "lf_placement = SE3()\n",
    "lf_placement.rotation = np.eye(3)\n",
    "lf_placement.translation = np.array([-1, -0.02, 0.111])[:,None]\n",
    "lf = ContactPatch(lf_placement)\n",
    "lf.contactModelPlacement.translation = np.array([0.,0.,-0.107])[:,None]\n",
    "lf.active = False\n",
    "lfs2.append(lf)\n",
    "\n",
    "#define the third left foot location\n",
    "lf_placement = SE3()\n",
    "lf_placement.rotation = np.eye(3)\n",
    "lf_placement.translation = np.array([-0.86, 0.07, 0.111])[:,None]\n",
    "lf = ContactPatch(lf_placement)\n",
    "lf.contactModelPlacement.translation = np.array([0.,0.,-0.107])[:,None]\n",
    "lf.active = True\n",
    "lfs2.append(lf)\n",
    "\n",
    "#define the first, second and third right foot location\n",
    "rf_placement = SE3()\n",
    "rf_placement.rotation = np.eye(3)\n",
    "rf_placement.translation = np.array([-1, -0.19, 0.111])[:,None]\n",
    "rf = ContactPatch(rf_placement)\n",
    "rf.contactModelPlacement.translation = np.array([0.,0.,-0.107])[:,None]\n",
    "rf.active = True\n",
    "rfs2 = [rf,rf,rf]"
   ]
  },
  {
   "cell_type": "markdown",
   "metadata": {},
   "source": [
    "### Store into the format of crocoddyl"
   ]
  },
  {
   "cell_type": "code",
   "execution_count": null,
   "metadata": {},
   "outputs": [],
   "source": [
    "phases = store_for_crocoddyl(timesteps, lfs2, rfs2, trajs, vel_trajs, croc_timestep)"
   ]
  },
  {
   "cell_type": "code",
   "execution_count": null,
   "metadata": {},
   "outputs": [],
   "source": [
    "ROBOT = loadTalos('/opt/openrobots/share/example-robot-data')"
   ]
  },
  {
   "cell_type": "code",
   "execution_count": null,
   "metadata": {},
   "outputs": [],
   "source": [
    "angles = np.arange(0,np.pi,np.pi/100)\n",
    "step_length = 0.2\n",
    "vec = []\n",
    "for angle in angles:\n",
    "    vec.append(step_length*np.array([np.cos(angle),np.sin(angle)]))\n",
    "    \n",
    "vec =np.array(vec)\n",
    "plt.plot(-vec[:,1],vec[:,0],'*')\n",
    "plt.xlabel('y')\n",
    "plt.ylabel('x')\n",
    "\n",
    "plt.axis([-0.3,0.1,-0.22,0.22])\n",
    "plt.axis('equal')\n",
    "plt.savefig('angles.png')"
   ]
  },
  {
   "cell_type": "code",
   "execution_count": null,
   "metadata": {},
   "outputs": [],
   "source": [
    "vec =np.array(vec)"
   ]
  },
  {
   "cell_type": "markdown",
   "metadata": {},
   "source": [
    "### Run Crocoddyl "
   ]
  },
  {
   "cell_type": "code",
   "execution_count": null,
   "metadata": {
    "scrolled": true
   },
   "outputs": [],
   "source": [
    "x_input = []\n",
    "x_output = []\n",
    "for displacement in vec:\n",
    "    trans = np.array([-1, -0.02, 0.004])[:,None]    \n",
    "    trans[0,0] += displacement[0]\n",
    "    trans[1,0] += displacement[1]\n",
    "    phases[1]['left_sole_link'].translation = trans\n",
    "    print phases[1]['left_sole_link'] \n",
    "\n",
    "    pickle.dump(phases,open('data_teguh_3.txt','wb'))\n",
    "    problem, xs, us, ts = define_croc_problem(ROBOT,'data_teguh_3.txt', is_warmstart=False)\n",
    "    solver = solve_problem(ROBOT,problem,xs, us)\n",
    "    #raw_input()\n",
    "    traj = np.array(solver.xs)[:,0:39]\n",
    "    viz_talos.vis_traj(traj)\n",
    "    x_input.append(displacement)\n",
    "    x_output.append(solver.xs)\n",
    "    print 'Length of the data is now ' + str(len(x_input))\n",
    "    \n",
    "\n",
    "x_input = np.array(x_input)\n",
    "x_output = np.array(x_output)\n",
    "data = dict()\n",
    "data['input'] = x_input\n",
    "data['output'] = x_output\n",
    "f = open('data/one_step.pkl', 'wb')\n",
    "pickle.dump(data, f)\n",
    "f.close()"
   ]
  },
  {
   "cell_type": "markdown",
   "metadata": {},
   "source": [
    "### Plot trajectories of joint angles "
   ]
  },
  {
   "cell_type": "code",
   "execution_count": null,
   "metadata": {},
   "outputs": [],
   "source": [
    "for i in range(traj.shape[1]):\n",
    "    plt.plot(traj[:,i])\n",
    "    plt.show()\n",
    "    time.sleep(1)\n",
    "    clear_output(wait=True)"
   ]
  },
  {
   "cell_type": "markdown",
   "metadata": {},
   "source": [
    "### Load the data "
   ]
  },
  {
   "cell_type": "code",
   "execution_count": null,
   "metadata": {},
   "outputs": [],
   "source": [
    "viz_talos = Visual()"
   ]
  },
  {
   "cell_type": "code",
   "execution_count": null,
   "metadata": {},
   "outputs": [],
   "source": [
    "f = open('data/one_step.pkl', 'rb')\n",
    "data = pickle.load(f)\n",
    "f.close()"
   ]
  },
  {
   "cell_type": "code",
   "execution_count": null,
   "metadata": {},
   "outputs": [],
   "source": [
    "x_input = data['input'] \n",
    "x_output = data['output']\n",
    "x_output_pose = x_output[:,:,0:7]\n",
    "x_output_joint = x_output[:,:,7:39]\n",
    "n = len(x_input)\n",
    "timestep = x_output.shape[1]\n",
    "print timestep"
   ]
  },
  {
   "cell_type": "code",
   "execution_count": null,
   "metadata": {},
   "outputs": [],
   "source": [
    "trajs = x_output[:,:,0:39]"
   ]
  },
  {
   "cell_type": "code",
   "execution_count": null,
   "metadata": {},
   "outputs": [],
   "source": [
    "for i in range(100):\n",
    "    traj = trajs[np.random.randint(100),:,:]\n",
    "    viz_talos.vis_traj(traj)\n",
    "    time.sleep(0.5)"
   ]
  },
  {
   "cell_type": "code",
   "execution_count": null,
   "metadata": {},
   "outputs": [],
   "source": [
    "x_output_pose = x_output_pose.reshape(n,-1)\n",
    "x_output_joint = x_output_joint.reshape(n,-1)"
   ]
  },
  {
   "cell_type": "code",
   "execution_count": null,
   "metadata": {
    "scrolled": true
   },
   "outputs": [],
   "source": [
    "from sklearn.decomposition import PCA\n",
    "joint_pca = PCA(n_components = 4)\n",
    "pose_pca = PCA(n_components = 4)\n",
    "\n",
    "joint_pca.fit(x_output_joint)\n",
    "pose_pca.fit(x_output_pose)\n",
    "\n",
    "print(joint_pca.explained_variance_)\n",
    "print(joint_pca.singular_values_)\n",
    "\n",
    "print(pose_pca.explained_variance_)\n",
    "print(pose_pca.singular_values_)\n",
    "\n",
    "joints_reduced = joint_pca.transform(x_output_joint)\n",
    "poses_reduced = pose_pca.transform(x_output_pose)"
   ]
  },
  {
   "cell_type": "code",
   "execution_count": null,
   "metadata": {},
   "outputs": [],
   "source": [
    "angles = np.arctan2(x_input[:,1], x_input[:,0])"
   ]
  },
  {
   "cell_type": "code",
   "execution_count": null,
   "metadata": {},
   "outputs": [],
   "source": [
    "dpglm_joint = DP_GLM_Regressor(is_transform=True)\n",
    "\n",
    "dpglm_joint.pca = joint_pca\n",
    "\n",
    "dpglm_joint.fit(angles[:,None], joints_reduced)"
   ]
  },
  {
   "cell_type": "code",
   "execution_count": null,
   "metadata": {},
   "outputs": [],
   "source": [
    "dpglm_pose = DP_GLM_Regressor(is_transform=True)\n",
    "\n",
    "dpglm_pose.pca = pose_pca\n",
    "\n",
    "dpglm_pose.fit(angles[:,None], poses_reduced)"
   ]
  },
  {
   "cell_type": "code",
   "execution_count": null,
   "metadata": {},
   "outputs": [],
   "source": [
    "from geometry_msgs.msg import Quaternion, Pose, Point, Vector3\n",
    "from std_msgs.msg import Header, ColorRGBA\n",
    "from visualization_msgs.msg import Marker"
   ]
  },
  {
   "cell_type": "code",
   "execution_count": null,
   "metadata": {},
   "outputs": [],
   "source": [
    "import rospy"
   ]
  },
  {
   "cell_type": "code",
   "execution_count": null,
   "metadata": {},
   "outputs": [],
   "source": [
    "rospy.init_node('marker_publisher')"
   ]
  },
  {
   "cell_type": "code",
   "execution_count": null,
   "metadata": {},
   "outputs": [],
   "source": [
    "marker_publisher = rospy.Publisher('visualization_marker', Marker, queue_size=5)\n",
    "rospy.sleep(0.5)   \n",
    "marker = Marker(\n",
    "            type=Marker.CUBE,\n",
    "            id=0,\n",
    "            lifetime=rospy.Duration(5000),\n",
    "            pose=Pose(Point(0., 0., 0.), Quaternion(0, 0, 0, 1)),\n",
    "            scale=Vector3(0.25, 0.13, 0.01),\n",
    "            header=Header(frame_id='world'),\n",
    "            color=ColorRGBA(0.0, 1.0, 0.0, 0.8))\n",
    "marker_publisher.publish(marker)"
   ]
  },
  {
   "cell_type": "code",
   "execution_count": null,
   "metadata": {},
   "outputs": [],
   "source": [
    "joint_predict = []\n",
    "pose_predict = []\n",
    "for i in range(len(x_input)):\n",
    "    angle = np.array([np.arctan2(x_input[i,1], x_input[i,0])])\n",
    "\n",
    "    y,_= dpglm_joint.predict(angle[:,None],False)\n",
    "    joint_predict.append(y[0,:])\n",
    "    \n",
    "    y,_= dpglm_pose.predict(angle[:,None],False)\n",
    "    pose_predict.append(y[0,:])\n",
    "    \n",
    "joint_predict = np.array(joint_predict)\n",
    "pose_predict = np.array(pose_predict)"
   ]
  },
  {
   "cell_type": "code",
   "execution_count": null,
   "metadata": {},
   "outputs": [],
   "source": [
    "plt.plot(angles, poses_reduced,'r',linewidth=10)\n",
    "plt.plot(angles, pose_predict,'b')\n",
    "\n",
    "plt.show()"
   ]
  },
  {
   "cell_type": "code",
   "execution_count": null,
   "metadata": {},
   "outputs": [],
   "source": [
    "ax = plt.axes()"
   ]
  },
  {
   "cell_type": "code",
   "execution_count": null,
   "metadata": {},
   "outputs": [],
   "source": [
    "for i in range(4):\n",
    "    plt.figure()\n",
    "    plt.plot(angles, joints_reduced[:,i],'r',linewidth=3, label='true')\n",
    "    plt.plot(angles, joint_predict[:,i],'b*',markersize=3, label='predicted')\n",
    "    plt.xlabel(r'${\\bf{\\theta}}$',fontsize=16,fontweight='bold')\n",
    "    plt.ylabel(r'$\\bf{y}$'+str(i+1),fontsize=16)\n",
    "    plt.legend(loc='best')\n",
    "    ax = plt.axes()\n",
    "    ax.tick_params(axis='both', which='major', labelsize=14)\n",
    "    plt.tight_layout()\n",
    "    plt.savefig('comp' + str(i)+'.png',dpi=500)"
   ]
  },
  {
   "cell_type": "code",
   "execution_count": null,
   "metadata": {},
   "outputs": [],
   "source": [
    "plt.xticks('labelsize'='x-large')"
   ]
  },
  {
   "cell_type": "code",
   "execution_count": null,
   "metadata": {},
   "outputs": [],
   "source": [
    "plt.subplot(2,2,1)\n",
    "plt.plot(angles[:, joints_reduced,'r',linewidth=10)\n",
    "plt.plot(angles, joint_predict,'b')\n",
    "\n",
    "plt.subplot(2,2,2)\n",
    "plt.plot(angles, joints_reduced,'r',linewidth=10)\n",
    "plt.plot(angles, joint_predict,'b')\n",
    "\n",
    "plt.subplot(2,2,3)\n",
    "plt.plot(angles, joints_reduced,'r',linewidth=10)\n",
    "plt.plot(angles, joint_predict,'b')\n",
    "\n",
    "plt.subplot(2,2,4)\n",
    "plt.plot(angles, joints_reduced,'r',linewidth=10)\n",
    "plt.plot(angles, joint_predict,'b')\n"
   ]
  },
  {
   "cell_type": "code",
   "execution_count": null,
   "metadata": {},
   "outputs": [],
   "source": [
    "step_length = 0.2\n",
    "for i in range(1000):\n",
    "    angle = np.random.rand()*np.pi\n",
    "    #x = np.array(step_length*np.array([np.cos(angle),np.sin(angle)]))[None,:]\n",
    "    x = np.array([angle])[None,:]\n",
    "    #index = np.random.randint(len(x_input))\n",
    "    #x = x_input[index][None,:]\n",
    "    marker.pose.position.x = step_length*np.cos(angle)-1.\n",
    "    marker.pose.position.y = step_length*np.sin(angle)\n",
    "    marker_publisher.publish(marker)\n",
    "    y_pose,_ = dpglm_pose.predict(x,False)\n",
    "    print y_pose\n",
    "    y_pose = dpglm_pose.pca.inverse_transform(y_pose)\n",
    "    y_pose = y_pose.reshape(timestep,-1)\n",
    "    \n",
    "    y_joint,_ = dpglm_joint.predict(x,False)\n",
    "    #print y_joint\n",
    "    y_joint = dpglm_joint.pca.inverse_transform(y_joint)\n",
    "    y_joint = y_joint.reshape(timestep, -1)\n",
    "    y_predict = np.hstack([y_pose, y_joint])\n",
    "    #print y_predict.shape\n",
    "\n",
    "    traj = y_predict\n",
    "    viz_talos.vis_traj(traj)"
   ]
  }
 ],
 "metadata": {
  "kernelspec": {
   "display_name": "Python 2",
   "language": "python",
   "name": "python2"
  },
  "language_info": {
   "codemirror_mode": {
    "name": "ipython",
    "version": 2
   },
   "file_extension": ".py",
   "mimetype": "text/x-python",
   "name": "python",
   "nbconvert_exporter": "python",
   "pygments_lexer": "ipython2",
   "version": "2.7.12"
  }
 },
 "nbformat": 4,
 "nbformat_minor": 2
}
