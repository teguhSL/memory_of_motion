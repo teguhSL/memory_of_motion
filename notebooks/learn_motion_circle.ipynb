{
 "cells": [
  {
   "cell_type": "markdown",
   "metadata": {},
   "source": [
    "# Learn the motion from data"
   ]
  },
  {
   "cell_type": "code",
   "execution_count": 1,
   "metadata": {},
   "outputs": [],
   "source": [
    "import warnings\n",
    "warnings.filterwarnings('ignore')\n",
    "\n",
    "import numpy as np\n",
    "import roslib\n",
    "import tf\n",
    "from memmo_utils import *\n",
    "import os\n",
    "from geometry_msgs.msg import Quaternion, Pose, Point, Vector3\n",
    "from std_msgs.msg import Header, ColorRGBA\n",
    "import rospy\n",
    "import os\n",
    "from mlp.utils.status import Status\n",
    "import mlp.utils.wholebody_result as wb_res\n",
    "import matplotlib.pyplot as plt\n",
    "import pickle\n",
    "from IPython.display import clear_output\n",
    "\n",
    "from transforms3d import axangles\n",
    "from transforms3d import affines, quaternions\n",
    "\n",
    "from regression import *\n",
    "\n",
    "np.set_printoptions(precision=4, suppress=True)\n",
    "\n",
    "%load_ext autoreload\n",
    "%autoreload 2"
   ]
  },
  {
   "cell_type": "markdown",
   "metadata": {},
   "source": [
    "### Start Instruction"
   ]
  },
  {
   "cell_type": "raw",
   "metadata": {},
   "source": [
    "os.system('roslaunch talos_description upload.launch &') # upload talos urdf to ros_param server\n",
    "os.system('rosrun robot_state_publisher robot_state_publisher &')\n",
    "os.system('rosrun rviz rviz  &') #change to rviz config locations\n",
    "#os.system('rosrun rviz rviz -d ./rviz_config.rviz &') #change to rviz config locations"
   ]
  },
  {
   "cell_type": "markdown",
   "metadata": {},
   "source": [
    "### Load Robot Kinematics using URDF "
   ]
  },
  {
   "cell_type": "code",
   "execution_count": 2,
   "metadata": {},
   "outputs": [],
   "source": [
    "import roslib; roslib.load_manifest('urdfdom_py')\n",
    "from urdf_parser_py.urdf import URDF\n",
    "from pykdl_utils.kdl_parser import kdl_tree_from_urdf_model\n",
    "from pykdl_utils.kdl_kinematics import KDLKinematics\n",
    "\n",
    "robot = URDF.from_parameter_server()\n",
    "tree = kdl_tree_from_urdf_model(robot)\n",
    "\n",
    "left_foot = KDLKinematics(robot, 'base_link', 'left_sole_link')\n",
    "right_foot = KDLKinematics(robot, 'base_link', 'right_sole_link')\n",
    "\n",
    "q = left_foot.random_joint_angles()\n",
    "pose = left_foot.forward(q) # forward kinematics (returns homogeneous 4x4 numpy.mat)\n",
    "q_ik = left_foot.inverse(pose, q+0.3) # inverse kinematics\n",
    "clear_output()"
   ]
  },
  {
   "cell_type": "markdown",
   "metadata": {},
   "source": [
    "### Create Visualization"
   ]
  },
  {
   "cell_type": "code",
   "execution_count": 3,
   "metadata": {},
   "outputs": [],
   "source": [
    "viz = Visual()\n",
    "viz.rate = rospy.Rate(1000)\n",
    "\n",
    "foot_marker = RvizMarker('foot_marker', 5, Marker.CUBE, 4)\n",
    "colors = [ColorRGBA(0.0, 1.0, 0.0, 0.3), ColorRGBA(0.0, 0.0, 1.0, 0.3)] + [ColorRGBA(1.0, 0.0, 0.0, 0.9)]*2\n",
    "foot_marker.set_color(colors)"
   ]
  },
  {
   "cell_type": "markdown",
   "metadata": {},
   "source": [
    "### Option 1: Use GPR trained from the one-step movement data "
   ]
  },
  {
   "cell_type": "markdown",
   "metadata": {},
   "source": [
    "#### Load GPR "
   ]
  },
  {
   "cell_type": "raw",
   "metadata": {},
   "source": [
    "goal_type = 'contact'#'root' #\n",
    "FILE_CAT = 'talos_moveEffector_flat1'\n",
    "#FILE_CAT = 'talos_circle_oriented'\n",
    "ROOT_CROCS = '/media/teguh/Data/MEMMO Dataset/crocs_data/' + FILE_CAT + '/'\n",
    "#ROOT_PROCESSED = '/media/teguh/Data/MEMMO Dataset/processed_data/' + FILE_CAT + '/'\n",
    "\n",
    "f = open(ROOT_PROCESSED + 'gpr_' + goal_type + '.pkl', 'rb')\n",
    "\n",
    "#ROOT_GPR = '/media/teguh/Data/MEMMO Dataset/processed_data/talos_moveEffector_flat/'\n",
    "#f = open(ROOT_GPR + 'gpr_' + goal_type + '.pkl','rb')\n",
    "gpr = pickle.load(f)\n",
    "clear_output()\n",
    "#gpr = GPy_Regressor(dim_input = 12)\n",
    "#gpr.load_from_file()"
   ]
  },
  {
   "cell_type": "code",
   "execution_count": null,
   "metadata": {},
   "outputs": [],
   "source": [
    "FILE_CAT = 'talos_moveEffector_flat'\n",
    "#FILE_CAT = 'talos_circle'\n",
    "#FILE_CAT = 'talos_circle_oriented'\n",
    "ROOT_PROCESSED = '/media/teguh/Data/MEMMO Dataset/processed_data/' + FILE_CAT + '/'\n",
    "ROOT_CROCS = '/media/teguh/Data/MEMMO Dataset/crocs_data/' + FILE_CAT + '/'\n",
    "#based on database B\n",
    "f = open(ROOT_CROCS + '/functions.pkl', 'rb')\n",
    "functions = pickle.load(f)\n",
    "f.close()\n",
    "gpr = functions['gpr']\n",
    "nn = functions['nn']\n",
    "gmr = functions['gmr'] "
   ]
  },
  {
   "cell_type": "code",
   "execution_count": null,
   "metadata": {},
   "outputs": [],
   "source": [
    "gpr_vel = functions['gpr_vel']\n",
    "gpr_u = functions['gpr_u']"
   ]
  },
  {
   "cell_type": "code",
   "execution_count": null,
   "metadata": {},
   "outputs": [],
   "source": [
    "#based on database A\n",
    "f = open(ROOT_CROCS + '/functions_A.pkl', 'rb')\n",
    "functions_A = pickle.load(f)\n",
    "f.close()\n",
    "gpr_A = functions_A['gpr']\n",
    "nn_A = functions_A['nn']\n",
    "gmr_A = functions_A['gmr'] "
   ]
  },
  {
   "cell_type": "markdown",
   "metadata": {},
   "source": [
    "#### Define RBF "
   ]
  },
  {
   "cell_type": "code",
   "execution_count": null,
   "metadata": {},
   "outputs": [],
   "source": [
    "rbf_num = 60\n",
    "timestep = 3351\n",
    "Phi = define_RBF(dof=39, nbStates = rbf_num, offset = 200, width = 60, T = timestep)\n",
    "plt.figure(figsize=(10,4))\n",
    "plt.plot(Phi)\n",
    "clear_output()"
   ]
  },
  {
   "cell_type": "markdown",
   "metadata": {},
   "source": [
    "### Option 2: Train GPR from the circle movement data "
   ]
  },
  {
   "cell_type": "markdown",
   "metadata": {},
   "source": [
    "#### Loading Files (already separated into one-step movements)"
   ]
  },
  {
   "cell_type": "code",
   "execution_count": 18,
   "metadata": {},
   "outputs": [
    {
     "name": "stdout",
     "output_type": "stream",
     "text": [
      "Data has been loaded in 106.480104923 s!\n"
     ]
    }
   ],
   "source": [
    "FILE_CAT = 'talos_circle_oriented'\n",
    "ROOT = '/media/teguh/Data/MEMMO Dataset/processed_data/' + FILE_CAT + '/'\n",
    "\n",
    "f = open(ROOT + '/data_left_right.pkl', 'rb')\n",
    "tic = time.time()\n",
    "data1 = pickle.load(f)\n",
    "f.close()\n",
    "print('Data has been loaded in {} s!'.format(time.time()-tic))"
   ]
  },
  {
   "cell_type": "code",
   "execution_count": 22,
   "metadata": {},
   "outputs": [],
   "source": [
    "keys = ['left','right']\n",
    "trajs = dict()\n",
    "foot_poses = dict()\n",
    "x_inputs = dict()\n",
    "\n",
    "for key in keys:\n",
    "    trajs[key] = data1[key]['trajs']\n",
    "    foot_poses[key] = data1[key]['foot_poses']\n",
    "    x_inputs[key] = data1[key]['x_inputs']"
   ]
  },
  {
   "cell_type": "markdown",
   "metadata": {},
   "source": [
    "#### Temp codes: subsample the data for Hedi"
   ]
  },
  {
   "cell_type": "raw",
   "metadata": {},
   "source": [
    "trajs_short = []\n",
    "for key in keys:\n",
    "    trajs_i = trajs[key]\n",
    "    for traj in trajs_i[:1000]:\n",
    "        traj = subsample(traj,100)\n",
    "        trajs_short += [traj]\n",
    "trajs_short = np.array(trajs_short)\n",
    "print trajs_short.shape\n",
    "\n",
    "viz.set_rate(30)\n",
    "index = np.random.randint(len(trajs_short))\n",
    "viz.vis_traj(trajs_short[index])\n",
    "\n",
    "np.save('trajs_short_random',trajs_short)"
   ]
  },
  {
   "cell_type": "markdown",
   "metadata": {},
   "source": [
    "#### Visualise the dataset "
   ]
  },
  {
   "cell_type": "raw",
   "metadata": {},
   "source": [
    "key = 'left'\n",
    "for i in range(3):\n",
    "    index = np.random.randint(len(trajs[key]))\n",
    "    foot_marker.publish(foot_poses[key][index])\n",
    "    viz.vis_traj(trajs[key][index])\n",
    "    raw_input()"
   ]
  },
  {
   "cell_type": "markdown",
   "metadata": {},
   "source": [
    "#### Subsample the data"
   ]
  },
  {
   "cell_type": "code",
   "execution_count": 20,
   "metadata": {},
   "outputs": [
    {
     "data": {
      "text/plain": [
       "1022"
      ]
     },
     "execution_count": 20,
     "metadata": {},
     "output_type": "execute_result"
    }
   ],
   "source": [
    "len(x_inputs['left'])"
   ]
  },
  {
   "cell_type": "raw",
   "metadata": {},
   "source": [
    "indexes = np.arange(len(x_inputs['left']))\n",
    "np.random.shuffle(indexes)\n",
    "indexes = indexes[0:900]\n",
    "for key in keys:\n",
    "    x_inputs[key] = x_inputs[key][indexes] \n",
    "    trajs[key] = trajs[key][indexes] \n",
    "    foot_poses[key] = foot_poses[key][indexes] "
   ]
  },
  {
   "cell_type": "markdown",
   "metadata": {},
   "source": [
    "#### Define RBF "
   ]
  },
  {
   "cell_type": "code",
   "execution_count": 23,
   "metadata": {
    "scrolled": true
   },
   "outputs": [],
   "source": [
    "timestep = trajs['left'].shape[1]\n",
    "rbf_num = 60\n",
    "Phi = define_RBF(dof=39, nbStates = rbf_num, offset = 200, width = 60, T = timestep)\n",
    "#plt.plot(Phi)\n",
    "clear_output()"
   ]
  },
  {
   "cell_type": "markdown",
   "metadata": {},
   "source": [
    "#### Apply RBF "
   ]
  },
  {
   "cell_type": "code",
   "execution_count": 24,
   "metadata": {},
   "outputs": [],
   "source": [
    "w_trajs = dict()\n",
    "for key in keys:\n",
    "    w_trajs[key] = []\n",
    "    for traj in trajs[key]:\n",
    "        w,_,_,_ = np.linalg.lstsq(Phi, traj, rcond=0.0001)\n",
    "        w_trajs[key].append(w.flatten())\n",
    "    w_trajs[key] = np.array(w_trajs[key])"
   ]
  },
  {
   "cell_type": "markdown",
   "metadata": {},
   "source": [
    "#### Visualize the approximated trajectories "
   ]
  },
  {
   "cell_type": "raw",
   "metadata": {},
   "source": [
    "key = 'right'\n",
    "traj = trajs[key][np.random.randint(len(trajs[key]))]\n",
    "w,_,_,_ = np.linalg.lstsq(Phi, traj, rcond=0.0001)\n",
    "traj_rec = np.dot(Phi,w)\n",
    "for i in range(3):\n",
    "    plt.plot(traj[:,i], '*')\n",
    "    plt.plot(traj_rec[:,i], '-')\n",
    "    plt.show()\n",
    "    raw_input()\n",
    "    clear_output(wait=True)\n",
    "    \n",
    "plt.clf()"
   ]
  },
  {
   "cell_type": "markdown",
   "metadata": {},
   "source": [
    "#### Apply PCA decomposition "
   ]
  },
  {
   "cell_type": "code",
   "execution_count": 25,
   "metadata": {},
   "outputs": [],
   "source": [
    "from sklearn.decomposition import PCA\n",
    "\n",
    "w_trajs_pca = dict()\n",
    "pca = dict()\n",
    "for key in keys:\n",
    "    pca[key] = PCA(n_components=60)\n",
    "    w_trajs_pca[key] = pca[key].fit_transform(w_trajs[key])"
   ]
  },
  {
   "cell_type": "raw",
   "metadata": {},
   "source": [
    "key = 'right'\n",
    "for i in range(3):\n",
    "    w_pca = w_trajs_pca[key][i]\n",
    "    w = pca[key].inverse_transform(w_pca)\n",
    "    w = w.reshape(60,-1)\n",
    "    traj = np.dot(Phi,w)\n",
    "    foot_marker.publish(foot_poses[key][i])\n",
    "    viz.vis_traj(traj)\n",
    "    raw_input()"
   ]
  },
  {
   "cell_type": "markdown",
   "metadata": {},
   "source": [
    "#### Train GPR "
   ]
  },
  {
   "cell_type": "raw",
   "metadata": {},
   "source": [
    "bgmr = DP_GLM_Regressor(n_components=20)\n",
    "bgmr.pca = pca\n",
    "bgmr.fit(x_inputs, w_trajs_pca)"
   ]
  },
  {
   "cell_type": "code",
   "execution_count": 26,
   "metadata": {},
   "outputs": [],
   "source": [
    "gpr = dict()\n",
    "nn = dict()\n",
    "gmr=dict()\n",
    "for key in keys:\n",
    "    gpr[key] = GPy_Regressor(dim_input=x_inputs[key].shape[1],is_transform=True)\n",
    "    gpr[key].pca = pca[key]\n",
    "    gpr[key].fit(x_inputs[key], w_trajs_pca[key],num_restarts=3)\n",
    "    nn[key] = NN_Regressor()\n",
    "    nn[key].fit(x_inputs[key], w_trajs_pca[key])\n",
    "    nn[key].pca = pca[key]\n",
    "    gmr[key] = DP_GLM_Regressor(n_components=10,n_init = 10)\n",
    "    #(n_components=10,n_init=5)\n",
    "    gmr[key].fit(x_inputs[key], w_trajs_pca[key])\n",
    "    gmr[key].pca = pca[key]\n",
    "\n",
    "clear_output()"
   ]
  },
  {
   "cell_type": "markdown",
   "metadata": {},
   "source": [
    "#### Save the memory"
   ]
  },
  {
   "cell_type": "code",
   "execution_count": 27,
   "metadata": {},
   "outputs": [],
   "source": [
    "#FILE_CAT = 'talos_moveEffector_flat'\n",
    "#FILE_CAT = 'talos_circle'\n",
    "FILE_CAT = 'talos_circle_oriented'\n",
    "ROOT_CROCS = '/media/teguh/Data/MEMMO Dataset/crocs_data/' + FILE_CAT + '/'\n",
    "\n",
    "\n",
    "functions = dict()\n",
    "functions['gpr'] = gpr\n",
    "functions['nn'] = nn\n",
    "functions['gmr'] = gmr\n",
    "\n",
    "f = open(ROOT_CROCS + '/functions_A_circle_oriented.pkl', 'wb')\n",
    "pickle.dump(functions, f)\n",
    "f.close()"
   ]
  },
  {
   "cell_type": "markdown",
   "metadata": {},
   "source": [
    "#### Test Memory"
   ]
  },
  {
   "cell_type": "code",
   "execution_count": 28,
   "metadata": {},
   "outputs": [],
   "source": [
    "from sklearn.mixture import GaussianMixture\n",
    "gmm = dict()\n",
    "for key in keys:\n",
    "    gmm[key] = GaussianMixture(n_components=30, n_init = 3) \n",
    "    gmm[key].fit(x_inputs[key])"
   ]
  },
  {
   "cell_type": "code",
   "execution_count": 29,
   "metadata": {},
   "outputs": [],
   "source": [
    "viz.set_rate(1000)"
   ]
  },
  {
   "cell_type": "raw",
   "metadata": {},
   "source": [
    "%matplotlib qt"
   ]
  },
  {
   "cell_type": "raw",
   "metadata": {},
   "source": [
    "plt.plot(func.pca.components_[0,:])"
   ]
  },
  {
   "cell_type": "raw",
   "metadata": {},
   "source": [
    "np.sum(func.pca.explained_variance_)"
   ]
  },
  {
   "cell_type": "raw",
   "metadata": {},
   "source": [
    "np.sum(func.pca.explained_variance_ratio_)"
   ]
  },
  {
   "cell_type": "code",
   "execution_count": 36,
   "metadata": {},
   "outputs": [],
   "source": [
    "for i in range(1):\n",
    "    if np.random.rand() < 0.5:\n",
    "        key = 'left'\n",
    "    else:\n",
    "        key = 'right'\n",
    "\n",
    "    key = 'left'\n",
    "    #x = x_inputs[key][np.random.randint(x_inputs[key].shape[0])][None,:]\n",
    "    x,_ = gmm[key].sample()\n",
    "    func = gmr[key]#nn[key]#\n",
    "\n",
    "    foot_marker.publish(x.reshape(-1,3))\n",
    "       \n",
    "    w_pca,cov = func.predict(x,return_gmm=False)\n",
    "    #w_pca = w_pca + np.random.rand(1,20)*0.1\n",
    "    \n",
    "    #w_pca = np.random.rand(1,20)*0.4-0.2\n",
    "    #w_pca = np.zeros((1,20))\n",
    "    #w_pca[0,1] = -1.\n",
    "    w = func.pca.inverse_transform(w_pca)\n",
    "    w = w.reshape(rbf_num,-1)\n",
    "    traj = np.dot(Phi,w)\n",
    "    \n",
    "    viz.vis_traj(traj)\n",
    "    #raw_input()"
   ]
  },
  {
   "cell_type": "raw",
   "metadata": {},
   "source": [
    "cov = np.eye(w_pca.shape[1])*cov[0,0]*10"
   ]
  },
  {
   "cell_type": "code",
   "execution_count": null,
   "metadata": {},
   "outputs": [],
   "source": [
    "cov = cov[0]*10"
   ]
  },
  {
   "cell_type": "code",
   "execution_count": null,
   "metadata": {},
   "outputs": [],
   "source": [
    "P = func.pca.components_.T\n",
    "m = func.pca.mean_\n"
   ]
  },
  {
   "cell_type": "code",
   "execution_count": null,
   "metadata": {},
   "outputs": [],
   "source": [
    "Phi2 = Phi[0::100]"
   ]
  },
  {
   "cell_type": "code",
   "execution_count": null,
   "metadata": {},
   "outputs": [],
   "source": [
    "Psi = np.kron(Phi2,np.eye(39))"
   ]
  },
  {
   "cell_type": "code",
   "execution_count": null,
   "metadata": {},
   "outputs": [],
   "source": [
    "traj_mean_dummy = (np.dot(P, w_pca.T) + m[:,None])\n",
    "traj_mean = np.dot(Psi, traj_mean_dummy)"
   ]
  },
  {
   "cell_type": "code",
   "execution_count": null,
   "metadata": {},
   "outputs": [],
   "source": [
    "a = np.dot(P,np.dot(cov,P.T))\n",
    "b = np.dot(a,Psi.T)\n",
    "traj_cov = np.dot(Psi,b) + 1e-7*np.eye(len(Psi))"
   ]
  },
  {
   "cell_type": "code",
   "execution_count": null,
   "metadata": {},
   "outputs": [],
   "source": [
    "dim_in = slice(0,39)\n",
    "dim_out = slice(39,975)"
   ]
  },
  {
   "cell_type": "code",
   "execution_count": null,
   "metadata": {},
   "outputs": [],
   "source": [
    "mu_in = traj_mean[dim_in].flatten()\n",
    "mu_out = traj_mean[dim_out].flatten()\n",
    "sigma_in = traj_cov[dim_in,dim_in]\n",
    "sigma_out = traj_cov[dim_out,dim_out]\n",
    "sigma_in_out = traj_cov[dim_in,dim_out]"
   ]
  },
  {
   "cell_type": "code",
   "execution_count": null,
   "metadata": {},
   "outputs": [],
   "source": [
    "x_in_true = traj_mean[0:39,0]"
   ]
  },
  {
   "cell_type": "code",
   "execution_count": null,
   "metadata": {},
   "outputs": [],
   "source": [
    "x_in = x_in_true.copy()"
   ]
  },
  {
   "cell_type": "code",
   "execution_count": null,
   "metadata": {},
   "outputs": [],
   "source": [
    "x_in[11] += 0.05"
   ]
  },
  {
   "cell_type": "code",
   "execution_count": null,
   "metadata": {},
   "outputs": [],
   "source": [
    "mu = mu_out + np.dot(sigma_in_out.T, np.dot(np.linalg.inv(sigma_in), (x_in-mu_in).T)).flatten()\n",
    "sigma = sigma_out - np.dot(sigma_in_out.T, np.dot(np.linalg.inv(sigma_in), sigma_in_out))"
   ]
  },
  {
   "cell_type": "code",
   "execution_count": null,
   "metadata": {},
   "outputs": [],
   "source": [
    "viz.set_dof(x_in_true)"
   ]
  },
  {
   "cell_type": "code",
   "execution_count": null,
   "metadata": {},
   "outputs": [],
   "source": [
    "viz.set_dof(x_in)"
   ]
  },
  {
   "cell_type": "code",
   "execution_count": null,
   "metadata": {},
   "outputs": [],
   "source": [
    "x_next  = mu.reshape(24,-1)[0,:]\n",
    "\n",
    "viz.set_dof(x_next)"
   ]
  },
  {
   "cell_type": "code",
   "execution_count": null,
   "metadata": {},
   "outputs": [],
   "source": [
    "viz.set_rate(10)"
   ]
  },
  {
   "cell_type": "code",
   "execution_count": null,
   "metadata": {},
   "outputs": [],
   "source": [
    "viz.vis_traj(mu.reshape(24,-1))"
   ]
  },
  {
   "cell_type": "code",
   "execution_count": null,
   "metadata": {},
   "outputs": [],
   "source": [
    "a = slice(0,5)"
   ]
  },
  {
   "cell_type": "code",
   "execution_count": null,
   "metadata": {},
   "outputs": [],
   "source": [
    "for i in range(10):\n",
    "    traj_sample = traj_prob.rvs()\n",
    "    viz.vis_traj(traj_sample.reshape(25,-1))\n",
    "    raw_input()"
   ]
  },
  {
   "cell_type": "code",
   "execution_count": null,
   "metadata": {},
   "outputs": [],
   "source": [
    "traj_mean_edit = traj_mean.reshape(250,-1)"
   ]
  },
  {
   "cell_type": "code",
   "execution_count": null,
   "metadata": {},
   "outputs": [],
   "source": []
  },
  {
   "cell_type": "code",
   "execution_count": null,
   "metadata": {},
   "outputs": [],
   "source": [
    "viz.set_rate(10)"
   ]
  },
  {
   "cell_type": "code",
   "execution_count": null,
   "metadata": {},
   "outputs": [],
   "source": [
    "viz.vis_traj(traj_mean_edit)"
   ]
  },
  {
   "cell_type": "markdown",
   "metadata": {},
   "source": [
    "### Predict multi-step movements using GPR at each timestep "
   ]
  },
  {
   "cell_type": "markdown",
   "metadata": {},
   "source": [
    "#### Load foot_poses examples "
   ]
  },
  {
   "cell_type": "code",
   "execution_count": 15,
   "metadata": {},
   "outputs": [],
   "source": [
    "from database import *\n",
    "import os\n",
    "from memmo_utils import *\n",
    "from database import *\n",
    "viz = Visual(rate=1000)"
   ]
  },
  {
   "cell_type": "code",
   "execution_count": 17,
   "metadata": {},
   "outputs": [],
   "source": [
    "#FILE_CAT = 'talos_circle'\n",
    "FILE_CAT = 'talos_circle_oriented'\n",
    "#FILE_CAT = 'talos_moveEffector_flat'\n",
    "ROOT = '/media/teguh/Data/MEMMO Dataset/processed_data/' + FILE_CAT + '/'\n",
    "\n",
    "f = open(ROOT + '/raw_data.pkl', 'rb')\n",
    "data2 = pickle.load(f)\n",
    "foot_poses_test = data2['foot_poses']\n",
    "\n",
    "trajs_test = data2['trajs']\n",
    "data_phases_set = data2['data_phases_set']\n",
    "\n",
    "f.close()"
   ]
  },
  {
   "cell_type": "markdown",
   "metadata": {},
   "source": [
    "### Learning contact sequences "
   ]
  },
  {
   "cell_type": "markdown",
   "metadata": {},
   "source": [
    "#### Constructing the inputs"
   ]
  },
  {
   "cell_type": "code",
   "execution_count": 18,
   "metadata": {},
   "outputs": [],
   "source": [
    "goal_angles = []\n",
    "for i in range(len(foot_poses_test)):\n",
    "    goal_angles += [foot_poses_test[i][-1,-1]]\n",
    "\n",
    "goal_angles = np.array(goal_angles)[:,None]"
   ]
  },
  {
   "cell_type": "markdown",
   "metadata": {},
   "source": [
    "#### Resample the outputs "
   ]
  },
  {
   "cell_type": "code",
   "execution_count": 19,
   "metadata": {},
   "outputs": [],
   "source": [
    "foot_pose_output = []\n",
    "len_pose_output = []\n",
    "num_steps = 10\n",
    "for i in range(len(foot_poses_test)):\n",
    "    foot_pose = foot_poses_test[i]\n",
    "    len_pose_output += [len(foot_pose)]\n",
    "    foot_pose = foot_pose.reshape(-1,6)\n",
    "    foot_pose = subsample(foot_pose,num_steps)\n",
    "    foot_pose_output += [foot_pose.flatten()]\n",
    "\n",
    "foot_pose_output = np.array(foot_pose_output)\n",
    "len_pose_output = np.array(len_pose_output)"
   ]
  },
  {
   "cell_type": "code",
   "execution_count": 20,
   "metadata": {},
   "outputs": [],
   "source": [
    "from regression import *"
   ]
  },
  {
   "cell_type": "code",
   "execution_count": 21,
   "metadata": {},
   "outputs": [],
   "source": [
    "gpr_pose = GPy_Regressor(dim_input = 1)\n",
    "\n",
    "gpr_len_pose = GPy_Regressor(dim_input = 1)"
   ]
  },
  {
   "cell_type": "code",
   "execution_count": 72,
   "metadata": {},
   "outputs": [],
   "source": [
    "nn_pose = NN_Regressor()\n",
    "nn_len_pose = NN_Regressor()"
   ]
  },
  {
   "cell_type": "code",
   "execution_count": 23,
   "metadata": {},
   "outputs": [],
   "source": [
    "gpr_pose.fit(goal_angles,foot_pose_output)\n",
    "\n",
    "gpr_len_pose.fit(goal_angles,len_pose_output[:,None])"
   ]
  },
  {
   "cell_type": "code",
   "execution_count": 80,
   "metadata": {},
   "outputs": [],
   "source": [
    "nn_pose.fit(goal_angles,foot_poses_test[:,None])\n",
    "nn_len_pose.fit(goal_angles,len_pose_output[:,None])"
   ]
  },
  {
   "cell_type": "code",
   "execution_count": 83,
   "metadata": {},
   "outputs": [],
   "source": [
    "foot_marker.publish(foot_pose.reshape(-1,3))"
   ]
  },
  {
   "cell_type": "code",
   "execution_count": 96,
   "metadata": {},
   "outputs": [],
   "source": [
    "for foot_pose_i in (foot_pose.reshape(-1,3)):\n",
    "    foot_marker.publish([foot_pose_i])\n",
    "    time.sleep(1)"
   ]
  },
  {
   "cell_type": "code",
   "execution_count": 95,
   "metadata": {},
   "outputs": [],
   "source": [
    "for i in range(1):\n",
    "    random_angle = np.random.rand()*np.pi*2 - np.pi\n",
    "    foot_pose,_ = gpr_pose.predict(np.array([[random_angle]]))\n",
    "    translation = (np.cos(random_angle), np.sin(random_angle),0)\n",
    "    rotation = (0,0,np.sin(0.5*random_angle), np.cos(0.5*random_angle))    \n",
    "    viz.br.sendTransform(translation,rotation,rospy.Time.now(),\"goal\",\"world\")\n",
    "    foot_marker.publish(foot_pose.reshape(-1,3))\n",
    "    #raw_input()"
   ]
  },
  {
   "cell_type": "code",
   "execution_count": 24,
   "metadata": {},
   "outputs": [],
   "source": [
    "gpr_pose.save_to_file('gpr_pose')\n",
    "gpr_len_pose.save_to_file('gpr_len_pose')"
   ]
  },
  {
   "cell_type": "code",
   "execution_count": 25,
   "metadata": {},
   "outputs": [],
   "source": [
    "gpr_pose.load_from_file('gpr_pose')\n",
    "gpr_len_pose.load_from_file('gpr_len_pose')"
   ]
  },
  {
   "cell_type": "raw",
   "metadata": {},
   "source": [
    "from scipy.interpolate import interp1d\n",
    "time_int = np.linspace(0,1,len(foot_pose))\n",
    "time_int_dense = np.linspace(0,1,50)\n",
    "print time_int\n",
    "\n",
    "foot_traj = 0.5*(foot_pose[:,0:3]+foot_pose[:,3:])\n",
    "\n",
    "f1 = interp1d(time_int, foot_traj[:,0],kind='cubic')\n",
    "f2 = interp1d(time_int, foot_traj[:,1],kind='cubic')\n",
    "f3 = interp1d(time_int, foot_traj[:,2],kind='cubic')\n",
    "\n",
    "plt.figure(figsize=(16,5))\n",
    "methods = [f1,f2,f3]\n",
    "for i in range(3):\n",
    "    plt.subplot(1,3,i+1)\n",
    "    plt.plot(time_int,foot_traj[:,i],'r')\n",
    "    plt.plot(time_int_dense, methods[i](time_int_dense),'b')\n",
    "\n",
    "foot_traj_inter = np.zeros((len(time_int_dense),3))\n",
    "for i in range(3):\n",
    "    foot_traj_inter[:,i] = methods[i](time_int_dense)\n",
    "\n",
    "for i in range(len(time_int_dense)):\n",
    "    foot_marker.publish([\n",
    "        foot_traj_inter[i,:]])\n",
    "    raw_input()\n",
    "\n",
    "plt.plot(foot_traj[:,0],foot_traj[:,1],'-')\n",
    "plt.plot(methods[0](time_int_dense),methods[1](time_int_dense),'-')\n"
   ]
  },
  {
   "cell_type": "markdown",
   "metadata": {},
   "source": [
    "#### Test Prediction "
   ]
  },
  {
   "cell_type": "code",
   "execution_count": 26,
   "metadata": {},
   "outputs": [],
   "source": [
    "def calc_foot_T(x, move = 'left'):\n",
    "    #calculate the footstep transformation matrix based on the input x\n",
    "    #x is defined as: [left_foot, right_foot, 'foot_to_move']\n",
    "    x = x.reshape(-1,3)\n",
    "    Ts = []\n",
    "    for x_i in x:\n",
    "        T = PosetoMat(x_i)\n",
    "        Ts.append(T)\n",
    "    \n",
    "    if move == 'left':\n",
    "        T_lefts = [Ts[0], None, Ts[2]]\n",
    "        T_rights = [Ts[1]]*3\n",
    "    else:\n",
    "        T_rights = [Ts[1], None, Ts[2]]\n",
    "        T_lefts = [Ts[0]]*3\n",
    "        \n",
    "    return T_lefts, T_rights"
   ]
  },
  {
   "cell_type": "code",
   "execution_count": 27,
   "metadata": {},
   "outputs": [],
   "source": [
    "viz.set_rate(1000)"
   ]
  },
  {
   "cell_type": "markdown",
   "metadata": {},
   "source": [
    "#### Move to contact location "
   ]
  },
  {
   "cell_type": "code",
   "execution_count": 28,
   "metadata": {},
   "outputs": [],
   "source": [
    "keys = ['left', 'right']\n",
    "\n",
    "nn = dict()\n",
    "for key in keys:\n",
    "    x = gpr[key].gp.X\n",
    "    y = gpr[key].gp.Y\n",
    "    data = np.hstack([x,y])\n",
    "    nn[key] = NN_Regressor()\n",
    "    nn[key].fit(x,y)"
   ]
  },
  {
   "cell_type": "code",
   "execution_count": 29,
   "metadata": {},
   "outputs": [],
   "source": [
    "from ee_utils import *"
   ]
  },
  {
   "cell_type": "raw",
   "metadata": {},
   "source": [
    "gmm_data = dict()\n",
    "gmr = dict()\n",
    "for key in keys:\n",
    "    x = gpr[key].gp.X\n",
    "    y = gpr[key].gp.Y\n",
    "    dim_in = x.shape[1]\n",
    "    dim_out = y.shape[1]\n",
    "    x_joint = np.hstack([x,y])\n",
    "    #gmm_data[key] = MFA(D= dim_in + dim_out , K = 10, n_fac = 50)\n",
    "    gmm_data[key] = GMM(D= dim_in + dim_out , K = 10)\n",
    "    \n",
    "    gmm_data[key].fit(x_joint, max_iter = 100, n_init = 4)\n",
    "    gmr[key] = GMR(gmm_data[key], dim_in, dim_out)\n",
    "clear_output()"
   ]
  },
  {
   "cell_type": "raw",
   "metadata": {},
   "source": [
    "q_times = []\n",
    "for i in range(100):\n",
    "    tic = time.time()\n",
    "    gmr[key].predict(x_input)\n",
    "    toc = time.time()\n",
    "    q_times.append(toc-tic)\n",
    "print np.mean(q_times)"
   ]
  },
  {
   "cell_type": "code",
   "execution_count": 30,
   "metadata": {},
   "outputs": [],
   "source": [
    "def predict_multistep(foot_poses, func=None):\n",
    "    traj_list = []\n",
    "    foot_list = []\n",
    "    T_lefts_list = []\n",
    "    T_rights_list = []\n",
    "    data_phases = []\n",
    "    start_index = 0\n",
    "    n = len(foot_poses)/2 - 1\n",
    "    for i in range(n):\n",
    "        cur_foot_pose = foot_poses[2*i:2*i+4,:].copy()\n",
    "        foot_list.append(cur_foot_pose.copy())\n",
    "        \n",
    "        #modify the foot_pose according to the initial robot pose\n",
    "        if i == 0:\n",
    "            Twr = np.eye(4)\n",
    "        else:\n",
    "            Twr = calc_root_pose(current_q)\n",
    "            Twr[2,3] = 0\n",
    "            pose_wr = MattoPose(Twr,'2D')\n",
    "            Twr = PosetoMat(pose_wr)\n",
    "        Twr_inv = np.linalg.inv(Twr)\n",
    "        \n",
    "        #transform foot_pose\n",
    "        for j in range(len(cur_foot_pose)):\n",
    "            T = PosetoMat(cur_foot_pose[j])\n",
    "            T = np.dot(Twr_inv, T)\n",
    "            cur_foot_pose[j] = MattoPose(T)\n",
    "            \n",
    "        #predict\n",
    "        key = determine_which_foot(cur_foot_pose)\n",
    "        if key == 'left':\n",
    "            x_input = cur_foot_pose[0:3].flatten()\n",
    "        elif key == 'right':\n",
    "            x_input = np.concatenate([cur_foot_pose[0:2].flatten(), cur_foot_pose[3]])\n",
    "        else:\n",
    "            raise \n",
    "\n",
    "        w_pca,cov = func[key].predict(x_input[None,:])\n",
    "        w = func[key].pca.inverse_transform(w_pca)\n",
    "        w = w.reshape(rbf_num,-1)\n",
    "        traj = np.dot(Phi,w)\n",
    "        traj = transform_traj(traj, Twr)\n",
    "        current_q = traj[-1].copy()\n",
    "        traj_list.append(traj)\n",
    "        \n",
    "        #add data_phase and contacts for crocoddyl\n",
    "        #data_phases.append(np.arange(start_index + 0,start_index + 25))\n",
    "        #data_phases.append(np.arange(start_index + 25,start_index + 60))\n",
    "        #data_phases.append(np.arange(start_index + 60,start_index + 85))\n",
    "        data_phases.append(np.arange(start_index + 0,start_index + 25))\n",
    "        data_phases.append(np.arange(start_index + 25,start_index + 60))\n",
    "        data_phases.append(np.arange(start_index + 60,start_index + 66))\n",
    "\n",
    "        start_index += 66\n",
    "        T_lefts, T_rights = calc_foot_T(x_input, key)\n",
    "        for i in range(len(T_lefts)):\n",
    "            if T_lefts[i] is not None:\n",
    "                T_lefts_list += [np.dot(Twr,T_lefts[i])]\n",
    "            else:\n",
    "                T_lefts_list += [None]\n",
    "                                 \n",
    "            if T_rights[i] is not None:\n",
    "                T_rights_list += [np.dot(Twr,T_rights[i])]\n",
    "            else:\n",
    "                T_rights_list += [None]\n",
    "                \n",
    "    #Cut the redundant double support phase\n",
    "    num_phase = len(data_phases)\n",
    "    indexes = np.arange(num_phase-3,0,-3)\n",
    "    data_phases_ori = list(data_phases)\n",
    "\n",
    "    begin_index = 0#1001\n",
    "    end_index = 5#760\n",
    "    traj_list[0] = traj_list[0][:-end_index,:]\n",
    "    for i in range(1,len(traj_list)):\n",
    "        traj_list[i] = traj_list[i][begin_index:-end_index,:]\n",
    "\n",
    "    data_phases = list(data_phases_ori)\n",
    "    for i,index in enumerate(indexes):\n",
    "        del T_lefts_list[index]\n",
    "        del T_rights_list[index]\n",
    "        del data_phases[index]\n",
    "        for j in range(index, len(data_phases)):\n",
    "            data_phases[j] -= 25\n",
    "                    \n",
    "    return traj_list, foot_list, T_lefts_list, T_rights_list, data_phases      "
   ]
  },
  {
   "cell_type": "code",
   "execution_count": 65,
   "metadata": {},
   "outputs": [],
   "source": [
    "for i in range(len(foot_pose)):\n",
    "    foot_marker.publish(foot_pose[i:i+2])\n",
    "    time.sleep(1)"
   ]
  },
  {
   "cell_type": "code",
   "execution_count": 67,
   "metadata": {},
   "outputs": [
    {
     "name": "stdin",
     "output_type": "stream",
     "text": [
      " \n",
      " \n",
      " \n",
      " \n",
      " \n",
      " \n"
     ]
    }
   ],
   "source": [
    "for i,traj in enumerate(traj_list):\n",
    "    foot_marker.publish(foot_list[i])\n",
    "    raw_input()"
   ]
  },
  {
   "cell_type": "code",
   "execution_count": null,
   "metadata": {},
   "outputs": [],
   "source": []
  },
  {
   "cell_type": "code",
   "execution_count": 31,
   "metadata": {},
   "outputs": [],
   "source": [
    "def edit_foot_pose(foot_pose):\n",
    "    n = len(foot_pose)/2\n",
    "    for i in range(n-1):\n",
    "        if i % 2 == 0:\n",
    "            #left foot stationary\n",
    "            foot_pose[2*i+2] = foot_pose[2*i]\n",
    "        else:\n",
    "            #right foot stationary\n",
    "            foot_pose[2*i+3] = foot_pose[2*i+1]\n",
    "    return foot_pose"
   ]
  },
  {
   "cell_type": "code",
   "execution_count": 102,
   "metadata": {},
   "outputs": [
    {
     "name": "stdout",
     "output_type": "stream",
     "text": [
      "0.559859771933 18\n",
      "visualizing\n"
     ]
    }
   ],
   "source": [
    "traj_list = []\n",
    "foot_list = []\n",
    "T_lefts_list = []\n",
    "T_rights_list = []\n",
    "data_phases = []\n",
    "\n",
    "\n",
    "for k in range(2,3):\n",
    "    #foot_pose = foot_poses_test[np.random.randint(len(foot_poses_test))]\n",
    "    #foot_pose = foot_poses_test[k]\n",
    "    \n",
    "    random_angle = np.random.rand()*np.pi*2 - np.pi\n",
    "    #random_angle = 1.7599\n",
    "    #foot_pose,_ = nn_pose.predict(np.array([[random_angle]]))    \n",
    "    #foot_pose = foot_pose[0]\n",
    "    #len_foot_pose,_ = nn_len_pose.predict(np.array([[random_angle]]))\n",
    "    foot_pose,_ = gpr_pose.predict(np.array([[random_angle]]))\n",
    "    len_foot_pose,_ = gpr_len_pose.predict(np.array([[random_angle]]))\n",
    "    len_foot_pose = int(np.round(len_foot_pose[0,0]/2)*2)\n",
    "    #len_foot_pose = int(np.round(len_foot_pose[0]/2)*2)\n",
    "    \n",
    "    print random_angle, len_foot_pose\n",
    "    #foot_pose = gpr_pose.gp.Y[np.random.randint(285)]\n",
    "    foot_pose = foot_pose.reshape(-1,3)\n",
    "    \n",
    "    #subsample\n",
    "    foot_pose2 = foot_pose.reshape(-1,6)\n",
    "    foot_pose2 = subsample(foot_pose2,len_foot_pose/2)\n",
    "    foot_pose = foot_pose2.reshape(-1,3) \n",
    "    foot_pose = edit_foot_pose(foot_pose)\n",
    "    func = gpr#nn\n",
    "        \n",
    "\n",
    "    traj_list, foot_list, T_lefts_list, T_rights_list, data_phases  = predict_multistep(foot_pose, func=func)\n",
    "    print 'visualizing'\n",
    "    translation = (np.cos(random_angle), np.sin(random_angle),0)\n",
    "    rotation = (0,0,np.sin(0.5*random_angle), np.cos(0.5*random_angle))    \n",
    "    viz.br.sendTransform(translation,rotation,rospy.Time.now(),\"goal\",\"world\")\n",
    "\n",
    "    for i,traj in enumerate(traj_list):\n",
    "        foot_marker.publish(foot_list[i])\n",
    "        viz.set_dof(traj[0])\n",
    "        viz.set_rate(1000)\n",
    "        viz.vis_traj(traj)"
   ]
  },
  {
   "cell_type": "code",
   "execution_count": null,
   "metadata": {},
   "outputs": [],
   "source": []
  },
  {
   "cell_type": "code",
   "execution_count": 69,
   "metadata": {},
   "outputs": [
    {
     "name": "stdin",
     "output_type": "stream",
     "text": [
      " \n",
      " \n",
      " \n",
      " \n"
     ]
    },
    {
     "ename": "KeyboardInterrupt",
     "evalue": "",
     "output_type": "error",
     "traceback": [
      "\u001b[0;31m---------------------------------------------------------------------------\u001b[0m",
      "\u001b[0;31mKeyboardInterrupt\u001b[0m                         Traceback (most recent call last)",
      "\u001b[0;32m<ipython-input-69-05f39014aa0f>\u001b[0m in \u001b[0;36m<module>\u001b[0;34m()\u001b[0m\n\u001b[1;32m      3\u001b[0m     \u001b[0mviz\u001b[0m\u001b[0;34m.\u001b[0m\u001b[0mset_dof\u001b[0m\u001b[0;34m(\u001b[0m\u001b[0mtraj\u001b[0m\u001b[0;34m[\u001b[0m\u001b[0;36m0\u001b[0m\u001b[0;34m]\u001b[0m\u001b[0;34m)\u001b[0m\u001b[0;34m\u001b[0m\u001b[0m\n\u001b[1;32m      4\u001b[0m     \u001b[0mviz\u001b[0m\u001b[0;34m.\u001b[0m\u001b[0mset_rate\u001b[0m\u001b[0;34m(\u001b[0m\u001b[0;36m1000\u001b[0m\u001b[0;34m)\u001b[0m\u001b[0;34m\u001b[0m\u001b[0m\n\u001b[0;32m----> 5\u001b[0;31m     \u001b[0mviz\u001b[0m\u001b[0;34m.\u001b[0m\u001b[0mvis_traj\u001b[0m\u001b[0;34m(\u001b[0m\u001b[0mtraj\u001b[0m\u001b[0;34m)\u001b[0m\u001b[0;34m\u001b[0m\u001b[0m\n\u001b[0m\u001b[1;32m      6\u001b[0m     \u001b[0mraw_input\u001b[0m\u001b[0;34m(\u001b[0m\u001b[0;34m)\u001b[0m\u001b[0;34m\u001b[0m\u001b[0m\n",
      "\u001b[0;32m/home/teguh/git/memmo/memmo_talos/notebooks/memmo_utils.pyc\u001b[0m in \u001b[0;36mvis_traj\u001b[0;34m(self, traj)\u001b[0m\n\u001b[1;32m    137\u001b[0m                          )\n\u001b[1;32m    138\u001b[0m             \u001b[0mself\u001b[0m\u001b[0;34m.\u001b[0m\u001b[0mpub\u001b[0m\u001b[0;34m.\u001b[0m\u001b[0mpublish\u001b[0m\u001b[0;34m(\u001b[0m\u001b[0mself\u001b[0m\u001b[0;34m.\u001b[0m\u001b[0mhello_str\u001b[0m\u001b[0;34m)\u001b[0m\u001b[0;34m\u001b[0m\u001b[0m\n\u001b[0;32m--> 139\u001b[0;31m             \u001b[0mself\u001b[0m\u001b[0;34m.\u001b[0m\u001b[0mrate\u001b[0m\u001b[0;34m.\u001b[0m\u001b[0msleep\u001b[0m\u001b[0;34m(\u001b[0m\u001b[0;34m)\u001b[0m\u001b[0;34m\u001b[0m\u001b[0m\n\u001b[0m\u001b[1;32m    140\u001b[0m \u001b[0;34m\u001b[0m\u001b[0m\n\u001b[1;32m    141\u001b[0m     \u001b[0;32mdef\u001b[0m \u001b[0mset_dof\u001b[0m\u001b[0;34m(\u001b[0m\u001b[0mself\u001b[0m\u001b[0;34m,\u001b[0m \u001b[0mq\u001b[0m\u001b[0;34m)\u001b[0m\u001b[0;34m:\u001b[0m\u001b[0;34m\u001b[0m\u001b[0m\n",
      "\u001b[0;32m/opt/ros/kinetic/lib/python2.7/dist-packages/rospy/timer.pyc\u001b[0m in \u001b[0;36msleep\u001b[0;34m(self)\u001b[0m\n\u001b[1;32m     88\u001b[0m         \u001b[0;32mreturn\u001b[0m \u001b[0mself\u001b[0m\u001b[0;34m.\u001b[0m\u001b[0m_remaining\u001b[0m\u001b[0;34m(\u001b[0m\u001b[0mcurr_time\u001b[0m\u001b[0;34m)\u001b[0m\u001b[0;34m\u001b[0m\u001b[0m\n\u001b[1;32m     89\u001b[0m \u001b[0;34m\u001b[0m\u001b[0m\n\u001b[0;32m---> 90\u001b[0;31m     \u001b[0;32mdef\u001b[0m \u001b[0msleep\u001b[0m\u001b[0;34m(\u001b[0m\u001b[0mself\u001b[0m\u001b[0;34m)\u001b[0m\u001b[0;34m:\u001b[0m\u001b[0;34m\u001b[0m\u001b[0m\n\u001b[0m\u001b[1;32m     91\u001b[0m         \"\"\"\n\u001b[1;32m     92\u001b[0m         \u001b[0mAttempt\u001b[0m \u001b[0msleep\u001b[0m \u001b[0mat\u001b[0m \u001b[0mthe\u001b[0m \u001b[0mspecified\u001b[0m \u001b[0mrate\u001b[0m\u001b[0;34m.\u001b[0m \u001b[0msleep\u001b[0m\u001b[0;34m(\u001b[0m\u001b[0;34m)\u001b[0m \u001b[0mtakes\u001b[0m \u001b[0minto\u001b[0m\u001b[0;34m\u001b[0m\u001b[0m\n",
      "\u001b[0;31mKeyboardInterrupt\u001b[0m: "
     ]
    }
   ],
   "source": [
    "for i,traj in enumerate(traj_list):\n",
    "    foot_marker.publish(foot_list[i])\n",
    "    viz.set_dof(traj[0])\n",
    "    viz.set_rate(1000)\n",
    "    viz.vis_traj(traj)\n",
    "    raw_input()"
   ]
  },
  {
   "cell_type": "code",
   "execution_count": null,
   "metadata": {},
   "outputs": [],
   "source": [
    "foot_pose = []\n",
    "for f in foot_list:\n",
    "    for i in f:\n",
    "        foot_pose += [i]"
   ]
  },
  {
   "cell_type": "code",
   "execution_count": null,
   "metadata": {},
   "outputs": [],
   "source": [
    "foot_marker.publish(foot_pose)"
   ]
  },
  {
   "cell_type": "code",
   "execution_count": null,
   "metadata": {},
   "outputs": [],
   "source": [
    "for i,traj in enumerate(traj_list):\n",
    "    #foot_marker.publish(foot_list[i])\n",
    "    viz.set_dof(traj[0])\n",
    "    viz.set_rate(1000)\n",
    "    viz.vis_traj(traj)"
   ]
  },
  {
   "cell_type": "code",
   "execution_count": null,
   "metadata": {},
   "outputs": [],
   "source": [
    "foot_marker.set_color([ColorRGBA(0.0, 1.0, 0.0, 0.8)]*foot_marker.n)"
   ]
  },
  {
   "cell_type": "code",
   "execution_count": null,
   "metadata": {},
   "outputs": [],
   "source": [
    "FIG_FILE_NAME = \"/home/teguh/git/publications/memmo_icra_2020/figures/multi_step_\"\n"
   ]
  },
  {
   "cell_type": "code",
   "execution_count": null,
   "metadata": {},
   "outputs": [],
   "source": [
    "viz.set_dof(traj_list[0][0])\n",
    "time.sleep(0.5)\n",
    "save_screenshot(150,200,750,700, FIG_FILE_NAME + str(0) + '.png') "
   ]
  },
  {
   "cell_type": "code",
   "execution_count": null,
   "metadata": {},
   "outputs": [],
   "source": [
    "for i,traj in enumerate(traj_list):\n",
    "    viz.set_rate(1000)\n",
    "    viz.vis_traj(traj)\n",
    "    time.sleep(1)\n",
    "    save_screenshot(150,200,750,700, FIG_FILE_NAME + str(i+1) + '.png') "
   ]
  },
  {
   "cell_type": "code",
   "execution_count": null,
   "metadata": {},
   "outputs": [],
   "source": [
    "sel_indexes = [-4,-3,-2,-1]"
   ]
  },
  {
   "cell_type": "code",
   "execution_count": null,
   "metadata": {},
   "outputs": [],
   "source": [
    "def extract_root_from_traj(traj,data_phases):\n",
    "    root_poses = []\n",
    "    for data_phase in data_phases[2::2]:\n",
    "        root_pose = calc_root_pose(traj[data_phase[-1]])\n",
    "        root_poses.append(root_pose)\n",
    "    return root_poses"
   ]
  },
  {
   "cell_type": "code",
   "execution_count": null,
   "metadata": {},
   "outputs": [],
   "source": [
    "def plot_root_goals(root_poses,viz, delay = 0.6):\n",
    "    for pose in root_poses:\n",
    "        viz.br.sendTransform(pose[:3,3], derectify_quat(quaternions.mat2quat(pose[:3,:3])),\n",
    "         rospy.Time.now(),\n",
    "         \"goal\",\n",
    "         \"world\"\n",
    "         )\n",
    "        time.sleep(delay)"
   ]
  },
  {
   "cell_type": "markdown",
   "metadata": {},
   "source": [
    "#### Move to root goal"
   ]
  },
  {
   "cell_type": "raw",
   "metadata": {},
   "source": [
    "from memmo_utils import *\n",
    "\n",
    "T_left_init, T_right_init = calc_foot_pose(q_init, left_foot, right_foot)\n",
    "foot_pose_init = np.vstack([MattoPose(T_left_init,'2D'),MattoPose(T_right_init,'2D')])\n",
    "\n",
    "\n",
    "def toggle_key(key):\n",
    "    if key == 'right':\n",
    "        return 'left'\n",
    "    else:\n",
    "        return 'right'"
   ]
  },
  {
   "cell_type": "raw",
   "metadata": {},
   "source": [
    "num_step = 8\n",
    "root_poses = []\n",
    "x_root = 0.0\n",
    "y_root = 0.0\n",
    "x_inc = 0.02\n",
    "y_inc = 0.01\n",
    "angle = -0.4\n",
    "\n",
    "\n",
    "R = quaternions.quat2mat([ np.cos(angle/2), 0,0,np.sin(angle/2)])\n",
    "T = np.eye(4)\n",
    "T[:3,:3] = R\n",
    "T_cur = np.eye(4)\n",
    "T_inc = T.copy()\n",
    "\n",
    "\n",
    "\n",
    "for i in range(num_step):\n",
    "    x_root += x_inc*(1 + 0.5*(i%2))\n",
    "    y_root += y_inc\n",
    "    print x_root\n",
    "    root_pose = np.eye(4)\n",
    "    root_pose[2,3] = 1.\n",
    "    root_pose[0,3] = x_root\n",
    "    root_pose[1,3] = y_root\n",
    "    T_cur = np.dot(T_cur, T_inc)\n",
    "    root_pose = np.dot(root_pose,T_cur)\n",
    "    root_poses.append(root_pose)"
   ]
  },
  {
   "cell_type": "raw",
   "metadata": {},
   "source": [
    "traj_list = []\n",
    "root_list = []\n",
    "\n",
    "data_phases = []\n",
    "start_index = 0\n",
    "q_init = trajs_test[0][0]\n",
    "T_left_init, T_right_init = calc_foot_pose(q_init, left_foot, right_foot)\n",
    "foot_pose_init = np.vstack([MattoPose(T_left_init,'2D'),MattoPose(T_right_init,'2D')])\n",
    "key = 'right'\n",
    "\n",
    "for k in range(1):\n",
    "    #foot_pose = foot_poses[np.random.randint(len(foot_poses))]\n",
    "    #foot_pose = foot_poses_test[k]\n",
    "    traj_test = trajs_test[k]\n",
    "    #print 'Actual trajectory..'\n",
    "    #viz.vis_traj(traj_test)\n",
    "    data_phase_test = data_phases_set[k]\n",
    "    #root_poses = extract_root_from_traj(traj_test, data_phase_test)\n",
    "    print k\n",
    "    n = len(root_poses)\n",
    "    cur_foot_pose = foot_pose_init.copy()\n",
    "    traj_list = []\n",
    "    root_list = []\n",
    "    for i,root_pose in enumerate(root_poses):\n",
    "        root_pose = root_poses[i].copy()\n",
    "        root_list.append(root_pose.copy())\n",
    "        #x = np.concatenate([cur_foot_pose,MattoPose(root_pose, '7D')])\n",
    "        \n",
    "        \n",
    "        #modify the goal root_pose & cur_foot_pose according to the initial robot pose\n",
    "        if i == 0:\n",
    "            Twr = np.eye(4)\n",
    "        else:\n",
    "            Twr = calc_root_pose(current_q)\n",
    "            Twr[2,3] = 0\n",
    "        Twr_inv = np.linalg.inv(Twr)\n",
    "        \n",
    "        #transform root_pose & cur_foot_pose\n",
    "        root_pose = np.dot(Twr_inv,root_pose)\n",
    "        for j in range(len(cur_foot_pose)):\n",
    "            T = PosetoMat(cur_foot_pose[j])\n",
    "            T = np.dot(Twr_inv, T)\n",
    "            cur_foot_pose[j] = MattoPose(T)\n",
    "            \n",
    "        #predict\n",
    "        func = gpr[key]#nn\n",
    "        x_input = np.concatenate([cur_foot_pose.flatten(),MattoPose(root_pose, '7D')])\n",
    "        \n",
    "        w_pca,cov = func.predict(x_input[None,:])\n",
    "        print cov\n",
    "        w = func.pca.inverse_transform(w_pca)\n",
    "        w = w.reshape(rbf_num,-1)\n",
    "        traj = np.dot(Phi,w)\n",
    "        traj = transform_traj(traj, Twr)\n",
    "        traj = subsample(traj,2500)\n",
    "        current_q = traj[-1].copy()\n",
    "        T_left_cur, T_right_cur = calc_foot_pose(current_q, left_foot, right_foot)\n",
    "        cur_foot_pose = np.vstack([MattoPose(T_left_cur,'2D'),MattoPose(T_right_cur,'2D')])\n",
    "        key = toggle_key(key)\n",
    "        traj_list.append(traj)\n",
    "\n",
    "        #viz.vis_traj(traj)\n",
    "        \n",
    "        \n",
    "    for i,traj in enumerate(traj_list):\n",
    "        #foot_marker.publish(foot_list[i])\n",
    "        viz.br.sendTransform(root_list[i][:3,3], derectify_quat(quaternions.mat2quat(root_list[i][:3,:3])),\n",
    "         rospy.Time.now(),\n",
    "         \"goal\",\n",
    "         \"world\"\n",
    "         )\n",
    "        viz.set_dof(traj[0])\n",
    "        viz.vis_traj(traj)"
   ]
  },
  {
   "cell_type": "markdown",
   "metadata": {},
   "source": [
    "### Warmstart crocoddyl"
   ]
  },
  {
   "cell_type": "markdown",
   "metadata": {},
   "source": [
    "#### Store in Crocoddyl format "
   ]
  },
  {
   "cell_type": "markdown",
   "metadata": {},
   "source": [
    "#### Reproduction data "
   ]
  },
  {
   "cell_type": "code",
   "execution_count": null,
   "metadata": {},
   "outputs": [],
   "source": [
    "delta_t = 0.04\n",
    "traj = np.vstack(traj_list)\n",
    "T_orig = traj.shape[0]\n",
    "\n",
    "#subsample\n",
    "intervals = np.concatenate([np.arange(0,T_orig, 40), [T_orig-1]])\n",
    "T = data_phases[-1][-1]+1\n",
    "\n",
    "traj = subsample(traj,T)\n",
    "vel_traj = np.zeros((traj.shape[0], 38))\n",
    "u_traj = np.zeros((traj.shape[0], 32))\n",
    "\n",
    "\n",
    "print traj.shape, vel_traj.shape, u_traj.shape"
   ]
  },
  {
   "cell_type": "markdown",
   "metadata": {},
   "source": [
    "#### From Original data "
   ]
  },
  {
   "cell_type": "raw",
   "metadata": {},
   "source": [
    "delta_t = 0.04\n",
    "trajs_test = data['trajs']\n",
    "T_lefts_set = data['T_lefts_set']\n",
    "T_rights_set = data['T_rights_set']\n",
    "data_phases_set = data['data_phases_set']"
   ]
  },
  {
   "cell_type": "raw",
   "metadata": {},
   "source": [
    "index = 0\n",
    "traj = trajs_test[index]\n",
    "T_lefts = T_lefts_set[index]\n",
    "T_rights = T_rights_set[index]\n",
    "data_phases_full = data_phases_set[index]"
   ]
  },
  {
   "cell_type": "raw",
   "metadata": {},
   "source": [
    "T_orig = traj.shape[0]\n",
    "\n",
    "#subsample\n",
    "data_phases = subsample_phases(data_phases_full,sub_fac=40)\n",
    "\n",
    "intervals = np.concatenate([np.arange(0,T_orig, 40), [T_orig-1]])\n",
    "T = data_phases[-1][-1]+1\n",
    "traj = subsample(traj,T)\n",
    "vel_traj = np.zeros((traj.shape[0], 38))\n",
    "u_traj = np.zeros((traj.shape[0], 32))\n",
    "\n",
    "print traj.shape, vel_traj.shape, u_traj.shape"
   ]
  },
  {
   "cell_type": "markdown",
   "metadata": {},
   "source": [
    "#### Predict multi-step movements using GPR at each timestep "
   ]
  },
  {
   "cell_type": "code",
   "execution_count": null,
   "metadata": {},
   "outputs": [],
   "source": [
    "phases = store_for_crocoddyl(traj, vel_traj, u_traj, T_lefts_list, T_rights_list, data_phases, delta_t)\n",
    "pickle.dump(phases,open('data_teguh_3.txt','wb'))"
   ]
  },
  {
   "cell_type": "code",
   "execution_count": null,
   "metadata": {},
   "outputs": [],
   "source": [
    "from memmo_utils import *"
   ]
  },
  {
   "cell_type": "code",
   "execution_count": null,
   "metadata": {},
   "outputs": [],
   "source": [
    "viz.set_rate(25)\n",
    "\n",
    "examine_phases(phases, left_foot, right_foot, viz, foot_marker)"
   ]
  },
  {
   "cell_type": "markdown",
   "metadata": {},
   "source": [
    "#### Run Crocoddyl "
   ]
  },
  {
   "cell_type": "code",
   "execution_count": null,
   "metadata": {},
   "outputs": [],
   "source": [
    "from memmo_utils import *\n",
    "viz = Visual()\n",
    "\n",
    "from crocoddyl import loadTalos\n",
    "from croc_lib import *"
   ]
  },
  {
   "cell_type": "code",
   "execution_count": null,
   "metadata": {},
   "outputs": [],
   "source": [
    "ROBOT = loadTalos('/opt/openrobots/share/example-robot-data')\n",
    "problem, xs, us, ts = define_croc_problem(ROBOT,'data_teguh_3.txt', num_phases=6, is_warmstart=True)\n",
    "clear_output()"
   ]
  },
  {
   "cell_type": "raw",
   "metadata": {},
   "source": [
    "qref = np.array(ROBOT.model.referenceConfigurations['half_sitting']).flatten()"
   ]
  },
  {
   "cell_type": "code",
   "execution_count": null,
   "metadata": {},
   "outputs": [],
   "source": [
    "solver = solve_problem(ROBOT,problem,xs, us,maxiter = 50, STOP_THRESHOLD=1e-02, recalc_u=True, TYPE_OF_SOLVER='FDDP')\n",
    "traj = np.array(solver.xs)[:,0:39]"
   ]
  },
  {
   "cell_type": "code",
   "execution_count": null,
   "metadata": {},
   "outputs": [],
   "source": [
    "foot_pose = []\n",
    "for f in foot_list:\n",
    "    for i in f:\n",
    "        foot_pose += [i]"
   ]
  },
  {
   "cell_type": "code",
   "execution_count": null,
   "metadata": {},
   "outputs": [],
   "source": [
    "foot_marker.publish(foot_pose)"
   ]
  },
  {
   "cell_type": "code",
   "execution_count": null,
   "metadata": {},
   "outputs": [],
   "source": [
    "viz.set_rate(40)\n",
    "viz.vis_traj(traj)"
   ]
  },
  {
   "cell_type": "markdown",
   "metadata": {},
   "source": [
    "### Comparison between Coldstart and Warmstart "
   ]
  },
  {
   "cell_type": "code",
   "execution_count": null,
   "metadata": {},
   "outputs": [],
   "source": [
    "foot_poses_test.shape"
   ]
  },
  {
   "cell_type": "code",
   "execution_count": null,
   "metadata": {},
   "outputs": [],
   "source": [
    "from croc_lib import *\n",
    "ROBOT = loadTalos('/opt/openrobots/share/example-robot-data')\n"
   ]
  },
  {
   "cell_type": "raw",
   "metadata": {},
   "source": [
    "data_phases_ori = []\n",
    "data_phases_ori.append(np.arange(0,1001))\n",
    "data_phases_ori.append(np.arange(1001,2361))\n",
    "data_phases_ori.append(np.arange(2361, 3351))"
   ]
  },
  {
   "cell_type": "code",
   "execution_count": null,
   "metadata": {},
   "outputs": [],
   "source": [
    "viz.set_rate(1000)"
   ]
  },
  {
   "cell_type": "markdown",
   "metadata": {},
   "source": [
    "#### For video"
   ]
  },
  {
   "cell_type": "code",
   "execution_count": null,
   "metadata": {},
   "outputs": [],
   "source": [
    "gpr_trajs, croc_trajs = [],[]\n",
    "foot_steps = []"
   ]
  },
  {
   "cell_type": "code",
   "execution_count": null,
   "metadata": {},
   "outputs": [],
   "source": [
    "foot_marker.publish(foot_poses_test[29])"
   ]
  },
  {
   "cell_type": "code",
   "execution_count": null,
   "metadata": {},
   "outputs": [],
   "source": [
    "keys = ['left','right']\n",
    "file_name = 'data.txt'\n",
    " \n",
    "delta_t = 0.04\n",
    "result = dict()\n",
    "res_keys = ['gpr', 'cold']\n",
    "wm_methods = [gpr]\n",
    "for res_key in res_keys:\n",
    "    result[res_key] = dict()\n",
    "    result[res_key]['trajs'] = []\n",
    "    result[res_key]['vel_trajs'] = []\n",
    "    result[res_key]['u_trajs'] = []\n",
    "    \n",
    "    result[res_key]['n_iters'] = []\n",
    "    result[res_key]['costs'] = []\n",
    "    result[res_key]['foot_pose'] = []\n",
    "\n",
    "trajs_true = []\n",
    "    \n",
    "#indexes = [2,12,32,43,54]\n",
    "indexes = [29]\n",
    "#for i in range(35,100):\n",
    "for i in indexes[:]:\n",
    "    #for i in range(len(x_inputs_test[key])):\n",
    "    print 'Iteration ' + key + str(i)\n",
    "    #create problem\n",
    "    foot_pose = foot_poses_test[i]\n",
    "    foot_steps += [foot_pose]\n",
    "    foot_marker.publish(foot_pose)\n",
    "    traj_true = trajs_test[i]\n",
    "    trajs_true.append(traj_true)\n",
    "\n",
    "    #viz.set_rate(1000)\n",
    "    #viz.vis_traj(traj_true)\n",
    "    q_init = traj_true[0]\n",
    "    v_init = np.zeros(38)\n",
    "\n",
    "\n",
    "    #warmstart method\n",
    "    for j, func in enumerate(wm_methods):\n",
    "        res_key = res_keys[j]\n",
    "        #predict the trajectory\n",
    "        #func = gpr#nn\n",
    "        traj_list, foot_list, T_lefts_list, T_rights_list, data_phases  = predict_multistep(foot_pose, func=func)\n",
    "\n",
    "        traj = np.vstack(traj_list)\n",
    "        T_orig = traj.shape[0]\n",
    "        #subsample\n",
    "        intervals = np.concatenate([np.arange(0,T_orig, 40), [T_orig-1]])\n",
    "        T = data_phases[-1][-1]+1\n",
    "\n",
    "        traj = subsample(traj,T)\n",
    "        gpr_trajs.append(traj)\n",
    "        viz.set_rate(40)\n",
    "        #viz.vis_traj(traj)\n",
    "        vel_traj = np.zeros((traj.shape[0], 38))\n",
    "        u_traj = np.zeros((traj.shape[0], 32))\n",
    "\n",
    "\n",
    "        phases = store_for_crocoddyl(traj, vel_traj, u_traj, T_lefts_list, T_rights_list, data_phases, delta_t, q_init=q_init, v_init=v_init)\n",
    "        file_name='data_teguh_3.txt'\n",
    "        pickle.dump(phases,open(file_name,'wb'))\n",
    "\n",
    "        print 'warmstart step' + res_key\n",
    "        problem, xs, us, ts = define_croc_problem(ROBOT,file_name, num_phases=len(phases), is_warmstart=True)\n",
    "\n",
    "        solver = solve_problem(ROBOT,problem,xs, us,maxiter = 20, STOP_THRESHOLD=1e-02, recalc_u=True, TYPE_OF_SOLVER='FDDP')\n",
    "        traj = np.array(solver.xs)[:,0:39]\n",
    "        croc_trajs.append(traj)\n",
    "        viz.set_rate(40)\n",
    "\n",
    "        #viz.vis_traj(traj)\n",
    "        #raw_input()\n",
    "    clear_output()"
   ]
  },
  {
   "cell_type": "code",
   "execution_count": null,
   "metadata": {},
   "outputs": [],
   "source": [
    "keys = ['left','right']\n",
    "file_name = 'data.txt'\n",
    " \n",
    "delta_t = 0.04\n",
    "result = dict()\n",
    "res_keys = ['gpr', 'gmr', 'gpr_A', 'gmr_A','cold', 'q', 'qu', 'qv', 'qvu','q_nou', 'u']\n",
    "#wm_methods = [gpr,gmr,gpr_A, gmr_A]\n",
    "#wm_methods = [gpr,gmr]\n",
    "#wm_methods = [gpr]\n",
    "for res_key in res_keys:\n",
    "    result[res_key] = dict()\n",
    "    result[res_key]['trajs'] = []\n",
    "    result[res_key]['vel_trajs'] = []\n",
    "    result[res_key]['u_trajs'] = []\n",
    "    \n",
    "    result[res_key]['n_iters'] = []\n",
    "    result[res_key]['costs'] = []\n",
    "    result[res_key]['foot_pose'] = []\n",
    "\n",
    "trajs_true = []\n",
    "    \n",
    "\n",
    "for i in range(35):\n",
    "    for key in keys:\n",
    "        #for i in range(len(x_inputs_test[key])):\n",
    "        print 'Iteration ' + key + str(i)\n",
    "        #create problem\n",
    "        foot_pose = foot_poses_test[i]\n",
    "        foot_marker.publish(foot_pose)\n",
    "        traj_true = trajs_test[i]\n",
    "        trajs_true.append(traj_true)\n",
    "\n",
    "        #viz.set_rate(1000)\n",
    "        #viz.vis_traj(traj_true)\n",
    "        q_init = traj_true[0]\n",
    "        v_init = np.zeros(38)\n",
    "\n",
    "\n",
    "        #warmstart method\n",
    "        for j, func in enumerate(wm_methods):\n",
    "            res_key = res_keys[j]\n",
    "            #predict the trajectory\n",
    "            #func = gpr#nn\n",
    "            traj_list, foot_list, T_lefts_list, T_rights_list, data_phases  = predict_multistep(foot_pose, func=func)\n",
    "\n",
    "            traj = np.vstack(traj_list)\n",
    "            T_orig = traj.shape[0]\n",
    "            #subsample\n",
    "            intervals = np.concatenate([np.arange(0,T_orig, 40), [T_orig-1]])\n",
    "            T = data_phases[-1][-1]+1\n",
    "\n",
    "            traj = subsample(traj,T)\n",
    "\n",
    "            viz.set_rate(40)\n",
    "            viz.vis_traj(traj)\n",
    "            vel_traj = np.zeros((traj.shape[0], 38))\n",
    "            u_traj = np.zeros((traj.shape[0], 32))\n",
    "\n",
    "\n",
    "            phases = store_for_crocoddyl(traj, vel_traj, u_traj, T_lefts_list, T_rights_list, data_phases, delta_t, q_init=q_init, v_init=v_init)\n",
    "            file_name='data_teguh_3.txt'\n",
    "            pickle.dump(phases,open(file_name,'wb'))\n",
    "\n",
    "            print 'warmstart step' + res_key\n",
    "            problem, xs, us, ts = define_croc_problem(ROBOT,file_name, num_phases=7, is_warmstart=True)\n",
    "\n",
    "            solver = solve_problem(ROBOT,problem,xs, us,maxiter = 20, STOP_THRESHOLD=1e-02, recalc_u=True, TYPE_OF_SOLVER='FDDP')\n",
    "            traj = np.array(solver.xs)[:,0:39]\n",
    "            viz.set_rate(40)\n",
    "\n",
    "            #viz.vis_traj(traj)\n",
    "            result[res_key]['trajs'] += [traj]\n",
    "            result[res_key]['u_trajs'] = [solver.us]\n",
    "            result[res_key]['n_iters'] += [solver.iter]\n",
    "            result[res_key]['costs'] += [solver.cost]\n",
    "            result[res_key]['foot_pose'] += [foot_pose]\n",
    "\n",
    "        print 'coldstart step'\n",
    "        problem, xs, us, ts = define_croc_problem(ROBOT,file_name, num_phases=7, is_warmstart=False)\n",
    "\n",
    "        solver = solve_problem(ROBOT,problem,xs, us,maxiter = 20, STOP_THRESHOLD=1e-02, recalc_u=True, TYPE_OF_SOLVER='FDDP')\n",
    "        traj = np.array(solver.xs)[:,0:39]\n",
    "        res_key = 'cold'\n",
    "        result[res_key]['trajs'] += [traj]\n",
    "        result[res_key]['u_trajs'] = [solver.us]\n",
    "        result[res_key]['n_iters'] += [solver.iter]\n",
    "        result[res_key]['costs'] += [solver.cost]\n",
    "        result[res_key]['foot_pose'] += [foot_pose]\n",
    "        clear_output()\n",
    "\n",
    "        success = dict()\n",
    "        for res_key in res_keys:\n",
    "            success[res_key] = np.array(result[res_key]['costs']) < 1e3\n",
    "            print\"{0} \\t & {1:.2f} & \\t {2:.2f} $\\\\pm${3:.2f} & \\t {4:.2f} $\\\\pm$ {5:.2f}\".format(res_key,  100.*np.sum(success[res_key])/(len(success[res_key])+.000001), np.mean(np.array(result[res_key]['costs'])[success[res_key]]), np.std(np.array(result[res_key]['costs'])[success[res_key]]), np.mean(np.array(result[res_key]['n_iters'])[success[res_key]]),np.std(np.array(result[res_key]['n_iters'])[success[res_key]]))\n",
    "\n",
    "        if i%20 == 0:\n",
    "            f = open(ROOT_CROCS + '/result_multistep_circle.pkl', 'wb')\n",
    "            pickle.dump(result,f)\n",
    "            f.close()"
   ]
  },
  {
   "cell_type": "code",
   "execution_count": null,
   "metadata": {},
   "outputs": [],
   "source": [
    "sel_indexes = [-4,-3,-2,-1]"
   ]
  },
  {
   "cell_type": "code",
   "execution_count": null,
   "metadata": {},
   "outputs": [],
   "source": [
    "sel_indexes = [0,1,2,4]"
   ]
  },
  {
   "cell_type": "code",
   "execution_count": null,
   "metadata": {},
   "outputs": [],
   "source": [
    "foot_marker.publish(foot_steps[0])"
   ]
  },
  {
   "cell_type": "code",
   "execution_count": null,
   "metadata": {},
   "outputs": [],
   "source": [
    "for i in sel_indexes[-1:]:\n",
    "    print i\n",
    "    foot_marker.publish(foot_steps[i])\n",
    "    viz.vis_traj(gpr_trajs[i])\n",
    "    raw_input()"
   ]
  },
  {
   "cell_type": "code",
   "execution_count": null,
   "metadata": {},
   "outputs": [],
   "source": [
    "FIG_FILE_NAME = \"/home/teguh/git/publications/memmo_icra_2020/videos/multistep_gpr_\""
   ]
  },
  {
   "cell_type": "code",
   "execution_count": null,
   "metadata": {},
   "outputs": [],
   "source": [
    "record_video(np.array(foot_steps)[sel_indexes],np.array(gpr_trajs)[sel_indexes], FIG_FILE_NAME)"
   ]
  },
  {
   "cell_type": "code",
   "execution_count": null,
   "metadata": {},
   "outputs": [],
   "source": [
    "os.system('ffmpeg -r 25 -start_number 0 -i /home/teguh/git/publications/memmo_icra_2020/videos/multistep_gpr_%d.png -c:v libx264 -r 30 -pix_fmt yuv420p /home/teguh/git/publications/memmo_icra_2020/videos/multistep_gpr.mp4')"
   ]
  },
  {
   "cell_type": "code",
   "execution_count": null,
   "metadata": {},
   "outputs": [],
   "source": [
    "FIG_FILE_NAME = \"/home/teguh/git/publications/memmo_icra_2020/videos/multistep_croc_\""
   ]
  },
  {
   "cell_type": "code",
   "execution_count": null,
   "metadata": {},
   "outputs": [],
   "source": [
    "record_video(np.array(foot_steps)[sel_indexes],np.array(croc_trajs)[sel_indexes], FIG_FILE_NAME)"
   ]
  },
  {
   "cell_type": "code",
   "execution_count": null,
   "metadata": {},
   "outputs": [],
   "source": [
    "os.system('ffmpeg -r 25 -start_number 0 -i /home/teguh/git/publications/memmo_icra_2020/videos/multistep_croc_%d.png -c:v libx264 -r 30 -pix_fmt yuv420p /home/teguh/git/publications/memmo_icra_2020/videos/multistep_croc.mp4')"
   ]
  },
  {
   "cell_type": "code",
   "execution_count": null,
   "metadata": {},
   "outputs": [],
   "source": [
    "filename = '/home/teguh/git/publications/memmo_icra_2020/videos/final_video_'"
   ]
  },
  {
   "cell_type": "code",
   "execution_count": null,
   "metadata": {},
   "outputs": [],
   "source": [
    "#time.sleep(5)\n",
    "tic = time.time()\n",
    "save_screenshot(pb,240,0,1440,900, filename + '00.png')\n",
    "toc = time.time()\n",
    "print toc-tic"
   ]
  },
  {
   "cell_type": "code",
   "execution_count": null,
   "metadata": {},
   "outputs": [],
   "source": [
    "import gtk.gdk\n",
    "\n",
    "def save_screenshot(x,y,w,h,file_name):\n",
    "    window = gtk.gdk.get_default_root_window()\n",
    "    pb = gtk.gdk.Pixbuf(gtk.gdk.COLORSPACE_RGB,False,8,w,h)\n",
    "    pb = pb.get_from_drawable(window,window.get_colormap(),x,y,0,0,w,h)\n",
    "    #pb = pb.subpixbuf(int(x),int(y),int(w),int(h)) \n",
    "    if (pb != None):\n",
    "        pb.save(file_name,\"png\")\n",
    "        #print \"Screenshot saved.\""
   ]
  },
  {
   "cell_type": "code",
   "execution_count": null,
   "metadata": {},
   "outputs": [],
   "source": [
    "import gtk.gdk\n",
    "def save_screenshot(x,y,w,h,file_name):\n",
    "    window = gtk.gdk.get_default_root_window()\n",
    "    sz = window.get_size()\n",
    "    print \"The size of the window is %d x %d\" % sz\n",
    "    pb = gtk.gdk.Pixbuf(gtk.gdk.COLORSPACE_RGB,False,8,sz[0],sz[1])\n",
    "    pb = pb.get_from_drawable(window,window.get_colormap(),0,0,0,0,sz[0],sz[1])\n",
    "    pb = pb.subpixbuf(int(x),int(y),int(w),int(h)) \n",
    "    if (pb != None):\n",
    "        pb.save(file_name,\"png\")\n",
    "        print \"Screenshot saved.\"\n",
    "    else:\n",
    "        print \"Unable to get the screenshot.\""
   ]
  },
  {
   "cell_type": "code",
   "execution_count": null,
   "metadata": {},
   "outputs": [],
   "source": [
    "time.sleep(5)\n",
    "#for i in range(3600):\n",
    "for i in range(600):\n",
    "    print i\n",
    "    save_screenshot(240,0,1440,900, filename + str(i) + '.png')\n",
    "    #time.sleep(0.0333)"
   ]
  },
  {
   "cell_type": "code",
   "execution_count": null,
   "metadata": {},
   "outputs": [],
   "source": [
    "os.system('ffmpeg -r 10 -start_number 0 -i /home/teguh/git/publications/memmo_icra_2020/videos/final_video_%d.png -c:v libx264 -r 30 -pix_fmt yuv420p /home/teguh/git/publications/memmo_icra_2020/videos/final_video.mp4')"
   ]
  },
  {
   "cell_type": "code",
   "execution_count": null,
   "metadata": {},
   "outputs": [],
   "source": []
  },
  {
   "cell_type": "code",
   "execution_count": null,
   "metadata": {},
   "outputs": [],
   "source": [
    "def record_video(foot_steps, trajs,file_name):\n",
    "    fig_index = 0\n",
    "    for i,traj in enumerate(trajs):\n",
    "        foot_marker.publish([])\n",
    "        foot_marker.publish(foot_steps[i])\n",
    "        viz.set_dof(traj[0])\n",
    "        time.sleep(0.2)\n",
    "        for j,index in enumerate(np.arange(0,len(traj))):\n",
    "            viz.set_dof(traj[index])\n",
    "            time.sleep(0.02)\n",
    "            save_screenshot(150,200,800,700, file_name +  str(fig_index) + '.png') \n",
    "            fig_index +=1\n",
    "        for k in range(20):\n",
    "            save_screenshot(150,200,800,700, file_name  +  str(fig_index)  + '.png') \n",
    "            fig_index +=1\n",
    "        clear_output()"
   ]
  },
  {
   "cell_type": "code",
   "execution_count": null,
   "metadata": {},
   "outputs": [],
   "source": [
    "f = open(ROOT_CROCS + '/result_multistep_circle.pkl', 'wb')\n",
    "pickle.dump(result,f)\n",
    "f.close()"
   ]
  },
  {
   "cell_type": "code",
   "execution_count": null,
   "metadata": {},
   "outputs": [],
   "source": [
    "f = open(ROOT_CROCS + '/result_multistep2.pkl', 'wb')\n",
    "pickle.dump(result,f)\n",
    "f.close()"
   ]
  },
  {
   "cell_type": "code",
   "execution_count": null,
   "metadata": {},
   "outputs": [],
   "source": [
    "f = open(ROOT_CROCS + '/result_multistep.pkl', 'rb')\n",
    "result2 = pickle.load(f)\n",
    "f.close()"
   ]
  },
  {
   "cell_type": "code",
   "execution_count": null,
   "metadata": {},
   "outputs": [],
   "source": [
    "success = dict()\n",
    "for res_key in res_keys:\n",
    "    success[res_key] = np.array(result2[res_key]['costs']) < 1e3\n",
    "    print\"{0} \\t & {1:.2f} & \\t {2:.2f} $\\\\pm${3:.2f} & \\t {4:.2f} $\\\\pm$ {5:.2f}\".format(res_key,  100.*np.sum(success[res_key])/(len(success[res_key])+.000001), np.mean(np.array(result2[res_key]['costs'])[success[res_key]]), np.std(np.array(result2[res_key]['costs'])[success[res_key]]), np.mean(np.array(result2[res_key]['n_iters'])[success[res_key]]+1),np.std(np.array(result2[res_key]['n_iters'])[success[res_key]]+1))"
   ]
  },
  {
   "cell_type": "code",
   "execution_count": null,
   "metadata": {},
   "outputs": [],
   "source": [
    "success = dict()\n",
    "for res_key in res_keys:\n",
    "    success[res_key] = np.array(result[res_key]['costs']) < 1e3\n",
    "    print\"{0} \\t & {1:.2f} & \\t {2:.2f} $\\\\pm${3:.2f} & \\t {4:.2f} $\\\\pm$ {5:.2f}\".format(res_key,  100.*np.sum(success[res_key])/(len(success[res_key])+.000001), np.mean(np.array(result[res_key]['costs'])[success[res_key]]), np.std(np.array(result[res_key]['costs'])[success[res_key]]), np.mean(np.array(result[res_key]['n_iters'])[success[res_key]]+1),np.std(np.array(result[res_key]['n_iters'])[success[res_key]]+1))"
   ]
  },
  {
   "cell_type": "code",
   "execution_count": null,
   "metadata": {},
   "outputs": [],
   "source": [
    "gpr_A[key].gp.Y.shape"
   ]
  },
  {
   "cell_type": "code",
   "execution_count": null,
   "metadata": {},
   "outputs": [],
   "source": [
    "len(solver.problem.runningDatas)"
   ]
  },
  {
   "cell_type": "code",
   "execution_count": null,
   "metadata": {},
   "outputs": [],
   "source": [
    "a = solver.problem.runningDatas[3]"
   ]
  },
  {
   "cell_type": "code",
   "execution_count": null,
   "metadata": {},
   "outputs": [],
   "source": [
    " a.differential.costs.costs"
   ]
  },
  {
   "cell_type": "code",
   "execution_count": null,
   "metadata": {},
   "outputs": [],
   "source": [
    "b = a.differential.costs.costs['ctrlReg']"
   ]
  },
  {
   "cell_type": "code",
   "execution_count": null,
   "metadata": {},
   "outputs": [],
   "source": [
    "b.cost"
   ]
  },
  {
   "cell_type": "code",
   "execution_count": null,
   "metadata": {},
   "outputs": [],
   "source": [
    "b.cost"
   ]
  },
  {
   "cell_type": "code",
   "execution_count": null,
   "metadata": {},
   "outputs": [],
   "source": [
    "viz.vis_traj(result['gpr']['trajs'][0])"
   ]
  },
  {
   "cell_type": "code",
   "execution_count": null,
   "metadata": {},
   "outputs": [],
   "source": [
    "viz.vis_traj(result['gpr_A']['trajs'][0])"
   ]
  },
  {
   "cell_type": "code",
   "execution_count": null,
   "metadata": {},
   "outputs": [],
   "source": [
    "viz.vis_traj(result['gmr']['trajs'][0])"
   ]
  },
  {
   "cell_type": "code",
   "execution_count": null,
   "metadata": {},
   "outputs": [],
   "source": [
    "viz.vis_traj(result['cold']['trajs'][0])"
   ]
  },
  {
   "cell_type": "code",
   "execution_count": null,
   "metadata": {},
   "outputs": [],
   "source": [
    "index = 0\n",
    "traj1 = result['gpr']['trajs'][index]\n",
    "traj2 = result['cold']['trajs'][index]"
   ]
  },
  {
   "cell_type": "code",
   "execution_count": null,
   "metadata": {},
   "outputs": [],
   "source": [
    "for i in range(traj1.shape[1]):\n",
    "    print i\n",
    "    plt.plot(traj1[:,i],'r')\n",
    "    plt.plot(traj2[:,i],'b')\n",
    "    plt.show()\n",
    "    raw_input()\n",
    "    plt.clf()\n",
    "    clear_output()"
   ]
  },
  {
   "cell_type": "code",
   "execution_count": null,
   "metadata": {},
   "outputs": [],
   "source": [
    "    \n",
    "    #predict the trajectories\n",
    "    w_pca,cov = gpr[key].predict(x_input)\n",
    "    w = gpr[key].pca.inverse_transform(w_pca)\n",
    "    w = w.reshape(rbf_num,-1)\n",
    "    traj = np.dot(Phi,w)\n",
    "\n",
    "    w_pca,cov = gpr_vel[key].predict(x_input)\n",
    "    w = gpr_vel[key].pca.inverse_transform(w_pca)\n",
    "    w = w.reshape(rbf_num,-1)\n",
    "    vel_traj = np.dot(Phi,w)\n",
    "\n",
    "    w_pca,cov = gpr_u[key].predict(x_input)\n",
    "    w = gpr_u[key].pca.inverse_transform(w_pca)\n",
    "    w = w.reshape(rbf_num,-1)\n",
    "    u_traj = np.dot(Phi,w)\n",
    "\n",
    "    wm_comps = ['q', 'qu', 'q_nou', 'u']\n",
    "    for res_key in wm_comps:\n",
    "        if res_key == 'q':\n",
    "            inputs = [traj.copy(),None,None]\n",
    "            recalc = True\n",
    "        elif res_key == 'q_nou':\n",
    "            inputs = [traj.copy(),None,None]\n",
    "            recalc = False\n",
    "        elif res_key == 'qu':\n",
    "            inputs = [traj.copy(),None,u_traj]\n",
    "            recalc = False\n",
    "        elif res_key == 'qv':\n",
    "            inputs = [traj.copy(),vel_traj,None]\n",
    "            recalc = True\n",
    "        elif res_key == 'qvu':\n",
    "            inputs = [traj.copy(),vel_traj,u_traj]\n",
    "            recalc = False\n",
    "        elif res_key == 'u':\n",
    "            inputs = [traj.copy()*0,None,u_traj]\n",
    "            recalc = False\n",
    "            \n",
    "        \n",
    "        traj_mod,_ = convert_to_croc_format(x_input,traj=inputs[0], vel_traj = inputs[1], \\\n",
    "                                u_traj = inputs[2], key = key, data_phases = data_phases_ori,\\\n",
    "                                q_init = q_init, v_init = v_init, filename=file_name)\n",
    "        print 'warmstart step' + res_key\n",
    "        problem, xs, us, ts = define_croc_problem(ROBOT,file_name, num_phases=3, is_warmstart=True)\n",
    "\n",
    "        solver = solve_problem(ROBOT,problem,xs, us,maxiter = 20, STOP_THRESHOLD=1e-02, recalc_u=recalc, TYPE_OF_SOLVER='FDDP')\n",
    "        res_traj = np.array(solver.xs)[:,0:39]\n",
    "        result[res_key]['trajs'] += [res_traj]\n",
    "        result[res_key]['vel_trajs'] += [np.array(solver.xs)[:,39:]]\n",
    "        result[res_key]['u_trajs'] += [np.array(solver.us)]\n",
    "        result[res_key]['n_iters'] += [solver.iter]\n",
    "        result[res_key]['costs'] += [solver.cost]\n",
    "        result[res_key]['x_inputs'] += [x_input]\n",
    "    \n",
    "    \n",
    "    \n",
    "    \n",
    "    clear_output()"
   ]
  }
 ],
 "metadata": {
  "kernelspec": {
   "display_name": "Python 2",
   "language": "python",
   "name": "python2"
  },
  "language_info": {
   "codemirror_mode": {
    "name": "ipython",
    "version": 2
   },
   "file_extension": ".py",
   "mimetype": "text/x-python",
   "name": "python",
   "nbconvert_exporter": "python",
   "pygments_lexer": "ipython2",
   "version": "2.7.12"
  }
 },
 "nbformat": 4,
 "nbformat_minor": 4
}
